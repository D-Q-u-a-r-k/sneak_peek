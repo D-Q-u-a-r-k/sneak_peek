{
 "cells": [
  {
   "cell_type": "markdown",
   "metadata": {},
   "source": [
    "# LATEX"
   ]
  },
  {
   "cell_type": "markdown",
   "metadata": {
    "heading_collapsed": true
   },
   "source": [
    "## Basics"
   ]
  },
  {
   "cell_type": "markdown",
   "metadata": {
    "hidden": true
   },
   "source": [
    "Anything inside 2 dollar sign is latex "
   ]
  },
  {
   "cell_type": "markdown",
   "metadata": {
    "hidden": true
   },
   "source": [
    "$\\ A\\ B\\ observe\\ the\\ space\\ $    "
   ]
  },
  {
   "cell_type": "markdown",
   "metadata": {
    "heading_collapsed": true
   },
   "source": [
    "## Greek Alphabet - commonly used in maths for notations"
   ]
  },
  {
   "cell_type": "markdown",
   "metadata": {
    "heading_collapsed": true,
    "hidden": true
   },
   "source": [
    "### Lower case"
   ]
  },
  {
   "cell_type": "markdown",
   "metadata": {
    "hidden": true
   },
   "source": [
    "$\\alpha\\ \\beta\\ \\gamma\\ \\delta\\ \\epsilon\\ $   (alpha, beta, gamma, delta, epsilon)"
   ]
  },
  {
   "cell_type": "markdown",
   "metadata": {
    "hidden": true
   },
   "source": [
    "$ \\varepsilon\\ \\zeta\\ \\eta\\ \\theta\\ \\iota\\ $ (epsilon, zeta, eta, theta, iota)"
   ]
  },
  {
   "cell_type": "markdown",
   "metadata": {
    "hidden": true
   },
   "source": [
    "$\\kappa\\ \\lambda\\ \\mu\\ \\nu\\ \\xi\\ $(kappa, lambda, mu, nu, xi)"
   ]
  },
  {
   "cell_type": "markdown",
   "metadata": {
    "hidden": true
   },
   "source": [
    "$\\omicron\\ \\pi\\ \\rho\\ \\sigma\\ \\tau\\ $(omicron, pi, rho, sigma, tau)"
   ]
  },
  {
   "cell_type": "markdown",
   "metadata": {
    "hidden": true
   },
   "source": [
    "$\\upsilon\\ \\phi\\ \\varphi\\ \\chi\\ \\psi\\ \\omega\\ $(upsilon, phi, (phi), chi, psi, omega)"
   ]
  },
  {
   "cell_type": "markdown",
   "metadata": {
    "heading_collapsed": true,
    "hidden": true
   },
   "source": [
    "### Upper Case"
   ]
  },
  {
   "cell_type": "markdown",
   "metadata": {
    "hidden": true
   },
   "source": [
    "$A\\ B\\ \\Gamma\\ \\Delta\\ E\\ $   (alpha, beta, gamma, delta, epsilon)"
   ]
  },
  {
   "cell_type": "markdown",
   "metadata": {
    "hidden": true
   },
   "source": [
    "$ E\\ Z\\ H\\ \\Theta\\ I\\ $ (epsilon, zeta, eta, theta, iota)"
   ]
  },
  {
   "cell_type": "markdown",
   "metadata": {
    "hidden": true
   },
   "source": [
    "$K\\ \\Lambda\\ M\\ N\\ \\Xi\\ $(kappa, lambda, mu, nu, xi)"
   ]
  },
  {
   "cell_type": "markdown",
   "metadata": {
    "hidden": true
   },
   "source": [
    "$O\\ \\Pi\\ P\\ \\Sigma\\ T\\ $(omicron, pi, rho, sigma, tau)"
   ]
  },
  {
   "cell_type": "markdown",
   "metadata": {
    "hidden": true
   },
   "source": [
    "$Y\\ \\Phi\\ \\varphi\\ X\\ \\Psi\\ \\Omega\\ $(upsilon, phi, (phi), chi, psi, omega)"
   ]
  },
  {
   "cell_type": "markdown",
   "metadata": {
    "heading_collapsed": true
   },
   "source": [
    "## Mathematical "
   ]
  },
  {
   "cell_type": "markdown",
   "metadata": {
    "heading_collapsed": true,
    "hidden": true
   },
   "source": [
    "### Set"
   ]
  },
  {
   "cell_type": "markdown",
   "metadata": {
    "hidden": true
   },
   "source": [
    "$A\\ \\colon B$"
   ]
  },
  {
   "cell_type": "markdown",
   "metadata": {
    "hidden": true
   },
   "source": [
    "$A\\cup B\\ \\ $     Union"
   ]
  },
  {
   "cell_type": "markdown",
   "metadata": {},
   "source": [
    "## Links"
   ]
  },
  {
   "cell_type": "markdown",
   "metadata": {},
   "source": [
    "<a href =https://en.wikipedia.org/wiki/List_of_mathematical_symbols_by_subject> Latex Wiki Link </a>\n",
    "\n"
   ]
  },
  {
   "cell_type": "markdown",
   "metadata": {},
   "source": [
    "<a href =https://oeis.org/wiki/List_of_LaTeX_mathematical_symbols> Latex more commands </a>"
   ]
  },
  {
   "cell_type": "markdown",
   "metadata": {},
   "source": [
    "<a href =https://www.calvin.edu/~rpruim/courses/m343/F12/RStudio/LatexExamples.html> Latex more commands </a>"
   ]
  },
  {
   "cell_type": "markdown",
   "metadata": {},
   "source": [
    "<a href =https://texblog.org/2012/08/29/changing-the-font-size-in-latex/> Latex font size </a>"
   ]
  },
  {
   "cell_type": "markdown",
   "metadata": {
    "heading_collapsed": true
   },
   "source": [
    "## Function"
   ]
  },
  {
   "cell_type": "markdown",
   "metadata": {
    "hidden": true
   },
   "source": [
    "$f(x) = x^2 + 2x$"
   ]
  },
  {
   "cell_type": "markdown",
   "metadata": {
    "hidden": true
   },
   "source": [
    "$f(x)=\\oint_{0}^{1}{f(x)}$"
   ]
  }
 ],
 "metadata": {
  "kernelspec": {
   "display_name": "Python 3",
   "language": "python",
   "name": "python3"
  },
  "language_info": {
   "codemirror_mode": {
    "name": "ipython",
    "version": 3
   },
   "file_extension": ".py",
   "mimetype": "text/x-python",
   "name": "python",
   "nbconvert_exporter": "python",
   "pygments_lexer": "ipython3",
   "version": "3.7.1"
  }
 },
 "nbformat": 4,
 "nbformat_minor": 2
}
