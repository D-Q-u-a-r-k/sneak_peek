{
 "cells": [
  {
   "cell_type": "markdown",
   "metadata": {
    "heading_collapsed": true
   },
   "source": [
    "# Playing with pandas"
   ]
  },
  {
   "cell_type": "code",
   "execution_count": 8,
   "metadata": {
    "hidden": true
   },
   "outputs": [],
   "source": [
    "import numpy as np\n",
    "import pandas as pd\n",
    "import matplotlib.pyplot as plt"
   ]
  },
  {
   "cell_type": "markdown",
   "metadata": {
    "hidden": true
   },
   "source": [
    "## Creating"
   ]
  },
  {
   "cell_type": "markdown",
   "metadata": {
    "hidden": true
   },
   "source": [
    "### Creating a series and by passing list of values, letting pandas create a default integer index:"
   ]
  },
  {
   "cell_type": "code",
   "execution_count": 9,
   "metadata": {
    "hidden": true
   },
   "outputs": [
    {
     "name": "stdout",
     "output_type": "stream",
     "text": [
      "0    1.0\n",
      "1    3.0\n",
      "2    5.0\n",
      "3    NaN\n",
      "4    6.0\n",
      "5    8.0\n",
      "dtype: float64\n"
     ]
    }
   ],
   "source": [
    "s = pd.Series([1,3,5,np.nan,6,8])\n",
    "#s = pd.Series([1,3,5,np.nan,6,8], index =list('ABCDEF'), dtype = 'float32')\n",
    "print(s)\n",
    "#print(len(pd.isnull(s)))"
   ]
  },
  {
   "cell_type": "raw",
   "metadata": {
    "hidden": true
   },
   "source": [
    "### Creating a Dataframe by passing a Numpy array, with a datetime index and labelled columns"
   ]
  },
  {
   "cell_type": "code",
   "execution_count": 10,
   "metadata": {
    "hidden": true
   },
   "outputs": [
    {
     "data": {
      "text/plain": [
       "DatetimeIndex(['2018-12-07', '2018-12-08', '2018-12-09', '2018-12-10',\n",
       "               '2018-12-11', '2018-12-12'],\n",
       "              dtype='datetime64[ns]', freq='D')"
      ]
     },
     "execution_count": 10,
     "metadata": {},
     "output_type": "execute_result"
    }
   ],
   "source": [
    "dates = pd.date_range('20181207', periods=6)\n",
    "dates"
   ]
  },
  {
   "cell_type": "code",
   "execution_count": 11,
   "metadata": {
    "hidden": true
   },
   "outputs": [
    {
     "data": {
      "text/html": [
       "<div>\n",
       "<style scoped>\n",
       "    .dataframe tbody tr th:only-of-type {\n",
       "        vertical-align: middle;\n",
       "    }\n",
       "\n",
       "    .dataframe tbody tr th {\n",
       "        vertical-align: top;\n",
       "    }\n",
       "\n",
       "    .dataframe thead th {\n",
       "        text-align: right;\n",
       "    }\n",
       "</style>\n",
       "<table border=\"1\" class=\"dataframe\">\n",
       "  <thead>\n",
       "    <tr style=\"text-align: right;\">\n",
       "      <th></th>\n",
       "      <th>Aman</th>\n",
       "      <th>Deepa</th>\n",
       "      <th>SAS</th>\n",
       "      <th>Nigga</th>\n",
       "    </tr>\n",
       "  </thead>\n",
       "  <tbody>\n",
       "    <tr>\n",
       "      <th>2018-12-07</th>\n",
       "      <td>-1.617787</td>\n",
       "      <td>-0.568728</td>\n",
       "      <td>1.846747</td>\n",
       "      <td>-1.071114</td>\n",
       "    </tr>\n",
       "    <tr>\n",
       "      <th>2018-12-08</th>\n",
       "      <td>0.139492</td>\n",
       "      <td>0.358108</td>\n",
       "      <td>-0.567163</td>\n",
       "      <td>0.282572</td>\n",
       "    </tr>\n",
       "    <tr>\n",
       "      <th>2018-12-09</th>\n",
       "      <td>-1.619657</td>\n",
       "      <td>-1.530209</td>\n",
       "      <td>2.261449</td>\n",
       "      <td>-0.472735</td>\n",
       "    </tr>\n",
       "    <tr>\n",
       "      <th>2018-12-10</th>\n",
       "      <td>-0.692662</td>\n",
       "      <td>0.084112</td>\n",
       "      <td>0.204471</td>\n",
       "      <td>-0.828056</td>\n",
       "    </tr>\n",
       "    <tr>\n",
       "      <th>2018-12-11</th>\n",
       "      <td>-0.224315</td>\n",
       "      <td>-1.601540</td>\n",
       "      <td>0.594835</td>\n",
       "      <td>0.457793</td>\n",
       "    </tr>\n",
       "    <tr>\n",
       "      <th>2018-12-12</th>\n",
       "      <td>-0.773819</td>\n",
       "      <td>0.061578</td>\n",
       "      <td>2.283801</td>\n",
       "      <td>-0.543336</td>\n",
       "    </tr>\n",
       "  </tbody>\n",
       "</table>\n",
       "</div>"
      ],
      "text/plain": [
       "                Aman     Deepa       SAS     Nigga\n",
       "2018-12-07 -1.617787 -0.568728  1.846747 -1.071114\n",
       "2018-12-08  0.139492  0.358108 -0.567163  0.282572\n",
       "2018-12-09 -1.619657 -1.530209  2.261449 -0.472735\n",
       "2018-12-10 -0.692662  0.084112  0.204471 -0.828056\n",
       "2018-12-11 -0.224315 -1.601540  0.594835  0.457793\n",
       "2018-12-12 -0.773819  0.061578  2.283801 -0.543336"
      ]
     },
     "execution_count": 11,
     "metadata": {},
     "output_type": "execute_result"
    }
   ],
   "source": [
    "a = ('Aman', 'Deepa', \"SAS\", 'Nigga')\n",
    "#df = pd.DataFrame(np.random.randn(6,4), index = dates, columns = list('ABCD'))\n",
    "df = pd.DataFrame(np.random.randn(6,4), index = dates, columns = a)\n",
    "df"
   ]
  },
  {
   "cell_type": "markdown",
   "metadata": {
    "hidden": true
   },
   "source": [
    "### Creating a dataframe by passing a dict of objects that can be converted to series-like"
   ]
  },
  {
   "cell_type": "code",
   "execution_count": 12,
   "metadata": {
    "hidden": true
   },
   "outputs": [
    {
     "data": {
      "text/html": [
       "<div>\n",
       "<style scoped>\n",
       "    .dataframe tbody tr th:only-of-type {\n",
       "        vertical-align: middle;\n",
       "    }\n",
       "\n",
       "    .dataframe tbody tr th {\n",
       "        vertical-align: top;\n",
       "    }\n",
       "\n",
       "    .dataframe thead th {\n",
       "        text-align: right;\n",
       "    }\n",
       "</style>\n",
       "<table border=\"1\" class=\"dataframe\">\n",
       "  <thead>\n",
       "    <tr style=\"text-align: right;\">\n",
       "      <th></th>\n",
       "      <th>A</th>\n",
       "      <th>B</th>\n",
       "      <th>C</th>\n",
       "      <th>D</th>\n",
       "      <th>E</th>\n",
       "      <th>F</th>\n",
       "    </tr>\n",
       "  </thead>\n",
       "  <tbody>\n",
       "    <tr>\n",
       "      <th>0</th>\n",
       "      <td>1.0</td>\n",
       "      <td>2018-12-07</td>\n",
       "      <td>1.0</td>\n",
       "      <td>3</td>\n",
       "      <td>Test</td>\n",
       "      <td>foo</td>\n",
       "    </tr>\n",
       "    <tr>\n",
       "      <th>1</th>\n",
       "      <td>1.0</td>\n",
       "      <td>2018-12-07</td>\n",
       "      <td>1.0</td>\n",
       "      <td>3</td>\n",
       "      <td>Train</td>\n",
       "      <td>foo</td>\n",
       "    </tr>\n",
       "    <tr>\n",
       "      <th>2</th>\n",
       "      <td>1.0</td>\n",
       "      <td>2018-12-07</td>\n",
       "      <td>1.0</td>\n",
       "      <td>3</td>\n",
       "      <td>Test</td>\n",
       "      <td>foo</td>\n",
       "    </tr>\n",
       "    <tr>\n",
       "      <th>3</th>\n",
       "      <td>1.0</td>\n",
       "      <td>2018-12-07</td>\n",
       "      <td>1.0</td>\n",
       "      <td>3</td>\n",
       "      <td>Train</td>\n",
       "      <td>foo</td>\n",
       "    </tr>\n",
       "  </tbody>\n",
       "</table>\n",
       "</div>"
      ],
      "text/plain": [
       "     A          B    C  D      E    F\n",
       "0  1.0 2018-12-07  1.0  3   Test  foo\n",
       "1  1.0 2018-12-07  1.0  3  Train  foo\n",
       "2  1.0 2018-12-07  1.0  3   Test  foo\n",
       "3  1.0 2018-12-07  1.0  3  Train  foo"
      ]
     },
     "execution_count": 12,
     "metadata": {},
     "output_type": "execute_result"
    }
   ],
   "source": [
    "df2 = pd.DataFrame({\n",
    "    'A': 1.,\n",
    "    'B': pd.Timestamp('20181207'),\n",
    "    'C': pd.Series(1, index = list(range(4)), dtype = 'float32'),\n",
    "    'D': np.array([3]*4, dtype = 'int32'),\n",
    "    'E': pd.Categorical(['Test','Train','Test','Train']),\n",
    "    'F': 'foo'\n",
    "})\n",
    "df2"
   ]
  },
  {
   "cell_type": "code",
   "execution_count": 13,
   "metadata": {
    "hidden": true
   },
   "outputs": [
    {
     "data": {
      "text/plain": [
       "A           float64\n",
       "B    datetime64[ns]\n",
       "C           float32\n",
       "D             int32\n",
       "E          category\n",
       "F            object\n",
       "dtype: object"
      ]
     },
     "execution_count": 13,
     "metadata": {},
     "output_type": "execute_result"
    }
   ],
   "source": [
    "df2.dtypes"
   ]
  },
  {
   "cell_type": "code",
   "execution_count": 14,
   "metadata": {
    "hidden": true
   },
   "outputs": [
    {
     "data": {
      "text/plain": [
       "<bound method NDFrame.abs of      A          B    C  D      E    F\n",
       "0  1.0 2018-12-07  1.0  3   Test  foo\n",
       "1  1.0 2018-12-07  1.0  3  Train  foo\n",
       "2  1.0 2018-12-07  1.0  3   Test  foo\n",
       "3  1.0 2018-12-07  1.0  3  Train  foo>"
      ]
     },
     "execution_count": 14,
     "metadata": {},
     "output_type": "execute_result"
    }
   ],
   "source": [
    "df2.abs"
   ]
  },
  {
   "cell_type": "code",
   "execution_count": 15,
   "metadata": {
    "hidden": true
   },
   "outputs": [
    {
     "data": {
      "text/plain": [
       "<bound method _arith_method_FRAME.<locals>.f of      A          B    C  D      E    F\n",
       "0  1.0 2018-12-07  1.0  3   Test  foo\n",
       "1  1.0 2018-12-07  1.0  3  Train  foo\n",
       "2  1.0 2018-12-07  1.0  3   Test  foo\n",
       "3  1.0 2018-12-07  1.0  3  Train  foo>"
      ]
     },
     "execution_count": 15,
     "metadata": {},
     "output_type": "execute_result"
    }
   ],
   "source": [
    "df2.add"
   ]
  },
  {
   "cell_type": "markdown",
   "metadata": {
    "hidden": true
   },
   "source": [
    "- df2.A                  \n",
    "- df2.bool\n",
    "- df2.abs                \n",
    "- df2.boxplot\n",
    "- df2.add                \n",
    "- df2.C\n",
    "- df2.add_prefix         \n",
    "- df2.clip\n",
    "- df2.add_suffix         \n",
    "- df2.clip_lower\n",
    "- df2.align              \n",
    "- df2.clip_upper\n",
    "- df2.all                \n",
    "- df2.columns\n",
    "- df2.any                \n",
    "- df2.combine\n",
    "- df2.append             \n",
    "- df2.combine_first\n",
    "- df2.apply              \n",
    "- df2.compound\n",
    "- df2.applymap           \n",
    "- df2.consolidate\n",
    "- df2.D\n",
    "\n",
    "Check for functionality"
   ]
  },
  {
   "cell_type": "markdown",
   "metadata": {
    "hidden": true
   },
   "source": [
    "## Viewing Data"
   ]
  },
  {
   "cell_type": "code",
   "execution_count": 16,
   "metadata": {
    "hidden": true
   },
   "outputs": [
    {
     "data": {
      "text/html": [
       "<div>\n",
       "<style scoped>\n",
       "    .dataframe tbody tr th:only-of-type {\n",
       "        vertical-align: middle;\n",
       "    }\n",
       "\n",
       "    .dataframe tbody tr th {\n",
       "        vertical-align: top;\n",
       "    }\n",
       "\n",
       "    .dataframe thead th {\n",
       "        text-align: right;\n",
       "    }\n",
       "</style>\n",
       "<table border=\"1\" class=\"dataframe\">\n",
       "  <thead>\n",
       "    <tr style=\"text-align: right;\">\n",
       "      <th></th>\n",
       "      <th>Aman</th>\n",
       "      <th>Deepa</th>\n",
       "      <th>SAS</th>\n",
       "      <th>Nigga</th>\n",
       "    </tr>\n",
       "  </thead>\n",
       "  <tbody>\n",
       "    <tr>\n",
       "      <th>2018-12-07</th>\n",
       "      <td>-1.617787</td>\n",
       "      <td>-0.568728</td>\n",
       "      <td>1.846747</td>\n",
       "      <td>-1.071114</td>\n",
       "    </tr>\n",
       "    <tr>\n",
       "      <th>2018-12-08</th>\n",
       "      <td>0.139492</td>\n",
       "      <td>0.358108</td>\n",
       "      <td>-0.567163</td>\n",
       "      <td>0.282572</td>\n",
       "    </tr>\n",
       "    <tr>\n",
       "      <th>2018-12-09</th>\n",
       "      <td>-1.619657</td>\n",
       "      <td>-1.530209</td>\n",
       "      <td>2.261449</td>\n",
       "      <td>-0.472735</td>\n",
       "    </tr>\n",
       "    <tr>\n",
       "      <th>2018-12-10</th>\n",
       "      <td>-0.692662</td>\n",
       "      <td>0.084112</td>\n",
       "      <td>0.204471</td>\n",
       "      <td>-0.828056</td>\n",
       "    </tr>\n",
       "    <tr>\n",
       "      <th>2018-12-11</th>\n",
       "      <td>-0.224315</td>\n",
       "      <td>-1.601540</td>\n",
       "      <td>0.594835</td>\n",
       "      <td>0.457793</td>\n",
       "    </tr>\n",
       "  </tbody>\n",
       "</table>\n",
       "</div>"
      ],
      "text/plain": [
       "                Aman     Deepa       SAS     Nigga\n",
       "2018-12-07 -1.617787 -0.568728  1.846747 -1.071114\n",
       "2018-12-08  0.139492  0.358108 -0.567163  0.282572\n",
       "2018-12-09 -1.619657 -1.530209  2.261449 -0.472735\n",
       "2018-12-10 -0.692662  0.084112  0.204471 -0.828056\n",
       "2018-12-11 -0.224315 -1.601540  0.594835  0.457793"
      ]
     },
     "execution_count": 16,
     "metadata": {},
     "output_type": "execute_result"
    }
   ],
   "source": [
    "df.head()"
   ]
  },
  {
   "cell_type": "code",
   "execution_count": 17,
   "metadata": {
    "hidden": true
   },
   "outputs": [
    {
     "data": {
      "text/html": [
       "<div>\n",
       "<style scoped>\n",
       "    .dataframe tbody tr th:only-of-type {\n",
       "        vertical-align: middle;\n",
       "    }\n",
       "\n",
       "    .dataframe tbody tr th {\n",
       "        vertical-align: top;\n",
       "    }\n",
       "\n",
       "    .dataframe thead th {\n",
       "        text-align: right;\n",
       "    }\n",
       "</style>\n",
       "<table border=\"1\" class=\"dataframe\">\n",
       "  <thead>\n",
       "    <tr style=\"text-align: right;\">\n",
       "      <th></th>\n",
       "      <th>Aman</th>\n",
       "      <th>Deepa</th>\n",
       "      <th>SAS</th>\n",
       "      <th>Nigga</th>\n",
       "    </tr>\n",
       "  </thead>\n",
       "  <tbody>\n",
       "    <tr>\n",
       "      <th>2018-12-08</th>\n",
       "      <td>0.139492</td>\n",
       "      <td>0.358108</td>\n",
       "      <td>-0.567163</td>\n",
       "      <td>0.282572</td>\n",
       "    </tr>\n",
       "    <tr>\n",
       "      <th>2018-12-09</th>\n",
       "      <td>-1.619657</td>\n",
       "      <td>-1.530209</td>\n",
       "      <td>2.261449</td>\n",
       "      <td>-0.472735</td>\n",
       "    </tr>\n",
       "    <tr>\n",
       "      <th>2018-12-10</th>\n",
       "      <td>-0.692662</td>\n",
       "      <td>0.084112</td>\n",
       "      <td>0.204471</td>\n",
       "      <td>-0.828056</td>\n",
       "    </tr>\n",
       "    <tr>\n",
       "      <th>2018-12-11</th>\n",
       "      <td>-0.224315</td>\n",
       "      <td>-1.601540</td>\n",
       "      <td>0.594835</td>\n",
       "      <td>0.457793</td>\n",
       "    </tr>\n",
       "    <tr>\n",
       "      <th>2018-12-12</th>\n",
       "      <td>-0.773819</td>\n",
       "      <td>0.061578</td>\n",
       "      <td>2.283801</td>\n",
       "      <td>-0.543336</td>\n",
       "    </tr>\n",
       "  </tbody>\n",
       "</table>\n",
       "</div>"
      ],
      "text/plain": [
       "                Aman     Deepa       SAS     Nigga\n",
       "2018-12-08  0.139492  0.358108 -0.567163  0.282572\n",
       "2018-12-09 -1.619657 -1.530209  2.261449 -0.472735\n",
       "2018-12-10 -0.692662  0.084112  0.204471 -0.828056\n",
       "2018-12-11 -0.224315 -1.601540  0.594835  0.457793\n",
       "2018-12-12 -0.773819  0.061578  2.283801 -0.543336"
      ]
     },
     "execution_count": 17,
     "metadata": {},
     "output_type": "execute_result"
    }
   ],
   "source": [
    "df.tail()"
   ]
  },
  {
   "cell_type": "markdown",
   "metadata": {
    "hidden": true
   },
   "source": [
    "## Display index, column and numpy data"
   ]
  },
  {
   "cell_type": "code",
   "execution_count": 18,
   "metadata": {
    "hidden": true
   },
   "outputs": [
    {
     "data": {
      "text/plain": [
       "DatetimeIndex(['2018-12-07', '2018-12-08', '2018-12-09', '2018-12-10',\n",
       "               '2018-12-11', '2018-12-12'],\n",
       "              dtype='datetime64[ns]', freq='D')"
      ]
     },
     "execution_count": 18,
     "metadata": {},
     "output_type": "execute_result"
    }
   ],
   "source": [
    "df.index"
   ]
  },
  {
   "cell_type": "code",
   "execution_count": 19,
   "metadata": {
    "hidden": true
   },
   "outputs": [
    {
     "data": {
      "text/plain": [
       "Index(['Aman', 'Deepa', 'SAS', 'Nigga'], dtype='object')"
      ]
     },
     "execution_count": 19,
     "metadata": {},
     "output_type": "execute_result"
    }
   ],
   "source": [
    "df.columns"
   ]
  },
  {
   "cell_type": "code",
   "execution_count": 20,
   "metadata": {
    "hidden": true
   },
   "outputs": [
    {
     "data": {
      "text/plain": [
       "array([[-1.61778687, -0.5687279 ,  1.84674734, -1.07111439],\n",
       "       [ 0.13949249,  0.35810793, -0.56716341,  0.28257222],\n",
       "       [-1.61965664, -1.53020894,  2.26144857, -0.47273493],\n",
       "       [-0.69266198,  0.08411203,  0.20447129, -0.82805598],\n",
       "       [-0.22431458, -1.6015405 ,  0.59483504,  0.45779337],\n",
       "       [-0.77381911,  0.06157784,  2.28380146, -0.54333603]])"
      ]
     },
     "execution_count": 20,
     "metadata": {},
     "output_type": "execute_result"
    }
   ],
   "source": [
    "df.values"
   ]
  },
  {
   "cell_type": "markdown",
   "metadata": {
    "hidden": true
   },
   "source": [
    "## describe() shows a quick statistic summary of your data"
   ]
  },
  {
   "cell_type": "code",
   "execution_count": 21,
   "metadata": {
    "hidden": true
   },
   "outputs": [
    {
     "data": {
      "text/html": [
       "<div>\n",
       "<style scoped>\n",
       "    .dataframe tbody tr th:only-of-type {\n",
       "        vertical-align: middle;\n",
       "    }\n",
       "\n",
       "    .dataframe tbody tr th {\n",
       "        vertical-align: top;\n",
       "    }\n",
       "\n",
       "    .dataframe thead th {\n",
       "        text-align: right;\n",
       "    }\n",
       "</style>\n",
       "<table border=\"1\" class=\"dataframe\">\n",
       "  <thead>\n",
       "    <tr style=\"text-align: right;\">\n",
       "      <th></th>\n",
       "      <th>Aman</th>\n",
       "      <th>Deepa</th>\n",
       "      <th>SAS</th>\n",
       "      <th>Nigga</th>\n",
       "    </tr>\n",
       "  </thead>\n",
       "  <tbody>\n",
       "    <tr>\n",
       "      <th>count</th>\n",
       "      <td>6.000000</td>\n",
       "      <td>6.000000</td>\n",
       "      <td>6.000000</td>\n",
       "      <td>6.000000</td>\n",
       "    </tr>\n",
       "    <tr>\n",
       "      <th>mean</th>\n",
       "      <td>-0.798124</td>\n",
       "      <td>-0.532780</td>\n",
       "      <td>1.104023</td>\n",
       "      <td>-0.362479</td>\n",
       "    </tr>\n",
       "    <tr>\n",
       "      <th>std</th>\n",
       "      <td>0.716500</td>\n",
       "      <td>0.856260</td>\n",
       "      <td>1.195364</td>\n",
       "      <td>0.608725</td>\n",
       "    </tr>\n",
       "    <tr>\n",
       "      <th>min</th>\n",
       "      <td>-1.619657</td>\n",
       "      <td>-1.601540</td>\n",
       "      <td>-0.567163</td>\n",
       "      <td>-1.071114</td>\n",
       "    </tr>\n",
       "    <tr>\n",
       "      <th>25%</th>\n",
       "      <td>-1.406795</td>\n",
       "      <td>-1.289839</td>\n",
       "      <td>0.302062</td>\n",
       "      <td>-0.756876</td>\n",
       "    </tr>\n",
       "    <tr>\n",
       "      <th>50%</th>\n",
       "      <td>-0.733241</td>\n",
       "      <td>-0.253575</td>\n",
       "      <td>1.220791</td>\n",
       "      <td>-0.508035</td>\n",
       "    </tr>\n",
       "    <tr>\n",
       "      <th>75%</th>\n",
       "      <td>-0.341401</td>\n",
       "      <td>0.078478</td>\n",
       "      <td>2.157773</td>\n",
       "      <td>0.093745</td>\n",
       "    </tr>\n",
       "    <tr>\n",
       "      <th>max</th>\n",
       "      <td>0.139492</td>\n",
       "      <td>0.358108</td>\n",
       "      <td>2.283801</td>\n",
       "      <td>0.457793</td>\n",
       "    </tr>\n",
       "  </tbody>\n",
       "</table>\n",
       "</div>"
      ],
      "text/plain": [
       "           Aman     Deepa       SAS     Nigga\n",
       "count  6.000000  6.000000  6.000000  6.000000\n",
       "mean  -0.798124 -0.532780  1.104023 -0.362479\n",
       "std    0.716500  0.856260  1.195364  0.608725\n",
       "min   -1.619657 -1.601540 -0.567163 -1.071114\n",
       "25%   -1.406795 -1.289839  0.302062 -0.756876\n",
       "50%   -0.733241 -0.253575  1.220791 -0.508035\n",
       "75%   -0.341401  0.078478  2.157773  0.093745\n",
       "max    0.139492  0.358108  2.283801  0.457793"
      ]
     },
     "execution_count": 21,
     "metadata": {},
     "output_type": "execute_result"
    }
   ],
   "source": [
    "df.describe()"
   ]
  },
  {
   "cell_type": "markdown",
   "metadata": {
    "hidden": true
   },
   "source": [
    "## transposing your data"
   ]
  },
  {
   "cell_type": "code",
   "execution_count": 22,
   "metadata": {
    "hidden": true
   },
   "outputs": [
    {
     "data": {
      "text/html": [
       "<div>\n",
       "<style scoped>\n",
       "    .dataframe tbody tr th:only-of-type {\n",
       "        vertical-align: middle;\n",
       "    }\n",
       "\n",
       "    .dataframe tbody tr th {\n",
       "        vertical-align: top;\n",
       "    }\n",
       "\n",
       "    .dataframe thead th {\n",
       "        text-align: right;\n",
       "    }\n",
       "</style>\n",
       "<table border=\"1\" class=\"dataframe\">\n",
       "  <thead>\n",
       "    <tr style=\"text-align: right;\">\n",
       "      <th></th>\n",
       "      <th>2018-12-07 00:00:00</th>\n",
       "      <th>2018-12-08 00:00:00</th>\n",
       "      <th>2018-12-09 00:00:00</th>\n",
       "      <th>2018-12-10 00:00:00</th>\n",
       "      <th>2018-12-11 00:00:00</th>\n",
       "      <th>2018-12-12 00:00:00</th>\n",
       "    </tr>\n",
       "  </thead>\n",
       "  <tbody>\n",
       "    <tr>\n",
       "      <th>Aman</th>\n",
       "      <td>-1.617787</td>\n",
       "      <td>0.139492</td>\n",
       "      <td>-1.619657</td>\n",
       "      <td>-0.692662</td>\n",
       "      <td>-0.224315</td>\n",
       "      <td>-0.773819</td>\n",
       "    </tr>\n",
       "    <tr>\n",
       "      <th>Deepa</th>\n",
       "      <td>-0.568728</td>\n",
       "      <td>0.358108</td>\n",
       "      <td>-1.530209</td>\n",
       "      <td>0.084112</td>\n",
       "      <td>-1.601540</td>\n",
       "      <td>0.061578</td>\n",
       "    </tr>\n",
       "    <tr>\n",
       "      <th>SAS</th>\n",
       "      <td>1.846747</td>\n",
       "      <td>-0.567163</td>\n",
       "      <td>2.261449</td>\n",
       "      <td>0.204471</td>\n",
       "      <td>0.594835</td>\n",
       "      <td>2.283801</td>\n",
       "    </tr>\n",
       "    <tr>\n",
       "      <th>Nigga</th>\n",
       "      <td>-1.071114</td>\n",
       "      <td>0.282572</td>\n",
       "      <td>-0.472735</td>\n",
       "      <td>-0.828056</td>\n",
       "      <td>0.457793</td>\n",
       "      <td>-0.543336</td>\n",
       "    </tr>\n",
       "  </tbody>\n",
       "</table>\n",
       "</div>"
      ],
      "text/plain": [
       "       2018-12-07  2018-12-08  2018-12-09  2018-12-10  2018-12-11  2018-12-12\n",
       "Aman    -1.617787    0.139492   -1.619657   -0.692662   -0.224315   -0.773819\n",
       "Deepa   -0.568728    0.358108   -1.530209    0.084112   -1.601540    0.061578\n",
       "SAS      1.846747   -0.567163    2.261449    0.204471    0.594835    2.283801\n",
       "Nigga   -1.071114    0.282572   -0.472735   -0.828056    0.457793   -0.543336"
      ]
     },
     "execution_count": 22,
     "metadata": {},
     "output_type": "execute_result"
    }
   ],
   "source": [
    "df.T"
   ]
  },
  {
   "cell_type": "markdown",
   "metadata": {
    "hidden": true
   },
   "source": [
    "##   Sorting by index"
   ]
  },
  {
   "cell_type": "code",
   "execution_count": 23,
   "metadata": {
    "hidden": true
   },
   "outputs": [
    {
     "data": {
      "text/html": [
       "<div>\n",
       "<style scoped>\n",
       "    .dataframe tbody tr th:only-of-type {\n",
       "        vertical-align: middle;\n",
       "    }\n",
       "\n",
       "    .dataframe tbody tr th {\n",
       "        vertical-align: top;\n",
       "    }\n",
       "\n",
       "    .dataframe thead th {\n",
       "        text-align: right;\n",
       "    }\n",
       "</style>\n",
       "<table border=\"1\" class=\"dataframe\">\n",
       "  <thead>\n",
       "    <tr style=\"text-align: right;\">\n",
       "      <th></th>\n",
       "      <th>Aman</th>\n",
       "      <th>Deepa</th>\n",
       "      <th>SAS</th>\n",
       "      <th>Nigga</th>\n",
       "    </tr>\n",
       "  </thead>\n",
       "  <tbody>\n",
       "    <tr>\n",
       "      <th>2018-12-12</th>\n",
       "      <td>-0.773819</td>\n",
       "      <td>0.061578</td>\n",
       "      <td>2.283801</td>\n",
       "      <td>-0.543336</td>\n",
       "    </tr>\n",
       "    <tr>\n",
       "      <th>2018-12-11</th>\n",
       "      <td>-0.224315</td>\n",
       "      <td>-1.601540</td>\n",
       "      <td>0.594835</td>\n",
       "      <td>0.457793</td>\n",
       "    </tr>\n",
       "    <tr>\n",
       "      <th>2018-12-10</th>\n",
       "      <td>-0.692662</td>\n",
       "      <td>0.084112</td>\n",
       "      <td>0.204471</td>\n",
       "      <td>-0.828056</td>\n",
       "    </tr>\n",
       "    <tr>\n",
       "      <th>2018-12-09</th>\n",
       "      <td>-1.619657</td>\n",
       "      <td>-1.530209</td>\n",
       "      <td>2.261449</td>\n",
       "      <td>-0.472735</td>\n",
       "    </tr>\n",
       "    <tr>\n",
       "      <th>2018-12-08</th>\n",
       "      <td>0.139492</td>\n",
       "      <td>0.358108</td>\n",
       "      <td>-0.567163</td>\n",
       "      <td>0.282572</td>\n",
       "    </tr>\n",
       "    <tr>\n",
       "      <th>2018-12-07</th>\n",
       "      <td>-1.617787</td>\n",
       "      <td>-0.568728</td>\n",
       "      <td>1.846747</td>\n",
       "      <td>-1.071114</td>\n",
       "    </tr>\n",
       "  </tbody>\n",
       "</table>\n",
       "</div>"
      ],
      "text/plain": [
       "                Aman     Deepa       SAS     Nigga\n",
       "2018-12-12 -0.773819  0.061578  2.283801 -0.543336\n",
       "2018-12-11 -0.224315 -1.601540  0.594835  0.457793\n",
       "2018-12-10 -0.692662  0.084112  0.204471 -0.828056\n",
       "2018-12-09 -1.619657 -1.530209  2.261449 -0.472735\n",
       "2018-12-08  0.139492  0.358108 -0.567163  0.282572\n",
       "2018-12-07 -1.617787 -0.568728  1.846747 -1.071114"
      ]
     },
     "execution_count": 23,
     "metadata": {},
     "output_type": "execute_result"
    }
   ],
   "source": [
    "#sorting index by index(rows)\n",
    "df.sort_index(axis = 0, ascending = False )"
   ]
  },
  {
   "cell_type": "code",
   "execution_count": 24,
   "metadata": {
    "hidden": true
   },
   "outputs": [
    {
     "data": {
      "text/html": [
       "<div>\n",
       "<style scoped>\n",
       "    .dataframe tbody tr th:only-of-type {\n",
       "        vertical-align: middle;\n",
       "    }\n",
       "\n",
       "    .dataframe tbody tr th {\n",
       "        vertical-align: top;\n",
       "    }\n",
       "\n",
       "    .dataframe thead th {\n",
       "        text-align: right;\n",
       "    }\n",
       "</style>\n",
       "<table border=\"1\" class=\"dataframe\">\n",
       "  <thead>\n",
       "    <tr style=\"text-align: right;\">\n",
       "      <th></th>\n",
       "      <th>SAS</th>\n",
       "      <th>Nigga</th>\n",
       "      <th>Deepa</th>\n",
       "      <th>Aman</th>\n",
       "    </tr>\n",
       "  </thead>\n",
       "  <tbody>\n",
       "    <tr>\n",
       "      <th>2018-12-07</th>\n",
       "      <td>1.846747</td>\n",
       "      <td>-1.071114</td>\n",
       "      <td>-0.568728</td>\n",
       "      <td>-1.617787</td>\n",
       "    </tr>\n",
       "    <tr>\n",
       "      <th>2018-12-08</th>\n",
       "      <td>-0.567163</td>\n",
       "      <td>0.282572</td>\n",
       "      <td>0.358108</td>\n",
       "      <td>0.139492</td>\n",
       "    </tr>\n",
       "    <tr>\n",
       "      <th>2018-12-09</th>\n",
       "      <td>2.261449</td>\n",
       "      <td>-0.472735</td>\n",
       "      <td>-1.530209</td>\n",
       "      <td>-1.619657</td>\n",
       "    </tr>\n",
       "    <tr>\n",
       "      <th>2018-12-10</th>\n",
       "      <td>0.204471</td>\n",
       "      <td>-0.828056</td>\n",
       "      <td>0.084112</td>\n",
       "      <td>-0.692662</td>\n",
       "    </tr>\n",
       "    <tr>\n",
       "      <th>2018-12-11</th>\n",
       "      <td>0.594835</td>\n",
       "      <td>0.457793</td>\n",
       "      <td>-1.601540</td>\n",
       "      <td>-0.224315</td>\n",
       "    </tr>\n",
       "    <tr>\n",
       "      <th>2018-12-12</th>\n",
       "      <td>2.283801</td>\n",
       "      <td>-0.543336</td>\n",
       "      <td>0.061578</td>\n",
       "      <td>-0.773819</td>\n",
       "    </tr>\n",
       "  </tbody>\n",
       "</table>\n",
       "</div>"
      ],
      "text/plain": [
       "                 SAS     Nigga     Deepa      Aman\n",
       "2018-12-07  1.846747 -1.071114 -0.568728 -1.617787\n",
       "2018-12-08 -0.567163  0.282572  0.358108  0.139492\n",
       "2018-12-09  2.261449 -0.472735 -1.530209 -1.619657\n",
       "2018-12-10  0.204471 -0.828056  0.084112 -0.692662\n",
       "2018-12-11  0.594835  0.457793 -1.601540 -0.224315\n",
       "2018-12-12  2.283801 -0.543336  0.061578 -0.773819"
      ]
     },
     "execution_count": 24,
     "metadata": {},
     "output_type": "execute_result"
    }
   ],
   "source": [
    "#sorting index by columns\n",
    "df.sort_index(axis = 1, ascending = False )"
   ]
  },
  {
   "cell_type": "markdown",
   "metadata": {
    "hidden": true
   },
   "source": [
    "## Sorting by values"
   ]
  },
  {
   "cell_type": "code",
   "execution_count": 25,
   "metadata": {
    "hidden": true
   },
   "outputs": [
    {
     "data": {
      "text/html": [
       "<div>\n",
       "<style scoped>\n",
       "    .dataframe tbody tr th:only-of-type {\n",
       "        vertical-align: middle;\n",
       "    }\n",
       "\n",
       "    .dataframe tbody tr th {\n",
       "        vertical-align: top;\n",
       "    }\n",
       "\n",
       "    .dataframe thead th {\n",
       "        text-align: right;\n",
       "    }\n",
       "</style>\n",
       "<table border=\"1\" class=\"dataframe\">\n",
       "  <thead>\n",
       "    <tr style=\"text-align: right;\">\n",
       "      <th></th>\n",
       "      <th>Aman</th>\n",
       "      <th>Deepa</th>\n",
       "      <th>SAS</th>\n",
       "      <th>Nigga</th>\n",
       "    </tr>\n",
       "  </thead>\n",
       "  <tbody>\n",
       "    <tr>\n",
       "      <th>2018-12-08</th>\n",
       "      <td>0.139492</td>\n",
       "      <td>0.358108</td>\n",
       "      <td>-0.567163</td>\n",
       "      <td>0.282572</td>\n",
       "    </tr>\n",
       "    <tr>\n",
       "      <th>2018-12-10</th>\n",
       "      <td>-0.692662</td>\n",
       "      <td>0.084112</td>\n",
       "      <td>0.204471</td>\n",
       "      <td>-0.828056</td>\n",
       "    </tr>\n",
       "    <tr>\n",
       "      <th>2018-12-11</th>\n",
       "      <td>-0.224315</td>\n",
       "      <td>-1.601540</td>\n",
       "      <td>0.594835</td>\n",
       "      <td>0.457793</td>\n",
       "    </tr>\n",
       "    <tr>\n",
       "      <th>2018-12-07</th>\n",
       "      <td>-1.617787</td>\n",
       "      <td>-0.568728</td>\n",
       "      <td>1.846747</td>\n",
       "      <td>-1.071114</td>\n",
       "    </tr>\n",
       "    <tr>\n",
       "      <th>2018-12-09</th>\n",
       "      <td>-1.619657</td>\n",
       "      <td>-1.530209</td>\n",
       "      <td>2.261449</td>\n",
       "      <td>-0.472735</td>\n",
       "    </tr>\n",
       "    <tr>\n",
       "      <th>2018-12-12</th>\n",
       "      <td>-0.773819</td>\n",
       "      <td>0.061578</td>\n",
       "      <td>2.283801</td>\n",
       "      <td>-0.543336</td>\n",
       "    </tr>\n",
       "  </tbody>\n",
       "</table>\n",
       "</div>"
      ],
      "text/plain": [
       "                Aman     Deepa       SAS     Nigga\n",
       "2018-12-08  0.139492  0.358108 -0.567163  0.282572\n",
       "2018-12-10 -0.692662  0.084112  0.204471 -0.828056\n",
       "2018-12-11 -0.224315 -1.601540  0.594835  0.457793\n",
       "2018-12-07 -1.617787 -0.568728  1.846747 -1.071114\n",
       "2018-12-09 -1.619657 -1.530209  2.261449 -0.472735\n",
       "2018-12-12 -0.773819  0.061578  2.283801 -0.543336"
      ]
     },
     "execution_count": 25,
     "metadata": {},
     "output_type": "execute_result"
    }
   ],
   "source": [
    "df.sort_values(by = 'SAS')"
   ]
  },
  {
   "cell_type": "markdown",
   "metadata": {
    "hidden": true
   },
   "source": [
    "## Getting"
   ]
  },
  {
   "cell_type": "code",
   "execution_count": 26,
   "metadata": {
    "hidden": true
   },
   "outputs": [
    {
     "data": {
      "text/plain": [
       "2018-12-07   -1.617787\n",
       "2018-12-08    0.139492\n",
       "2018-12-09   -1.619657\n",
       "2018-12-10   -0.692662\n",
       "2018-12-11   -0.224315\n",
       "2018-12-12   -0.773819\n",
       "Freq: D, Name: Aman, dtype: float64"
      ]
     },
     "execution_count": 26,
     "metadata": {},
     "output_type": "execute_result"
    }
   ],
   "source": [
    "df['Aman']"
   ]
  },
  {
   "cell_type": "code",
   "execution_count": 27,
   "metadata": {
    "hidden": true
   },
   "outputs": [
    {
     "data": {
      "text/html": [
       "<div>\n",
       "<style scoped>\n",
       "    .dataframe tbody tr th:only-of-type {\n",
       "        vertical-align: middle;\n",
       "    }\n",
       "\n",
       "    .dataframe tbody tr th {\n",
       "        vertical-align: top;\n",
       "    }\n",
       "\n",
       "    .dataframe thead th {\n",
       "        text-align: right;\n",
       "    }\n",
       "</style>\n",
       "<table border=\"1\" class=\"dataframe\">\n",
       "  <thead>\n",
       "    <tr style=\"text-align: right;\">\n",
       "      <th></th>\n",
       "      <th>Aman</th>\n",
       "      <th>Deepa</th>\n",
       "      <th>SAS</th>\n",
       "      <th>Nigga</th>\n",
       "    </tr>\n",
       "  </thead>\n",
       "  <tbody>\n",
       "    <tr>\n",
       "      <th>2018-12-07</th>\n",
       "      <td>-1.617787</td>\n",
       "      <td>-0.568728</td>\n",
       "      <td>1.846747</td>\n",
       "      <td>-1.071114</td>\n",
       "    </tr>\n",
       "    <tr>\n",
       "      <th>2018-12-08</th>\n",
       "      <td>0.139492</td>\n",
       "      <td>0.358108</td>\n",
       "      <td>-0.567163</td>\n",
       "      <td>0.282572</td>\n",
       "    </tr>\n",
       "    <tr>\n",
       "      <th>2018-12-09</th>\n",
       "      <td>-1.619657</td>\n",
       "      <td>-1.530209</td>\n",
       "      <td>2.261449</td>\n",
       "      <td>-0.472735</td>\n",
       "    </tr>\n",
       "  </tbody>\n",
       "</table>\n",
       "</div>"
      ],
      "text/plain": [
       "                Aman     Deepa       SAS     Nigga\n",
       "2018-12-07 -1.617787 -0.568728  1.846747 -1.071114\n",
       "2018-12-08  0.139492  0.358108 -0.567163  0.282572\n",
       "2018-12-09 -1.619657 -1.530209  2.261449 -0.472735"
      ]
     },
     "execution_count": 27,
     "metadata": {},
     "output_type": "execute_result"
    }
   ],
   "source": [
    "df[0:3] #slicing rows"
   ]
  },
  {
   "cell_type": "code",
   "execution_count": 28,
   "metadata": {
    "hidden": true
   },
   "outputs": [
    {
     "data": {
      "text/html": [
       "<div>\n",
       "<style scoped>\n",
       "    .dataframe tbody tr th:only-of-type {\n",
       "        vertical-align: middle;\n",
       "    }\n",
       "\n",
       "    .dataframe tbody tr th {\n",
       "        vertical-align: top;\n",
       "    }\n",
       "\n",
       "    .dataframe thead th {\n",
       "        text-align: right;\n",
       "    }\n",
       "</style>\n",
       "<table border=\"1\" class=\"dataframe\">\n",
       "  <thead>\n",
       "    <tr style=\"text-align: right;\">\n",
       "      <th></th>\n",
       "      <th>Aman</th>\n",
       "      <th>Deepa</th>\n",
       "      <th>SAS</th>\n",
       "      <th>Nigga</th>\n",
       "    </tr>\n",
       "  </thead>\n",
       "  <tbody>\n",
       "    <tr>\n",
       "      <th>2018-12-07</th>\n",
       "      <td>-1.617787</td>\n",
       "      <td>-0.568728</td>\n",
       "      <td>1.846747</td>\n",
       "      <td>-1.071114</td>\n",
       "    </tr>\n",
       "    <tr>\n",
       "      <th>2018-12-08</th>\n",
       "      <td>0.139492</td>\n",
       "      <td>0.358108</td>\n",
       "      <td>-0.567163</td>\n",
       "      <td>0.282572</td>\n",
       "    </tr>\n",
       "    <tr>\n",
       "      <th>2018-12-09</th>\n",
       "      <td>-1.619657</td>\n",
       "      <td>-1.530209</td>\n",
       "      <td>2.261449</td>\n",
       "      <td>-0.472735</td>\n",
       "    </tr>\n",
       "    <tr>\n",
       "      <th>2018-12-10</th>\n",
       "      <td>-0.692662</td>\n",
       "      <td>0.084112</td>\n",
       "      <td>0.204471</td>\n",
       "      <td>-0.828056</td>\n",
       "    </tr>\n",
       "  </tbody>\n",
       "</table>\n",
       "</div>"
      ],
      "text/plain": [
       "                Aman     Deepa       SAS     Nigga\n",
       "2018-12-07 -1.617787 -0.568728  1.846747 -1.071114\n",
       "2018-12-08  0.139492  0.358108 -0.567163  0.282572\n",
       "2018-12-09 -1.619657 -1.530209  2.261449 -0.472735\n",
       "2018-12-10 -0.692662  0.084112  0.204471 -0.828056"
      ]
     },
     "execution_count": 28,
     "metadata": {},
     "output_type": "execute_result"
    }
   ],
   "source": [
    "df['20181207':'20181210']"
   ]
  },
  {
   "cell_type": "markdown",
   "metadata": {
    "hidden": true
   },
   "source": [
    "## Selection by Label"
   ]
  },
  {
   "cell_type": "code",
   "execution_count": 29,
   "metadata": {
    "hidden": true
   },
   "outputs": [
    {
     "data": {
      "text/plain": [
       "Aman    -1.617787\n",
       "Deepa   -0.568728\n",
       "SAS      1.846747\n",
       "Nigga   -1.071114\n",
       "Name: 2018-12-07 00:00:00, dtype: float64"
      ]
     },
     "execution_count": 29,
     "metadata": {},
     "output_type": "execute_result"
    }
   ],
   "source": [
    "df.loc[dates[0]]"
   ]
  },
  {
   "cell_type": "markdown",
   "metadata": {
    "hidden": true
   },
   "source": [
    "## Selecting on a multi-axis by label"
   ]
  },
  {
   "cell_type": "code",
   "execution_count": 30,
   "metadata": {
    "hidden": true
   },
   "outputs": [
    {
     "data": {
      "text/html": [
       "<div>\n",
       "<style scoped>\n",
       "    .dataframe tbody tr th:only-of-type {\n",
       "        vertical-align: middle;\n",
       "    }\n",
       "\n",
       "    .dataframe tbody tr th {\n",
       "        vertical-align: top;\n",
       "    }\n",
       "\n",
       "    .dataframe thead th {\n",
       "        text-align: right;\n",
       "    }\n",
       "</style>\n",
       "<table border=\"1\" class=\"dataframe\">\n",
       "  <thead>\n",
       "    <tr style=\"text-align: right;\">\n",
       "      <th></th>\n",
       "      <th>Aman</th>\n",
       "      <th>Nigga</th>\n",
       "    </tr>\n",
       "  </thead>\n",
       "  <tbody>\n",
       "    <tr>\n",
       "      <th>2018-12-07</th>\n",
       "      <td>-1.617787</td>\n",
       "      <td>-1.071114</td>\n",
       "    </tr>\n",
       "    <tr>\n",
       "      <th>2018-12-08</th>\n",
       "      <td>0.139492</td>\n",
       "      <td>0.282572</td>\n",
       "    </tr>\n",
       "    <tr>\n",
       "      <th>2018-12-09</th>\n",
       "      <td>-1.619657</td>\n",
       "      <td>-0.472735</td>\n",
       "    </tr>\n",
       "    <tr>\n",
       "      <th>2018-12-10</th>\n",
       "      <td>-0.692662</td>\n",
       "      <td>-0.828056</td>\n",
       "    </tr>\n",
       "    <tr>\n",
       "      <th>2018-12-11</th>\n",
       "      <td>-0.224315</td>\n",
       "      <td>0.457793</td>\n",
       "    </tr>\n",
       "    <tr>\n",
       "      <th>2018-12-12</th>\n",
       "      <td>-0.773819</td>\n",
       "      <td>-0.543336</td>\n",
       "    </tr>\n",
       "  </tbody>\n",
       "</table>\n",
       "</div>"
      ],
      "text/plain": [
       "                Aman     Nigga\n",
       "2018-12-07 -1.617787 -1.071114\n",
       "2018-12-08  0.139492  0.282572\n",
       "2018-12-09 -1.619657 -0.472735\n",
       "2018-12-10 -0.692662 -0.828056\n",
       "2018-12-11 -0.224315  0.457793\n",
       "2018-12-12 -0.773819 -0.543336"
      ]
     },
     "execution_count": 30,
     "metadata": {},
     "output_type": "execute_result"
    }
   ],
   "source": [
    "df.loc[ :, ['Aman','Nigga']]"
   ]
  },
  {
   "cell_type": "markdown",
   "metadata": {
    "hidden": true
   },
   "source": [
    "## Showing label slicing, both end points are included:"
   ]
  },
  {
   "cell_type": "code",
   "execution_count": 31,
   "metadata": {
    "hidden": true
   },
   "outputs": [
    {
     "data": {
      "text/html": [
       "<div>\n",
       "<style scoped>\n",
       "    .dataframe tbody tr th:only-of-type {\n",
       "        vertical-align: middle;\n",
       "    }\n",
       "\n",
       "    .dataframe tbody tr th {\n",
       "        vertical-align: top;\n",
       "    }\n",
       "\n",
       "    .dataframe thead th {\n",
       "        text-align: right;\n",
       "    }\n",
       "</style>\n",
       "<table border=\"1\" class=\"dataframe\">\n",
       "  <thead>\n",
       "    <tr style=\"text-align: right;\">\n",
       "      <th></th>\n",
       "      <th>Aman</th>\n",
       "      <th>Deepa</th>\n",
       "      <th>SAS</th>\n",
       "    </tr>\n",
       "  </thead>\n",
       "  <tbody>\n",
       "    <tr>\n",
       "      <th>2018-12-07</th>\n",
       "      <td>-1.617787</td>\n",
       "      <td>-0.568728</td>\n",
       "      <td>1.846747</td>\n",
       "    </tr>\n",
       "    <tr>\n",
       "      <th>2018-12-08</th>\n",
       "      <td>0.139492</td>\n",
       "      <td>0.358108</td>\n",
       "      <td>-0.567163</td>\n",
       "    </tr>\n",
       "    <tr>\n",
       "      <th>2018-12-09</th>\n",
       "      <td>-1.619657</td>\n",
       "      <td>-1.530209</td>\n",
       "      <td>2.261449</td>\n",
       "    </tr>\n",
       "    <tr>\n",
       "      <th>2018-12-10</th>\n",
       "      <td>-0.692662</td>\n",
       "      <td>0.084112</td>\n",
       "      <td>0.204471</td>\n",
       "    </tr>\n",
       "  </tbody>\n",
       "</table>\n",
       "</div>"
      ],
      "text/plain": [
       "                Aman     Deepa       SAS\n",
       "2018-12-07 -1.617787 -0.568728  1.846747\n",
       "2018-12-08  0.139492  0.358108 -0.567163\n",
       "2018-12-09 -1.619657 -1.530209  2.261449\n",
       "2018-12-10 -0.692662  0.084112  0.204471"
      ]
     },
     "execution_count": 31,
     "metadata": {},
     "output_type": "execute_result"
    }
   ],
   "source": [
    "df.loc['20181207':'20181210','Aman':'SAS']"
   ]
  },
  {
   "cell_type": "markdown",
   "metadata": {
    "hidden": true
   },
   "source": [
    "## reduction of dimension of returned values"
   ]
  },
  {
   "cell_type": "code",
   "execution_count": 32,
   "metadata": {
    "hidden": true
   },
   "outputs": [
    {
     "data": {
      "text/plain": [
       "Aman     0.139492\n",
       "Deepa    0.358108\n",
       "Name: 2018-12-08 00:00:00, dtype: float64"
      ]
     },
     "execution_count": 32,
     "metadata": {},
     "output_type": "execute_result"
    }
   ],
   "source": [
    "df.loc['20181208',['Aman','Deepa']]"
   ]
  },
  {
   "cell_type": "markdown",
   "metadata": {
    "hidden": true
   },
   "source": [
    "## Getting a scalar value"
   ]
  },
  {
   "cell_type": "code",
   "execution_count": 33,
   "metadata": {
    "hidden": true
   },
   "outputs": [
    {
     "data": {
      "text/plain": [
       "-1.6177868714387194"
      ]
     },
     "execution_count": 33,
     "metadata": {},
     "output_type": "execute_result"
    }
   ],
   "source": [
    "#df.loc['20181207','Aman']\n",
    "df.loc[dates[0],'Aman']"
   ]
  },
  {
   "cell_type": "code",
   "execution_count": 34,
   "metadata": {
    "hidden": true
   },
   "outputs": [
    {
     "data": {
      "text/plain": [
       "-1.6177868714387194"
      ]
     },
     "execution_count": 34,
     "metadata": {},
     "output_type": "execute_result"
    }
   ],
   "source": [
    "df.at[dates[0],'Aman'] #faster scalar value extraction  "
   ]
  },
  {
   "cell_type": "markdown",
   "metadata": {
    "hidden": true
   },
   "source": [
    "## Selection by Position iloc"
   ]
  },
  {
   "cell_type": "code",
   "execution_count": 35,
   "metadata": {
    "hidden": true
   },
   "outputs": [
    {
     "data": {
      "text/plain": [
       "Aman    -0.692662\n",
       "Deepa    0.084112\n",
       "SAS      0.204471\n",
       "Nigga   -0.828056\n",
       "Name: 2018-12-10 00:00:00, dtype: float64"
      ]
     },
     "execution_count": 35,
     "metadata": {},
     "output_type": "execute_result"
    }
   ],
   "source": [
    "df.iloc[3] #selects via index reference"
   ]
  },
  {
   "cell_type": "code",
   "execution_count": 36,
   "metadata": {
    "hidden": true
   },
   "outputs": [
    {
     "data": {
      "text/html": [
       "<div>\n",
       "<style scoped>\n",
       "    .dataframe tbody tr th:only-of-type {\n",
       "        vertical-align: middle;\n",
       "    }\n",
       "\n",
       "    .dataframe tbody tr th {\n",
       "        vertical-align: top;\n",
       "    }\n",
       "\n",
       "    .dataframe thead th {\n",
       "        text-align: right;\n",
       "    }\n",
       "</style>\n",
       "<table border=\"1\" class=\"dataframe\">\n",
       "  <thead>\n",
       "    <tr style=\"text-align: right;\">\n",
       "      <th></th>\n",
       "      <th>Aman</th>\n",
       "      <th>Deepa</th>\n",
       "      <th>SAS</th>\n",
       "    </tr>\n",
       "  </thead>\n",
       "  <tbody>\n",
       "    <tr>\n",
       "      <th>2018-12-07</th>\n",
       "      <td>-1.617787</td>\n",
       "      <td>-0.568728</td>\n",
       "      <td>1.846747</td>\n",
       "    </tr>\n",
       "    <tr>\n",
       "      <th>2018-12-08</th>\n",
       "      <td>0.139492</td>\n",
       "      <td>0.358108</td>\n",
       "      <td>-0.567163</td>\n",
       "    </tr>\n",
       "    <tr>\n",
       "      <th>2018-12-09</th>\n",
       "      <td>-1.619657</td>\n",
       "      <td>-1.530209</td>\n",
       "      <td>2.261449</td>\n",
       "    </tr>\n",
       "    <tr>\n",
       "      <th>2018-12-10</th>\n",
       "      <td>-0.692662</td>\n",
       "      <td>0.084112</td>\n",
       "      <td>0.204471</td>\n",
       "    </tr>\n",
       "  </tbody>\n",
       "</table>\n",
       "</div>"
      ],
      "text/plain": [
       "                Aman     Deepa       SAS\n",
       "2018-12-07 -1.617787 -0.568728  1.846747\n",
       "2018-12-08  0.139492  0.358108 -0.567163\n",
       "2018-12-09 -1.619657 -1.530209  2.261449\n",
       "2018-12-10 -0.692662  0.084112  0.204471"
      ]
     },
     "execution_count": 36,
     "metadata": {},
     "output_type": "execute_result"
    }
   ],
   "source": [
    "df.iloc[0:4,0:3] #selects by reference for index and columns"
   ]
  },
  {
   "cell_type": "code",
   "execution_count": 37,
   "metadata": {
    "hidden": true
   },
   "outputs": [
    {
     "data": {
      "text/html": [
       "<div>\n",
       "<style scoped>\n",
       "    .dataframe tbody tr th:only-of-type {\n",
       "        vertical-align: middle;\n",
       "    }\n",
       "\n",
       "    .dataframe tbody tr th {\n",
       "        vertical-align: top;\n",
       "    }\n",
       "\n",
       "    .dataframe thead th {\n",
       "        text-align: right;\n",
       "    }\n",
       "</style>\n",
       "<table border=\"1\" class=\"dataframe\">\n",
       "  <thead>\n",
       "    <tr style=\"text-align: right;\">\n",
       "      <th></th>\n",
       "      <th>Deepa</th>\n",
       "      <th>SAS</th>\n",
       "    </tr>\n",
       "  </thead>\n",
       "  <tbody>\n",
       "    <tr>\n",
       "      <th>2018-12-07</th>\n",
       "      <td>-0.568728</td>\n",
       "      <td>1.846747</td>\n",
       "    </tr>\n",
       "    <tr>\n",
       "      <th>2018-12-10</th>\n",
       "      <td>0.084112</td>\n",
       "      <td>0.204471</td>\n",
       "    </tr>\n",
       "    <tr>\n",
       "      <th>2018-12-12</th>\n",
       "      <td>0.061578</td>\n",
       "      <td>2.283801</td>\n",
       "    </tr>\n",
       "  </tbody>\n",
       "</table>\n",
       "</div>"
      ],
      "text/plain": [
       "               Deepa       SAS\n",
       "2018-12-07 -0.568728  1.846747\n",
       "2018-12-10  0.084112  0.204471\n",
       "2018-12-12  0.061578  2.283801"
      ]
     },
     "execution_count": 37,
     "metadata": {},
     "output_type": "execute_result"
    }
   ],
   "source": [
    "df.iloc[[0,3,5],[1,2]] #selecting specific values with index and columns"
   ]
  },
  {
   "cell_type": "code",
   "execution_count": 38,
   "metadata": {
    "hidden": true
   },
   "outputs": [
    {
     "data": {
      "text/html": [
       "<div>\n",
       "<style scoped>\n",
       "    .dataframe tbody tr th:only-of-type {\n",
       "        vertical-align: middle;\n",
       "    }\n",
       "\n",
       "    .dataframe tbody tr th {\n",
       "        vertical-align: top;\n",
       "    }\n",
       "\n",
       "    .dataframe thead th {\n",
       "        text-align: right;\n",
       "    }\n",
       "</style>\n",
       "<table border=\"1\" class=\"dataframe\">\n",
       "  <thead>\n",
       "    <tr style=\"text-align: right;\">\n",
       "      <th></th>\n",
       "      <th>Aman</th>\n",
       "      <th>Deepa</th>\n",
       "      <th>SAS</th>\n",
       "      <th>Nigga</th>\n",
       "    </tr>\n",
       "  </thead>\n",
       "  <tbody>\n",
       "    <tr>\n",
       "      <th>2018-12-08</th>\n",
       "      <td>0.139492</td>\n",
       "      <td>0.358108</td>\n",
       "      <td>-0.567163</td>\n",
       "      <td>0.282572</td>\n",
       "    </tr>\n",
       "    <tr>\n",
       "      <th>2018-12-09</th>\n",
       "      <td>-1.619657</td>\n",
       "      <td>-1.530209</td>\n",
       "      <td>2.261449</td>\n",
       "      <td>-0.472735</td>\n",
       "    </tr>\n",
       "  </tbody>\n",
       "</table>\n",
       "</div>"
      ],
      "text/plain": [
       "                Aman     Deepa       SAS     Nigga\n",
       "2018-12-08  0.139492  0.358108 -0.567163  0.282572\n",
       "2018-12-09 -1.619657 -1.530209  2.261449 -0.472735"
      ]
     },
     "execution_count": 38,
     "metadata": {},
     "output_type": "execute_result"
    }
   ],
   "source": [
    "df.iloc[1:3,:] #selecting rows explicitly"
   ]
  },
  {
   "cell_type": "code",
   "execution_count": 39,
   "metadata": {
    "hidden": true
   },
   "outputs": [
    {
     "data": {
      "text/html": [
       "<div>\n",
       "<style scoped>\n",
       "    .dataframe tbody tr th:only-of-type {\n",
       "        vertical-align: middle;\n",
       "    }\n",
       "\n",
       "    .dataframe tbody tr th {\n",
       "        vertical-align: top;\n",
       "    }\n",
       "\n",
       "    .dataframe thead th {\n",
       "        text-align: right;\n",
       "    }\n",
       "</style>\n",
       "<table border=\"1\" class=\"dataframe\">\n",
       "  <thead>\n",
       "    <tr style=\"text-align: right;\">\n",
       "      <th></th>\n",
       "      <th>Aman</th>\n",
       "      <th>SAS</th>\n",
       "    </tr>\n",
       "  </thead>\n",
       "  <tbody>\n",
       "    <tr>\n",
       "      <th>2018-12-07</th>\n",
       "      <td>-1.617787</td>\n",
       "      <td>1.846747</td>\n",
       "    </tr>\n",
       "    <tr>\n",
       "      <th>2018-12-08</th>\n",
       "      <td>0.139492</td>\n",
       "      <td>-0.567163</td>\n",
       "    </tr>\n",
       "    <tr>\n",
       "      <th>2018-12-09</th>\n",
       "      <td>-1.619657</td>\n",
       "      <td>2.261449</td>\n",
       "    </tr>\n",
       "    <tr>\n",
       "      <th>2018-12-10</th>\n",
       "      <td>-0.692662</td>\n",
       "      <td>0.204471</td>\n",
       "    </tr>\n",
       "    <tr>\n",
       "      <th>2018-12-11</th>\n",
       "      <td>-0.224315</td>\n",
       "      <td>0.594835</td>\n",
       "    </tr>\n",
       "    <tr>\n",
       "      <th>2018-12-12</th>\n",
       "      <td>-0.773819</td>\n",
       "      <td>2.283801</td>\n",
       "    </tr>\n",
       "  </tbody>\n",
       "</table>\n",
       "</div>"
      ],
      "text/plain": [
       "                Aman       SAS\n",
       "2018-12-07 -1.617787  1.846747\n",
       "2018-12-08  0.139492 -0.567163\n",
       "2018-12-09 -1.619657  2.261449\n",
       "2018-12-10 -0.692662  0.204471\n",
       "2018-12-11 -0.224315  0.594835\n",
       "2018-12-12 -0.773819  2.283801"
      ]
     },
     "execution_count": 39,
     "metadata": {},
     "output_type": "execute_result"
    }
   ],
   "source": [
    "df.iloc[:,[0,2]] #selecting columns explicitly"
   ]
  },
  {
   "cell_type": "code",
   "execution_count": 40,
   "metadata": {
    "hidden": true
   },
   "outputs": [
    {
     "data": {
      "text/plain": [
       "-1.6177868714387194"
      ]
     },
     "execution_count": 40,
     "metadata": {},
     "output_type": "execute_result"
    }
   ],
   "source": [
    "df.iloc[0,0] #selecting value explicitly"
   ]
  },
  {
   "cell_type": "code",
   "execution_count": 41,
   "metadata": {
    "hidden": true
   },
   "outputs": [
    {
     "data": {
      "text/plain": [
       "-1.6177868714387194"
      ]
     },
     "execution_count": 41,
     "metadata": {},
     "output_type": "execute_result"
    }
   ],
   "source": [
    "df.iat[0,0] #faster"
   ]
  },
  {
   "cell_type": "markdown",
   "metadata": {
    "hidden": true
   },
   "source": [
    "## Boolean Indexing"
   ]
  },
  {
   "cell_type": "code",
   "execution_count": 42,
   "metadata": {
    "hidden": true
   },
   "outputs": [
    {
     "data": {
      "text/html": [
       "<div>\n",
       "<style scoped>\n",
       "    .dataframe tbody tr th:only-of-type {\n",
       "        vertical-align: middle;\n",
       "    }\n",
       "\n",
       "    .dataframe tbody tr th {\n",
       "        vertical-align: top;\n",
       "    }\n",
       "\n",
       "    .dataframe thead th {\n",
       "        text-align: right;\n",
       "    }\n",
       "</style>\n",
       "<table border=\"1\" class=\"dataframe\">\n",
       "  <thead>\n",
       "    <tr style=\"text-align: right;\">\n",
       "      <th></th>\n",
       "      <th>Aman</th>\n",
       "      <th>Deepa</th>\n",
       "      <th>SAS</th>\n",
       "      <th>Nigga</th>\n",
       "    </tr>\n",
       "  </thead>\n",
       "  <tbody>\n",
       "    <tr>\n",
       "      <th>2018-12-08</th>\n",
       "      <td>0.139492</td>\n",
       "      <td>0.358108</td>\n",
       "      <td>-0.567163</td>\n",
       "      <td>0.282572</td>\n",
       "    </tr>\n",
       "    <tr>\n",
       "      <th>2018-12-10</th>\n",
       "      <td>-0.692662</td>\n",
       "      <td>0.084112</td>\n",
       "      <td>0.204471</td>\n",
       "      <td>-0.828056</td>\n",
       "    </tr>\n",
       "    <tr>\n",
       "      <th>2018-12-12</th>\n",
       "      <td>-0.773819</td>\n",
       "      <td>0.061578</td>\n",
       "      <td>2.283801</td>\n",
       "      <td>-0.543336</td>\n",
       "    </tr>\n",
       "  </tbody>\n",
       "</table>\n",
       "</div>"
      ],
      "text/plain": [
       "                Aman     Deepa       SAS     Nigga\n",
       "2018-12-08  0.139492  0.358108 -0.567163  0.282572\n",
       "2018-12-10 -0.692662  0.084112  0.204471 -0.828056\n",
       "2018-12-12 -0.773819  0.061578  2.283801 -0.543336"
      ]
     },
     "execution_count": 42,
     "metadata": {},
     "output_type": "execute_result"
    }
   ],
   "source": [
    "df[df.Deepa > 0] #Using a single column's value to select data"
   ]
  },
  {
   "cell_type": "code",
   "execution_count": 43,
   "metadata": {
    "hidden": true
   },
   "outputs": [
    {
     "data": {
      "text/html": [
       "<div>\n",
       "<style scoped>\n",
       "    .dataframe tbody tr th:only-of-type {\n",
       "        vertical-align: middle;\n",
       "    }\n",
       "\n",
       "    .dataframe tbody tr th {\n",
       "        vertical-align: top;\n",
       "    }\n",
       "\n",
       "    .dataframe thead th {\n",
       "        text-align: right;\n",
       "    }\n",
       "</style>\n",
       "<table border=\"1\" class=\"dataframe\">\n",
       "  <thead>\n",
       "    <tr style=\"text-align: right;\">\n",
       "      <th></th>\n",
       "      <th>Aman</th>\n",
       "      <th>Deepa</th>\n",
       "      <th>SAS</th>\n",
       "      <th>Nigga</th>\n",
       "    </tr>\n",
       "  </thead>\n",
       "  <tbody>\n",
       "    <tr>\n",
       "      <th>2018-12-07</th>\n",
       "      <td>NaN</td>\n",
       "      <td>NaN</td>\n",
       "      <td>1.846747</td>\n",
       "      <td>NaN</td>\n",
       "    </tr>\n",
       "    <tr>\n",
       "      <th>2018-12-08</th>\n",
       "      <td>0.139492</td>\n",
       "      <td>0.358108</td>\n",
       "      <td>NaN</td>\n",
       "      <td>0.282572</td>\n",
       "    </tr>\n",
       "    <tr>\n",
       "      <th>2018-12-09</th>\n",
       "      <td>NaN</td>\n",
       "      <td>NaN</td>\n",
       "      <td>2.261449</td>\n",
       "      <td>NaN</td>\n",
       "    </tr>\n",
       "    <tr>\n",
       "      <th>2018-12-10</th>\n",
       "      <td>NaN</td>\n",
       "      <td>0.084112</td>\n",
       "      <td>0.204471</td>\n",
       "      <td>NaN</td>\n",
       "    </tr>\n",
       "    <tr>\n",
       "      <th>2018-12-11</th>\n",
       "      <td>NaN</td>\n",
       "      <td>NaN</td>\n",
       "      <td>0.594835</td>\n",
       "      <td>0.457793</td>\n",
       "    </tr>\n",
       "    <tr>\n",
       "      <th>2018-12-12</th>\n",
       "      <td>NaN</td>\n",
       "      <td>0.061578</td>\n",
       "      <td>2.283801</td>\n",
       "      <td>NaN</td>\n",
       "    </tr>\n",
       "  </tbody>\n",
       "</table>\n",
       "</div>"
      ],
      "text/plain": [
       "                Aman     Deepa       SAS     Nigga\n",
       "2018-12-07       NaN       NaN  1.846747       NaN\n",
       "2018-12-08  0.139492  0.358108       NaN  0.282572\n",
       "2018-12-09       NaN       NaN  2.261449       NaN\n",
       "2018-12-10       NaN  0.084112  0.204471       NaN\n",
       "2018-12-11       NaN       NaN  0.594835  0.457793\n",
       "2018-12-12       NaN  0.061578  2.283801       NaN"
      ]
     },
     "execution_count": 43,
     "metadata": {},
     "output_type": "execute_result"
    }
   ],
   "source": [
    "df[df > 0] #Selecting data from dataframe where boolean condition  is met"
   ]
  },
  {
   "cell_type": "code",
   "execution_count": 44,
   "metadata": {
    "hidden": true
   },
   "outputs": [
    {
     "data": {
      "text/html": [
       "<div>\n",
       "<style scoped>\n",
       "    .dataframe tbody tr th:only-of-type {\n",
       "        vertical-align: middle;\n",
       "    }\n",
       "\n",
       "    .dataframe tbody tr th {\n",
       "        vertical-align: top;\n",
       "    }\n",
       "\n",
       "    .dataframe thead th {\n",
       "        text-align: right;\n",
       "    }\n",
       "</style>\n",
       "<table border=\"1\" class=\"dataframe\">\n",
       "  <thead>\n",
       "    <tr style=\"text-align: right;\">\n",
       "      <th></th>\n",
       "      <th>Aman</th>\n",
       "      <th>Deepa</th>\n",
       "      <th>SAS</th>\n",
       "      <th>Nigga</th>\n",
       "      <th>Emma</th>\n",
       "    </tr>\n",
       "  </thead>\n",
       "  <tbody>\n",
       "    <tr>\n",
       "      <th>2018-12-07</th>\n",
       "      <td>-1.617787</td>\n",
       "      <td>-0.568728</td>\n",
       "      <td>1.846747</td>\n",
       "      <td>-1.071114</td>\n",
       "      <td>one</td>\n",
       "    </tr>\n",
       "    <tr>\n",
       "      <th>2018-12-08</th>\n",
       "      <td>0.139492</td>\n",
       "      <td>0.358108</td>\n",
       "      <td>-0.567163</td>\n",
       "      <td>0.282572</td>\n",
       "      <td>one</td>\n",
       "    </tr>\n",
       "    <tr>\n",
       "      <th>2018-12-09</th>\n",
       "      <td>-1.619657</td>\n",
       "      <td>-1.530209</td>\n",
       "      <td>2.261449</td>\n",
       "      <td>-0.472735</td>\n",
       "      <td>two</td>\n",
       "    </tr>\n",
       "    <tr>\n",
       "      <th>2018-12-10</th>\n",
       "      <td>-0.692662</td>\n",
       "      <td>0.084112</td>\n",
       "      <td>0.204471</td>\n",
       "      <td>-0.828056</td>\n",
       "      <td>three</td>\n",
       "    </tr>\n",
       "    <tr>\n",
       "      <th>2018-12-11</th>\n",
       "      <td>-0.224315</td>\n",
       "      <td>-1.601540</td>\n",
       "      <td>0.594835</td>\n",
       "      <td>0.457793</td>\n",
       "      <td>four</td>\n",
       "    </tr>\n",
       "    <tr>\n",
       "      <th>2018-12-12</th>\n",
       "      <td>-0.773819</td>\n",
       "      <td>0.061578</td>\n",
       "      <td>2.283801</td>\n",
       "      <td>-0.543336</td>\n",
       "      <td>three</td>\n",
       "    </tr>\n",
       "  </tbody>\n",
       "</table>\n",
       "</div>"
      ],
      "text/plain": [
       "                Aman     Deepa       SAS     Nigga   Emma\n",
       "2018-12-07 -1.617787 -0.568728  1.846747 -1.071114    one\n",
       "2018-12-08  0.139492  0.358108 -0.567163  0.282572    one\n",
       "2018-12-09 -1.619657 -1.530209  2.261449 -0.472735    two\n",
       "2018-12-10 -0.692662  0.084112  0.204471 -0.828056  three\n",
       "2018-12-11 -0.224315 -1.601540  0.594835  0.457793   four\n",
       "2018-12-12 -0.773819  0.061578  2.283801 -0.543336  three"
      ]
     },
     "execution_count": 44,
     "metadata": {},
     "output_type": "execute_result"
    }
   ],
   "source": [
    "df2 = df.copy() #make a copy of dataframe\n",
    "df2['Emma'] = ['one', 'one','two','three','four','three']\n",
    "df2"
   ]
  },
  {
   "cell_type": "code",
   "execution_count": 45,
   "metadata": {
    "hidden": true
   },
   "outputs": [
    {
     "data": {
      "text/html": [
       "<div>\n",
       "<style scoped>\n",
       "    .dataframe tbody tr th:only-of-type {\n",
       "        vertical-align: middle;\n",
       "    }\n",
       "\n",
       "    .dataframe tbody tr th {\n",
       "        vertical-align: top;\n",
       "    }\n",
       "\n",
       "    .dataframe thead th {\n",
       "        text-align: right;\n",
       "    }\n",
       "</style>\n",
       "<table border=\"1\" class=\"dataframe\">\n",
       "  <thead>\n",
       "    <tr style=\"text-align: right;\">\n",
       "      <th></th>\n",
       "      <th>Aman</th>\n",
       "      <th>Deepa</th>\n",
       "      <th>SAS</th>\n",
       "      <th>Nigga</th>\n",
       "      <th>Emma</th>\n",
       "    </tr>\n",
       "  </thead>\n",
       "  <tbody>\n",
       "    <tr>\n",
       "      <th>2018-12-07</th>\n",
       "      <td>-1.617787</td>\n",
       "      <td>-0.568728</td>\n",
       "      <td>1.846747</td>\n",
       "      <td>-1.071114</td>\n",
       "      <td>one</td>\n",
       "    </tr>\n",
       "    <tr>\n",
       "      <th>2018-12-08</th>\n",
       "      <td>0.139492</td>\n",
       "      <td>0.358108</td>\n",
       "      <td>-0.567163</td>\n",
       "      <td>0.282572</td>\n",
       "      <td>one</td>\n",
       "    </tr>\n",
       "    <tr>\n",
       "      <th>2018-12-10</th>\n",
       "      <td>-0.692662</td>\n",
       "      <td>0.084112</td>\n",
       "      <td>0.204471</td>\n",
       "      <td>-0.828056</td>\n",
       "      <td>three</td>\n",
       "    </tr>\n",
       "    <tr>\n",
       "      <th>2018-12-12</th>\n",
       "      <td>-0.773819</td>\n",
       "      <td>0.061578</td>\n",
       "      <td>2.283801</td>\n",
       "      <td>-0.543336</td>\n",
       "      <td>three</td>\n",
       "    </tr>\n",
       "  </tbody>\n",
       "</table>\n",
       "</div>"
      ],
      "text/plain": [
       "                Aman     Deepa       SAS     Nigga   Emma\n",
       "2018-12-07 -1.617787 -0.568728  1.846747 -1.071114    one\n",
       "2018-12-08  0.139492  0.358108 -0.567163  0.282572    one\n",
       "2018-12-10 -0.692662  0.084112  0.204471 -0.828056  three\n",
       "2018-12-12 -0.773819  0.061578  2.283801 -0.543336  three"
      ]
     },
     "execution_count": 45,
     "metadata": {},
     "output_type": "execute_result"
    }
   ],
   "source": [
    "df2[df2['Emma'].isin(['one','three'])]"
   ]
  },
  {
   "cell_type": "markdown",
   "metadata": {
    "hidden": true
   },
   "source": [
    "## Setting"
   ]
  },
  {
   "cell_type": "code",
   "execution_count": 46,
   "metadata": {
    "hidden": true
   },
   "outputs": [
    {
     "data": {
      "text/html": [
       "<div>\n",
       "<style scoped>\n",
       "    .dataframe tbody tr th:only-of-type {\n",
       "        vertical-align: middle;\n",
       "    }\n",
       "\n",
       "    .dataframe tbody tr th {\n",
       "        vertical-align: top;\n",
       "    }\n",
       "\n",
       "    .dataframe thead th {\n",
       "        text-align: right;\n",
       "    }\n",
       "</style>\n",
       "<table border=\"1\" class=\"dataframe\">\n",
       "  <thead>\n",
       "    <tr style=\"text-align: right;\">\n",
       "      <th></th>\n",
       "      <th>Aman</th>\n",
       "      <th>Deepa</th>\n",
       "      <th>SAS</th>\n",
       "      <th>Nigga</th>\n",
       "      <th>Fara</th>\n",
       "    </tr>\n",
       "  </thead>\n",
       "  <tbody>\n",
       "    <tr>\n",
       "      <th>2018-12-07</th>\n",
       "      <td>-1.617787</td>\n",
       "      <td>-0.568728</td>\n",
       "      <td>1.846747</td>\n",
       "      <td>-1.071114</td>\n",
       "      <td>1</td>\n",
       "    </tr>\n",
       "    <tr>\n",
       "      <th>2018-12-08</th>\n",
       "      <td>0.139492</td>\n",
       "      <td>0.358108</td>\n",
       "      <td>-0.567163</td>\n",
       "      <td>0.282572</td>\n",
       "      <td>2</td>\n",
       "    </tr>\n",
       "    <tr>\n",
       "      <th>2018-12-09</th>\n",
       "      <td>-1.619657</td>\n",
       "      <td>-1.530209</td>\n",
       "      <td>2.261449</td>\n",
       "      <td>-0.472735</td>\n",
       "      <td>3</td>\n",
       "    </tr>\n",
       "    <tr>\n",
       "      <th>2018-12-10</th>\n",
       "      <td>-0.692662</td>\n",
       "      <td>0.084112</td>\n",
       "      <td>0.204471</td>\n",
       "      <td>-0.828056</td>\n",
       "      <td>4</td>\n",
       "    </tr>\n",
       "    <tr>\n",
       "      <th>2018-12-11</th>\n",
       "      <td>-0.224315</td>\n",
       "      <td>-1.601540</td>\n",
       "      <td>0.594835</td>\n",
       "      <td>0.457793</td>\n",
       "      <td>5</td>\n",
       "    </tr>\n",
       "    <tr>\n",
       "      <th>2018-12-12</th>\n",
       "      <td>-0.773819</td>\n",
       "      <td>0.061578</td>\n",
       "      <td>2.283801</td>\n",
       "      <td>-0.543336</td>\n",
       "      <td>6</td>\n",
       "    </tr>\n",
       "  </tbody>\n",
       "</table>\n",
       "</div>"
      ],
      "text/plain": [
       "                Aman     Deepa       SAS     Nigga  Fara\n",
       "2018-12-07 -1.617787 -0.568728  1.846747 -1.071114     1\n",
       "2018-12-08  0.139492  0.358108 -0.567163  0.282572     2\n",
       "2018-12-09 -1.619657 -1.530209  2.261449 -0.472735     3\n",
       "2018-12-10 -0.692662  0.084112  0.204471 -0.828056     4\n",
       "2018-12-11 -0.224315 -1.601540  0.594835  0.457793     5\n",
       "2018-12-12 -0.773819  0.061578  2.283801 -0.543336     6"
      ]
     },
     "execution_count": 46,
     "metadata": {},
     "output_type": "execute_result"
    }
   ],
   "source": [
    "s1 = pd.Series([1,2,3,4,5,6], index = pd.date_range('20181207', periods=6))\n",
    "df['Fara'] = s1\n",
    "df"
   ]
  },
  {
   "cell_type": "code",
   "execution_count": 47,
   "metadata": {
    "hidden": true
   },
   "outputs": [
    {
     "data": {
      "text/html": [
       "<div>\n",
       "<style scoped>\n",
       "    .dataframe tbody tr th:only-of-type {\n",
       "        vertical-align: middle;\n",
       "    }\n",
       "\n",
       "    .dataframe tbody tr th {\n",
       "        vertical-align: top;\n",
       "    }\n",
       "\n",
       "    .dataframe thead th {\n",
       "        text-align: right;\n",
       "    }\n",
       "</style>\n",
       "<table border=\"1\" class=\"dataframe\">\n",
       "  <thead>\n",
       "    <tr style=\"text-align: right;\">\n",
       "      <th></th>\n",
       "      <th>Aman</th>\n",
       "      <th>Deepa</th>\n",
       "      <th>SAS</th>\n",
       "      <th>Nigga</th>\n",
       "      <th>Fara</th>\n",
       "    </tr>\n",
       "  </thead>\n",
       "  <tbody>\n",
       "    <tr>\n",
       "      <th>2018-12-07</th>\n",
       "      <td>0.000000</td>\n",
       "      <td>-0.568728</td>\n",
       "      <td>1.846747</td>\n",
       "      <td>-1.071114</td>\n",
       "      <td>1</td>\n",
       "    </tr>\n",
       "    <tr>\n",
       "      <th>2018-12-08</th>\n",
       "      <td>0.139492</td>\n",
       "      <td>0.358108</td>\n",
       "      <td>-0.567163</td>\n",
       "      <td>0.282572</td>\n",
       "      <td>2</td>\n",
       "    </tr>\n",
       "    <tr>\n",
       "      <th>2018-12-09</th>\n",
       "      <td>-1.619657</td>\n",
       "      <td>-1.530209</td>\n",
       "      <td>2.261449</td>\n",
       "      <td>-0.472735</td>\n",
       "      <td>3</td>\n",
       "    </tr>\n",
       "    <tr>\n",
       "      <th>2018-12-10</th>\n",
       "      <td>-0.692662</td>\n",
       "      <td>0.084112</td>\n",
       "      <td>0.204471</td>\n",
       "      <td>-0.828056</td>\n",
       "      <td>4</td>\n",
       "    </tr>\n",
       "    <tr>\n",
       "      <th>2018-12-11</th>\n",
       "      <td>-0.224315</td>\n",
       "      <td>-1.601540</td>\n",
       "      <td>0.594835</td>\n",
       "      <td>0.457793</td>\n",
       "      <td>5</td>\n",
       "    </tr>\n",
       "    <tr>\n",
       "      <th>2018-12-12</th>\n",
       "      <td>-0.773819</td>\n",
       "      <td>0.061578</td>\n",
       "      <td>2.283801</td>\n",
       "      <td>-0.543336</td>\n",
       "      <td>6</td>\n",
       "    </tr>\n",
       "  </tbody>\n",
       "</table>\n",
       "</div>"
      ],
      "text/plain": [
       "                Aman     Deepa       SAS     Nigga  Fara\n",
       "2018-12-07  0.000000 -0.568728  1.846747 -1.071114     1\n",
       "2018-12-08  0.139492  0.358108 -0.567163  0.282572     2\n",
       "2018-12-09 -1.619657 -1.530209  2.261449 -0.472735     3\n",
       "2018-12-10 -0.692662  0.084112  0.204471 -0.828056     4\n",
       "2018-12-11 -0.224315 -1.601540  0.594835  0.457793     5\n",
       "2018-12-12 -0.773819  0.061578  2.283801 -0.543336     6"
      ]
     },
     "execution_count": 47,
     "metadata": {},
     "output_type": "execute_result"
    }
   ],
   "source": [
    "df.at[dates[0],'Aman'] = 0\n",
    "df #setting values label"
   ]
  },
  {
   "cell_type": "code",
   "execution_count": 48,
   "metadata": {
    "hidden": true
   },
   "outputs": [
    {
     "data": {
      "text/html": [
       "<div>\n",
       "<style scoped>\n",
       "    .dataframe tbody tr th:only-of-type {\n",
       "        vertical-align: middle;\n",
       "    }\n",
       "\n",
       "    .dataframe tbody tr th {\n",
       "        vertical-align: top;\n",
       "    }\n",
       "\n",
       "    .dataframe thead th {\n",
       "        text-align: right;\n",
       "    }\n",
       "</style>\n",
       "<table border=\"1\" class=\"dataframe\">\n",
       "  <thead>\n",
       "    <tr style=\"text-align: right;\">\n",
       "      <th></th>\n",
       "      <th>Aman</th>\n",
       "      <th>Deepa</th>\n",
       "      <th>SAS</th>\n",
       "      <th>Nigga</th>\n",
       "      <th>Fara</th>\n",
       "    </tr>\n",
       "  </thead>\n",
       "  <tbody>\n",
       "    <tr>\n",
       "      <th>2018-12-07</th>\n",
       "      <td>0.000000</td>\n",
       "      <td>-0.568728</td>\n",
       "      <td>1.846747</td>\n",
       "      <td>-1.071114</td>\n",
       "      <td>1</td>\n",
       "    </tr>\n",
       "    <tr>\n",
       "      <th>2018-12-08</th>\n",
       "      <td>0.000000</td>\n",
       "      <td>0.358108</td>\n",
       "      <td>-0.567163</td>\n",
       "      <td>0.282572</td>\n",
       "      <td>2</td>\n",
       "    </tr>\n",
       "    <tr>\n",
       "      <th>2018-12-09</th>\n",
       "      <td>-1.619657</td>\n",
       "      <td>-1.530209</td>\n",
       "      <td>2.261449</td>\n",
       "      <td>-0.472735</td>\n",
       "      <td>3</td>\n",
       "    </tr>\n",
       "    <tr>\n",
       "      <th>2018-12-10</th>\n",
       "      <td>-0.692662</td>\n",
       "      <td>0.084112</td>\n",
       "      <td>0.204471</td>\n",
       "      <td>-0.828056</td>\n",
       "      <td>4</td>\n",
       "    </tr>\n",
       "    <tr>\n",
       "      <th>2018-12-11</th>\n",
       "      <td>-0.224315</td>\n",
       "      <td>-1.601540</td>\n",
       "      <td>0.594835</td>\n",
       "      <td>0.457793</td>\n",
       "      <td>5</td>\n",
       "    </tr>\n",
       "    <tr>\n",
       "      <th>2018-12-12</th>\n",
       "      <td>-0.773819</td>\n",
       "      <td>0.061578</td>\n",
       "      <td>2.283801</td>\n",
       "      <td>-0.543336</td>\n",
       "      <td>6</td>\n",
       "    </tr>\n",
       "  </tbody>\n",
       "</table>\n",
       "</div>"
      ],
      "text/plain": [
       "                Aman     Deepa       SAS     Nigga  Fara\n",
       "2018-12-07  0.000000 -0.568728  1.846747 -1.071114     1\n",
       "2018-12-08  0.000000  0.358108 -0.567163  0.282572     2\n",
       "2018-12-09 -1.619657 -1.530209  2.261449 -0.472735     3\n",
       "2018-12-10 -0.692662  0.084112  0.204471 -0.828056     4\n",
       "2018-12-11 -0.224315 -1.601540  0.594835  0.457793     5\n",
       "2018-12-12 -0.773819  0.061578  2.283801 -0.543336     6"
      ]
     },
     "execution_count": 48,
     "metadata": {},
     "output_type": "execute_result"
    }
   ],
   "source": [
    "df.iat[1,0] = 0\n",
    "df #setting values by index"
   ]
  },
  {
   "cell_type": "code",
   "execution_count": 49,
   "metadata": {
    "hidden": true
   },
   "outputs": [
    {
     "data": {
      "text/html": [
       "<div>\n",
       "<style scoped>\n",
       "    .dataframe tbody tr th:only-of-type {\n",
       "        vertical-align: middle;\n",
       "    }\n",
       "\n",
       "    .dataframe tbody tr th {\n",
       "        vertical-align: top;\n",
       "    }\n",
       "\n",
       "    .dataframe thead th {\n",
       "        text-align: right;\n",
       "    }\n",
       "</style>\n",
       "<table border=\"1\" class=\"dataframe\">\n",
       "  <thead>\n",
       "    <tr style=\"text-align: right;\">\n",
       "      <th></th>\n",
       "      <th>Aman</th>\n",
       "      <th>Deepa</th>\n",
       "      <th>SAS</th>\n",
       "      <th>Nigga</th>\n",
       "      <th>Fara</th>\n",
       "      <th>F</th>\n",
       "    </tr>\n",
       "  </thead>\n",
       "  <tbody>\n",
       "    <tr>\n",
       "      <th>2018-12-07</th>\n",
       "      <td>0.000000</td>\n",
       "      <td>-0.568728</td>\n",
       "      <td>1.846747</td>\n",
       "      <td>-1.071114</td>\n",
       "      <td>1</td>\n",
       "      <td>5</td>\n",
       "    </tr>\n",
       "    <tr>\n",
       "      <th>2018-12-08</th>\n",
       "      <td>0.000000</td>\n",
       "      <td>0.358108</td>\n",
       "      <td>-0.567163</td>\n",
       "      <td>0.282572</td>\n",
       "      <td>2</td>\n",
       "      <td>5</td>\n",
       "    </tr>\n",
       "    <tr>\n",
       "      <th>2018-12-09</th>\n",
       "      <td>-1.619657</td>\n",
       "      <td>-1.530209</td>\n",
       "      <td>2.261449</td>\n",
       "      <td>-0.472735</td>\n",
       "      <td>3</td>\n",
       "      <td>5</td>\n",
       "    </tr>\n",
       "    <tr>\n",
       "      <th>2018-12-10</th>\n",
       "      <td>-0.692662</td>\n",
       "      <td>0.084112</td>\n",
       "      <td>0.204471</td>\n",
       "      <td>-0.828056</td>\n",
       "      <td>4</td>\n",
       "      <td>5</td>\n",
       "    </tr>\n",
       "    <tr>\n",
       "      <th>2018-12-11</th>\n",
       "      <td>-0.224315</td>\n",
       "      <td>-1.601540</td>\n",
       "      <td>0.594835</td>\n",
       "      <td>0.457793</td>\n",
       "      <td>5</td>\n",
       "      <td>5</td>\n",
       "    </tr>\n",
       "    <tr>\n",
       "      <th>2018-12-12</th>\n",
       "      <td>-0.773819</td>\n",
       "      <td>0.061578</td>\n",
       "      <td>2.283801</td>\n",
       "      <td>-0.543336</td>\n",
       "      <td>6</td>\n",
       "      <td>5</td>\n",
       "    </tr>\n",
       "  </tbody>\n",
       "</table>\n",
       "</div>"
      ],
      "text/plain": [
       "                Aman     Deepa       SAS     Nigga  Fara  F\n",
       "2018-12-07  0.000000 -0.568728  1.846747 -1.071114     1  5\n",
       "2018-12-08  0.000000  0.358108 -0.567163  0.282572     2  5\n",
       "2018-12-09 -1.619657 -1.530209  2.261449 -0.472735     3  5\n",
       "2018-12-10 -0.692662  0.084112  0.204471 -0.828056     4  5\n",
       "2018-12-11 -0.224315 -1.601540  0.594835  0.457793     5  5\n",
       "2018-12-12 -0.773819  0.061578  2.283801 -0.543336     6  5"
      ]
     },
     "execution_count": 49,
     "metadata": {},
     "output_type": "execute_result"
    }
   ],
   "source": [
    "df.loc[:,'F'] = np.array([5] * len(df))\n",
    "df # setting value by numpy array"
   ]
  },
  {
   "cell_type": "code",
   "execution_count": 50,
   "metadata": {
    "hidden": true
   },
   "outputs": [
    {
     "data": {
      "text/html": [
       "<div>\n",
       "<style scoped>\n",
       "    .dataframe tbody tr th:only-of-type {\n",
       "        vertical-align: middle;\n",
       "    }\n",
       "\n",
       "    .dataframe tbody tr th {\n",
       "        vertical-align: top;\n",
       "    }\n",
       "\n",
       "    .dataframe thead th {\n",
       "        text-align: right;\n",
       "    }\n",
       "</style>\n",
       "<table border=\"1\" class=\"dataframe\">\n",
       "  <thead>\n",
       "    <tr style=\"text-align: right;\">\n",
       "      <th></th>\n",
       "      <th>Aman</th>\n",
       "      <th>Deepa</th>\n",
       "      <th>SAS</th>\n",
       "      <th>Nigga</th>\n",
       "      <th>Fara</th>\n",
       "      <th>F</th>\n",
       "    </tr>\n",
       "  </thead>\n",
       "  <tbody>\n",
       "    <tr>\n",
       "      <th>2018-12-07</th>\n",
       "      <td>0.000000</td>\n",
       "      <td>-0.568728</td>\n",
       "      <td>1.846747</td>\n",
       "      <td>-1.071114</td>\n",
       "      <td>1</td>\n",
       "      <td>5</td>\n",
       "    </tr>\n",
       "    <tr>\n",
       "      <th>2018-12-08</th>\n",
       "      <td>0.000000</td>\n",
       "      <td>0.358108</td>\n",
       "      <td>-0.567163</td>\n",
       "      <td>0.282572</td>\n",
       "      <td>2</td>\n",
       "      <td>5</td>\n",
       "    </tr>\n",
       "    <tr>\n",
       "      <th>2018-12-09</th>\n",
       "      <td>-1.619657</td>\n",
       "      <td>-1.530209</td>\n",
       "      <td>2.261449</td>\n",
       "      <td>-0.472735</td>\n",
       "      <td>3</td>\n",
       "      <td>5</td>\n",
       "    </tr>\n",
       "    <tr>\n",
       "      <th>2018-12-10</th>\n",
       "      <td>-0.692662</td>\n",
       "      <td>0.084112</td>\n",
       "      <td>0.204471</td>\n",
       "      <td>-0.828056</td>\n",
       "      <td>4</td>\n",
       "      <td>5</td>\n",
       "    </tr>\n",
       "    <tr>\n",
       "      <th>2018-12-11</th>\n",
       "      <td>-0.224315</td>\n",
       "      <td>-1.601540</td>\n",
       "      <td>0.594835</td>\n",
       "      <td>0.457793</td>\n",
       "      <td>5</td>\n",
       "      <td>5</td>\n",
       "    </tr>\n",
       "    <tr>\n",
       "      <th>2018-12-12</th>\n",
       "      <td>-0.773819</td>\n",
       "      <td>0.061578</td>\n",
       "      <td>2.283801</td>\n",
       "      <td>-0.543336</td>\n",
       "      <td>6</td>\n",
       "      <td>5</td>\n",
       "    </tr>\n",
       "  </tbody>\n",
       "</table>\n",
       "</div>"
      ],
      "text/plain": [
       "                Aman     Deepa       SAS     Nigga  Fara  F\n",
       "2018-12-07  0.000000 -0.568728  1.846747 -1.071114     1  5\n",
       "2018-12-08  0.000000  0.358108 -0.567163  0.282572     2  5\n",
       "2018-12-09 -1.619657 -1.530209  2.261449 -0.472735     3  5\n",
       "2018-12-10 -0.692662  0.084112  0.204471 -0.828056     4  5\n",
       "2018-12-11 -0.224315 -1.601540  0.594835  0.457793     5  5\n",
       "2018-12-12 -0.773819  0.061578  2.283801 -0.543336     6  5"
      ]
     },
     "execution_count": 50,
     "metadata": {},
     "output_type": "execute_result"
    }
   ],
   "source": [
    "df3 = df.copy()\n",
    "df3"
   ]
  },
  {
   "cell_type": "code",
   "execution_count": 51,
   "metadata": {
    "hidden": true
   },
   "outputs": [
    {
     "data": {
      "text/html": [
       "<div>\n",
       "<style scoped>\n",
       "    .dataframe tbody tr th:only-of-type {\n",
       "        vertical-align: middle;\n",
       "    }\n",
       "\n",
       "    .dataframe tbody tr th {\n",
       "        vertical-align: top;\n",
       "    }\n",
       "\n",
       "    .dataframe thead th {\n",
       "        text-align: right;\n",
       "    }\n",
       "</style>\n",
       "<table border=\"1\" class=\"dataframe\">\n",
       "  <thead>\n",
       "    <tr style=\"text-align: right;\">\n",
       "      <th></th>\n",
       "      <th>Aman</th>\n",
       "      <th>Deepa</th>\n",
       "      <th>SAS</th>\n",
       "      <th>Nigga</th>\n",
       "      <th>Fara</th>\n",
       "      <th>F</th>\n",
       "    </tr>\n",
       "  </thead>\n",
       "  <tbody>\n",
       "    <tr>\n",
       "      <th>2018-12-07</th>\n",
       "      <td>0.000000</td>\n",
       "      <td>-0.568728</td>\n",
       "      <td>1.846747</td>\n",
       "      <td>-1.071114</td>\n",
       "      <td>1</td>\n",
       "      <td>4</td>\n",
       "    </tr>\n",
       "    <tr>\n",
       "      <th>2018-12-08</th>\n",
       "      <td>0.000000</td>\n",
       "      <td>0.358108</td>\n",
       "      <td>-0.567163</td>\n",
       "      <td>0.282572</td>\n",
       "      <td>2</td>\n",
       "      <td>4</td>\n",
       "    </tr>\n",
       "    <tr>\n",
       "      <th>2018-12-09</th>\n",
       "      <td>-1.619657</td>\n",
       "      <td>-1.530209</td>\n",
       "      <td>2.261449</td>\n",
       "      <td>-0.472735</td>\n",
       "      <td>3</td>\n",
       "      <td>4</td>\n",
       "    </tr>\n",
       "    <tr>\n",
       "      <th>2018-12-10</th>\n",
       "      <td>-0.692662</td>\n",
       "      <td>0.084112</td>\n",
       "      <td>0.204471</td>\n",
       "      <td>-0.828056</td>\n",
       "      <td>4</td>\n",
       "      <td>4</td>\n",
       "    </tr>\n",
       "    <tr>\n",
       "      <th>2018-12-11</th>\n",
       "      <td>-0.224315</td>\n",
       "      <td>-1.601540</td>\n",
       "      <td>0.594835</td>\n",
       "      <td>0.457793</td>\n",
       "      <td>5</td>\n",
       "      <td>4</td>\n",
       "    </tr>\n",
       "    <tr>\n",
       "      <th>2018-12-12</th>\n",
       "      <td>-0.773819</td>\n",
       "      <td>0.061578</td>\n",
       "      <td>2.283801</td>\n",
       "      <td>-0.543336</td>\n",
       "      <td>6</td>\n",
       "      <td>4</td>\n",
       "    </tr>\n",
       "  </tbody>\n",
       "</table>\n",
       "</div>"
      ],
      "text/plain": [
       "                Aman     Deepa       SAS     Nigga  Fara  F\n",
       "2018-12-07  0.000000 -0.568728  1.846747 -1.071114     1  4\n",
       "2018-12-08  0.000000  0.358108 -0.567163  0.282572     2  4\n",
       "2018-12-09 -1.619657 -1.530209  2.261449 -0.472735     3  4\n",
       "2018-12-10 -0.692662  0.084112  0.204471 -0.828056     4  4\n",
       "2018-12-11 -0.224315 -1.601540  0.594835  0.457793     5  4\n",
       "2018-12-12 -0.773819  0.061578  2.283801 -0.543336     6  4"
      ]
     },
     "execution_count": 51,
     "metadata": {},
     "output_type": "execute_result"
    }
   ],
   "source": [
    "df3.iloc[:,5] = 4\n",
    "df3"
   ]
  },
  {
   "cell_type": "code",
   "execution_count": 52,
   "metadata": {
    "hidden": true
   },
   "outputs": [
    {
     "data": {
      "text/html": [
       "<div>\n",
       "<style scoped>\n",
       "    .dataframe tbody tr th:only-of-type {\n",
       "        vertical-align: middle;\n",
       "    }\n",
       "\n",
       "    .dataframe tbody tr th {\n",
       "        vertical-align: top;\n",
       "    }\n",
       "\n",
       "    .dataframe thead th {\n",
       "        text-align: right;\n",
       "    }\n",
       "</style>\n",
       "<table border=\"1\" class=\"dataframe\">\n",
       "  <thead>\n",
       "    <tr style=\"text-align: right;\">\n",
       "      <th></th>\n",
       "      <th>Aman</th>\n",
       "      <th>Deepa</th>\n",
       "      <th>SAS</th>\n",
       "      <th>Nigga</th>\n",
       "      <th>Fara</th>\n",
       "      <th>F</th>\n",
       "    </tr>\n",
       "  </thead>\n",
       "  <tbody>\n",
       "    <tr>\n",
       "      <th>2018-12-07</th>\n",
       "      <td>0.000000</td>\n",
       "      <td>-0.568728</td>\n",
       "      <td>-1.846747</td>\n",
       "      <td>-1.071114</td>\n",
       "      <td>-1</td>\n",
       "      <td>-4</td>\n",
       "    </tr>\n",
       "    <tr>\n",
       "      <th>2018-12-08</th>\n",
       "      <td>0.000000</td>\n",
       "      <td>-0.358108</td>\n",
       "      <td>-0.567163</td>\n",
       "      <td>-0.282572</td>\n",
       "      <td>-2</td>\n",
       "      <td>-4</td>\n",
       "    </tr>\n",
       "    <tr>\n",
       "      <th>2018-12-09</th>\n",
       "      <td>-1.619657</td>\n",
       "      <td>-1.530209</td>\n",
       "      <td>-2.261449</td>\n",
       "      <td>-0.472735</td>\n",
       "      <td>-3</td>\n",
       "      <td>-4</td>\n",
       "    </tr>\n",
       "    <tr>\n",
       "      <th>2018-12-10</th>\n",
       "      <td>-0.692662</td>\n",
       "      <td>-0.084112</td>\n",
       "      <td>-0.204471</td>\n",
       "      <td>-0.828056</td>\n",
       "      <td>-4</td>\n",
       "      <td>-4</td>\n",
       "    </tr>\n",
       "    <tr>\n",
       "      <th>2018-12-11</th>\n",
       "      <td>-0.224315</td>\n",
       "      <td>-1.601540</td>\n",
       "      <td>-0.594835</td>\n",
       "      <td>-0.457793</td>\n",
       "      <td>-5</td>\n",
       "      <td>-4</td>\n",
       "    </tr>\n",
       "    <tr>\n",
       "      <th>2018-12-12</th>\n",
       "      <td>-0.773819</td>\n",
       "      <td>-0.061578</td>\n",
       "      <td>-2.283801</td>\n",
       "      <td>-0.543336</td>\n",
       "      <td>-6</td>\n",
       "      <td>-4</td>\n",
       "    </tr>\n",
       "  </tbody>\n",
       "</table>\n",
       "</div>"
      ],
      "text/plain": [
       "                Aman     Deepa       SAS     Nigga  Fara  F\n",
       "2018-12-07  0.000000 -0.568728 -1.846747 -1.071114    -1 -4\n",
       "2018-12-08  0.000000 -0.358108 -0.567163 -0.282572    -2 -4\n",
       "2018-12-09 -1.619657 -1.530209 -2.261449 -0.472735    -3 -4\n",
       "2018-12-10 -0.692662 -0.084112 -0.204471 -0.828056    -4 -4\n",
       "2018-12-11 -0.224315 -1.601540 -0.594835 -0.457793    -5 -4\n",
       "2018-12-12 -0.773819 -0.061578 -2.283801 -0.543336    -6 -4"
      ]
     },
     "execution_count": 52,
     "metadata": {},
     "output_type": "execute_result"
    }
   ],
   "source": [
    "df3[df3 > 0] = -df3\n",
    "df3"
   ]
  },
  {
   "cell_type": "markdown",
   "metadata": {
    "hidden": true
   },
   "source": [
    "## Missing data"
   ]
  },
  {
   "cell_type": "code",
   "execution_count": 53,
   "metadata": {
    "hidden": true
   },
   "outputs": [
    {
     "data": {
      "text/html": [
       "<div>\n",
       "<style scoped>\n",
       "    .dataframe tbody tr th:only-of-type {\n",
       "        vertical-align: middle;\n",
       "    }\n",
       "\n",
       "    .dataframe tbody tr th {\n",
       "        vertical-align: top;\n",
       "    }\n",
       "\n",
       "    .dataframe thead th {\n",
       "        text-align: right;\n",
       "    }\n",
       "</style>\n",
       "<table border=\"1\" class=\"dataframe\">\n",
       "  <thead>\n",
       "    <tr style=\"text-align: right;\">\n",
       "      <th></th>\n",
       "      <th>Aman</th>\n",
       "      <th>Deepa</th>\n",
       "      <th>SAS</th>\n",
       "      <th>Nigga</th>\n",
       "      <th>Fara</th>\n",
       "      <th>F</th>\n",
       "      <th>E</th>\n",
       "    </tr>\n",
       "  </thead>\n",
       "  <tbody>\n",
       "    <tr>\n",
       "      <th>2018-12-07</th>\n",
       "      <td>0.000000</td>\n",
       "      <td>-0.568728</td>\n",
       "      <td>1.846747</td>\n",
       "      <td>-1.071114</td>\n",
       "      <td>1</td>\n",
       "      <td>5</td>\n",
       "      <td>6.0</td>\n",
       "    </tr>\n",
       "    <tr>\n",
       "      <th>2018-12-08</th>\n",
       "      <td>0.000000</td>\n",
       "      <td>0.358108</td>\n",
       "      <td>-0.567163</td>\n",
       "      <td>0.282572</td>\n",
       "      <td>2</td>\n",
       "      <td>5</td>\n",
       "      <td>6.0</td>\n",
       "    </tr>\n",
       "    <tr>\n",
       "      <th>2018-12-09</th>\n",
       "      <td>-1.619657</td>\n",
       "      <td>-1.530209</td>\n",
       "      <td>2.261449</td>\n",
       "      <td>-0.472735</td>\n",
       "      <td>3</td>\n",
       "      <td>5</td>\n",
       "      <td>NaN</td>\n",
       "    </tr>\n",
       "    <tr>\n",
       "      <th>2018-12-10</th>\n",
       "      <td>-0.692662</td>\n",
       "      <td>0.084112</td>\n",
       "      <td>0.204471</td>\n",
       "      <td>-0.828056</td>\n",
       "      <td>4</td>\n",
       "      <td>5</td>\n",
       "      <td>NaN</td>\n",
       "    </tr>\n",
       "  </tbody>\n",
       "</table>\n",
       "</div>"
      ],
      "text/plain": [
       "                Aman     Deepa       SAS     Nigga  Fara  F    E\n",
       "2018-12-07  0.000000 -0.568728  1.846747 -1.071114     1  5  6.0\n",
       "2018-12-08  0.000000  0.358108 -0.567163  0.282572     2  5  6.0\n",
       "2018-12-09 -1.619657 -1.530209  2.261449 -0.472735     3  5  NaN\n",
       "2018-12-10 -0.692662  0.084112  0.204471 -0.828056     4  5  NaN"
      ]
     },
     "execution_count": 53,
     "metadata": {},
     "output_type": "execute_result"
    }
   ],
   "source": [
    "# change add delete index\n",
    "df3 = df.reindex(index = dates[0:4], columns = list(df.columns) + ['E'])\n",
    "df3.loc[dates[0]:dates[1],'E'] = 6\n",
    "df3"
   ]
  },
  {
   "cell_type": "code",
   "execution_count": 54,
   "metadata": {
    "hidden": true
   },
   "outputs": [
    {
     "data": {
      "text/html": [
       "<div>\n",
       "<style scoped>\n",
       "    .dataframe tbody tr th:only-of-type {\n",
       "        vertical-align: middle;\n",
       "    }\n",
       "\n",
       "    .dataframe tbody tr th {\n",
       "        vertical-align: top;\n",
       "    }\n",
       "\n",
       "    .dataframe thead th {\n",
       "        text-align: right;\n",
       "    }\n",
       "</style>\n",
       "<table border=\"1\" class=\"dataframe\">\n",
       "  <thead>\n",
       "    <tr style=\"text-align: right;\">\n",
       "      <th></th>\n",
       "      <th>Aman</th>\n",
       "      <th>Deepa</th>\n",
       "      <th>SAS</th>\n",
       "      <th>Nigga</th>\n",
       "      <th>Fara</th>\n",
       "      <th>F</th>\n",
       "      <th>E</th>\n",
       "    </tr>\n",
       "  </thead>\n",
       "  <tbody>\n",
       "    <tr>\n",
       "      <th>2018-12-07</th>\n",
       "      <td>0.0</td>\n",
       "      <td>-0.568728</td>\n",
       "      <td>1.846747</td>\n",
       "      <td>-1.071114</td>\n",
       "      <td>1</td>\n",
       "      <td>5</td>\n",
       "      <td>6.0</td>\n",
       "    </tr>\n",
       "    <tr>\n",
       "      <th>2018-12-08</th>\n",
       "      <td>0.0</td>\n",
       "      <td>0.358108</td>\n",
       "      <td>-0.567163</td>\n",
       "      <td>0.282572</td>\n",
       "      <td>2</td>\n",
       "      <td>5</td>\n",
       "      <td>6.0</td>\n",
       "    </tr>\n",
       "  </tbody>\n",
       "</table>\n",
       "</div>"
      ],
      "text/plain": [
       "            Aman     Deepa       SAS     Nigga  Fara  F    E\n",
       "2018-12-07   0.0 -0.568728  1.846747 -1.071114     1  5  6.0\n",
       "2018-12-08   0.0  0.358108 -0.567163  0.282572     2  5  6.0"
      ]
     },
     "execution_count": 54,
     "metadata": {},
     "output_type": "execute_result"
    }
   ],
   "source": [
    "#drop data that has missing data\n",
    "df3.dropna(how='any')"
   ]
  },
  {
   "cell_type": "code",
   "execution_count": 55,
   "metadata": {
    "hidden": true
   },
   "outputs": [
    {
     "data": {
      "text/html": [
       "<div>\n",
       "<style scoped>\n",
       "    .dataframe tbody tr th:only-of-type {\n",
       "        vertical-align: middle;\n",
       "    }\n",
       "\n",
       "    .dataframe tbody tr th {\n",
       "        vertical-align: top;\n",
       "    }\n",
       "\n",
       "    .dataframe thead th {\n",
       "        text-align: right;\n",
       "    }\n",
       "</style>\n",
       "<table border=\"1\" class=\"dataframe\">\n",
       "  <thead>\n",
       "    <tr style=\"text-align: right;\">\n",
       "      <th></th>\n",
       "      <th>Aman</th>\n",
       "      <th>Deepa</th>\n",
       "      <th>SAS</th>\n",
       "      <th>Nigga</th>\n",
       "      <th>Fara</th>\n",
       "      <th>F</th>\n",
       "      <th>E</th>\n",
       "    </tr>\n",
       "  </thead>\n",
       "  <tbody>\n",
       "    <tr>\n",
       "      <th>2018-12-07</th>\n",
       "      <td>0.000000</td>\n",
       "      <td>-0.568728</td>\n",
       "      <td>1.846747</td>\n",
       "      <td>-1.071114</td>\n",
       "      <td>1</td>\n",
       "      <td>5</td>\n",
       "      <td>6.0</td>\n",
       "    </tr>\n",
       "    <tr>\n",
       "      <th>2018-12-08</th>\n",
       "      <td>0.000000</td>\n",
       "      <td>0.358108</td>\n",
       "      <td>-0.567163</td>\n",
       "      <td>0.282572</td>\n",
       "      <td>2</td>\n",
       "      <td>5</td>\n",
       "      <td>6.0</td>\n",
       "    </tr>\n",
       "    <tr>\n",
       "      <th>2018-12-09</th>\n",
       "      <td>-1.619657</td>\n",
       "      <td>-1.530209</td>\n",
       "      <td>2.261449</td>\n",
       "      <td>-0.472735</td>\n",
       "      <td>3</td>\n",
       "      <td>5</td>\n",
       "      <td>4.0</td>\n",
       "    </tr>\n",
       "    <tr>\n",
       "      <th>2018-12-10</th>\n",
       "      <td>-0.692662</td>\n",
       "      <td>0.084112</td>\n",
       "      <td>0.204471</td>\n",
       "      <td>-0.828056</td>\n",
       "      <td>4</td>\n",
       "      <td>5</td>\n",
       "      <td>4.0</td>\n",
       "    </tr>\n",
       "  </tbody>\n",
       "</table>\n",
       "</div>"
      ],
      "text/plain": [
       "                Aman     Deepa       SAS     Nigga  Fara  F    E\n",
       "2018-12-07  0.000000 -0.568728  1.846747 -1.071114     1  5  6.0\n",
       "2018-12-08  0.000000  0.358108 -0.567163  0.282572     2  5  6.0\n",
       "2018-12-09 -1.619657 -1.530209  2.261449 -0.472735     3  5  4.0\n",
       "2018-12-10 -0.692662  0.084112  0.204471 -0.828056     4  5  4.0"
      ]
     },
     "execution_count": 55,
     "metadata": {},
     "output_type": "execute_result"
    }
   ],
   "source": [
    "#filing misssing values\n",
    "df3.fillna(value = 4)"
   ]
  },
  {
   "cell_type": "code",
   "execution_count": 59,
   "metadata": {
    "hidden": true
   },
   "outputs": [
    {
     "name": "stdout",
     "output_type": "stream",
     "text": [
      "2\n"
     ]
    }
   ],
   "source": [
    "#to get boolean mask where is nan \n",
    "print(pd.isna(df3).sum().sum())\n",
    "#print(pd.isnull(df3))"
   ]
  },
  {
   "cell_type": "markdown",
   "metadata": {
    "hidden": true
   },
   "source": [
    "## Operation"
   ]
  },
  {
   "cell_type": "code",
   "execution_count": 50,
   "metadata": {
    "hidden": true
   },
   "outputs": [
    {
     "data": {
      "text/plain": [
       "Aman     0.070023\n",
       "Deepa   -0.414667\n",
       "SAS      0.349571\n",
       "Nigga   -0.040455\n",
       "Fara     3.500000\n",
       "F        5.000000\n",
       "dtype: float64"
      ]
     },
     "execution_count": 50,
     "metadata": {},
     "output_type": "execute_result"
    }
   ],
   "source": [
    "df.mean()"
   ]
  },
  {
   "cell_type": "code",
   "execution_count": 51,
   "metadata": {
    "hidden": true
   },
   "outputs": [
    {
     "data": {
      "text/plain": [
       "2018-12-07    1.030647\n",
       "2018-12-08    0.961781\n",
       "2018-12-09    1.320307\n",
       "2018-12-10    1.774639\n",
       "2018-12-11    1.338999\n",
       "2018-12-12    2.038098\n",
       "Freq: D, dtype: float64"
      ]
     },
     "execution_count": 51,
     "metadata": {},
     "output_type": "execute_result"
    }
   ],
   "source": [
    "df.mean(1)"
   ]
  },
  {
   "cell_type": "code",
   "execution_count": 52,
   "metadata": {
    "hidden": true
   },
   "outputs": [
    {
     "data": {
      "text/plain": [
       "2018-12-07    NaN\n",
       "2018-12-08    NaN\n",
       "2018-12-09    1.0\n",
       "2018-12-10    3.0\n",
       "2018-12-11    5.0\n",
       "2018-12-12    NaN\n",
       "Freq: D, dtype: float64"
      ]
     },
     "execution_count": 52,
     "metadata": {},
     "output_type": "execute_result"
    }
   ],
   "source": [
    "s = pd.Series([1,3,5,np.nan,6,8], index = dates).shift(2)\n",
    "s"
   ]
  },
  {
   "cell_type": "code",
   "execution_count": 53,
   "metadata": {
    "hidden": true
   },
   "outputs": [
    {
     "data": {
      "text/html": [
       "<div>\n",
       "<style scoped>\n",
       "    .dataframe tbody tr th:only-of-type {\n",
       "        vertical-align: middle;\n",
       "    }\n",
       "\n",
       "    .dataframe tbody tr th {\n",
       "        vertical-align: top;\n",
       "    }\n",
       "\n",
       "    .dataframe thead th {\n",
       "        text-align: right;\n",
       "    }\n",
       "</style>\n",
       "<table border=\"1\" class=\"dataframe\">\n",
       "  <thead>\n",
       "    <tr style=\"text-align: right;\">\n",
       "      <th></th>\n",
       "      <th>Aman</th>\n",
       "      <th>Deepa</th>\n",
       "      <th>SAS</th>\n",
       "      <th>Nigga</th>\n",
       "      <th>Fara</th>\n",
       "      <th>F</th>\n",
       "    </tr>\n",
       "  </thead>\n",
       "  <tbody>\n",
       "    <tr>\n",
       "      <th>2018-12-07</th>\n",
       "      <td>NaN</td>\n",
       "      <td>NaN</td>\n",
       "      <td>NaN</td>\n",
       "      <td>NaN</td>\n",
       "      <td>NaN</td>\n",
       "      <td>NaN</td>\n",
       "    </tr>\n",
       "    <tr>\n",
       "      <th>2018-12-08</th>\n",
       "      <td>NaN</td>\n",
       "      <td>NaN</td>\n",
       "      <td>NaN</td>\n",
       "      <td>NaN</td>\n",
       "      <td>NaN</td>\n",
       "      <td>NaN</td>\n",
       "    </tr>\n",
       "    <tr>\n",
       "      <th>2018-12-09</th>\n",
       "      <td>-0.919786</td>\n",
       "      <td>-1.172143</td>\n",
       "      <td>0.141484</td>\n",
       "      <td>-2.127713</td>\n",
       "      <td>2.0</td>\n",
       "      <td>4.0</td>\n",
       "    </tr>\n",
       "    <tr>\n",
       "      <th>2018-12-10</th>\n",
       "      <td>-2.192338</td>\n",
       "      <td>-2.099961</td>\n",
       "      <td>-3.170985</td>\n",
       "      <td>-2.888883</td>\n",
       "      <td>1.0</td>\n",
       "      <td>2.0</td>\n",
       "    </tr>\n",
       "    <tr>\n",
       "      <th>2018-12-11</th>\n",
       "      <td>-5.810218</td>\n",
       "      <td>-6.359784</td>\n",
       "      <td>-4.695984</td>\n",
       "      <td>-5.100017</td>\n",
       "      <td>0.0</td>\n",
       "      <td>0.0</td>\n",
       "    </tr>\n",
       "    <tr>\n",
       "      <th>2018-12-12</th>\n",
       "      <td>NaN</td>\n",
       "      <td>NaN</td>\n",
       "      <td>NaN</td>\n",
       "      <td>NaN</td>\n",
       "      <td>NaN</td>\n",
       "      <td>NaN</td>\n",
       "    </tr>\n",
       "  </tbody>\n",
       "</table>\n",
       "</div>"
      ],
      "text/plain": [
       "                Aman     Deepa       SAS     Nigga  Fara    F\n",
       "2018-12-07       NaN       NaN       NaN       NaN   NaN  NaN\n",
       "2018-12-08       NaN       NaN       NaN       NaN   NaN  NaN\n",
       "2018-12-09 -0.919786 -1.172143  0.141484 -2.127713   2.0  4.0\n",
       "2018-12-10 -2.192338 -2.099961 -3.170985 -2.888883   1.0  2.0\n",
       "2018-12-11 -5.810218 -6.359784 -4.695984 -5.100017   0.0  0.0\n",
       "2018-12-12       NaN       NaN       NaN       NaN   NaN  NaN"
      ]
     },
     "execution_count": 53,
     "metadata": {},
     "output_type": "execute_result"
    }
   ],
   "source": [
    "df.sub(s, axis = 'index')"
   ]
  },
  {
   "cell_type": "markdown",
   "metadata": {
    "hidden": true
   },
   "source": [
    "## Apply"
   ]
  },
  {
   "cell_type": "code",
   "execution_count": 54,
   "metadata": {
    "hidden": true
   },
   "outputs": [
    {
     "data": {
      "text/html": [
       "<div>\n",
       "<style scoped>\n",
       "    .dataframe tbody tr th:only-of-type {\n",
       "        vertical-align: middle;\n",
       "    }\n",
       "\n",
       "    .dataframe tbody tr th {\n",
       "        vertical-align: top;\n",
       "    }\n",
       "\n",
       "    .dataframe thead th {\n",
       "        text-align: right;\n",
       "    }\n",
       "</style>\n",
       "<table border=\"1\" class=\"dataframe\">\n",
       "  <thead>\n",
       "    <tr style=\"text-align: right;\">\n",
       "      <th></th>\n",
       "      <th>Aman</th>\n",
       "      <th>Deepa</th>\n",
       "      <th>SAS</th>\n",
       "      <th>Nigga</th>\n",
       "      <th>Fara</th>\n",
       "      <th>F</th>\n",
       "    </tr>\n",
       "  </thead>\n",
       "  <tbody>\n",
       "    <tr>\n",
       "      <th>2018-12-07</th>\n",
       "      <td>0.000000</td>\n",
       "      <td>-1.962186</td>\n",
       "      <td>0.845123</td>\n",
       "      <td>1.300947</td>\n",
       "      <td>1</td>\n",
       "      <td>5</td>\n",
       "    </tr>\n",
       "    <tr>\n",
       "      <th>2018-12-08</th>\n",
       "      <td>0.000000</td>\n",
       "      <td>-0.107581</td>\n",
       "      <td>0.453717</td>\n",
       "      <td>-1.575449</td>\n",
       "      <td>2</td>\n",
       "      <td>5</td>\n",
       "    </tr>\n",
       "    <tr>\n",
       "      <th>2018-12-09</th>\n",
       "      <td>0.080214</td>\n",
       "      <td>-0.172143</td>\n",
       "      <td>1.141484</td>\n",
       "      <td>-1.127713</td>\n",
       "      <td>3</td>\n",
       "      <td>5</td>\n",
       "    </tr>\n",
       "    <tr>\n",
       "      <th>2018-12-10</th>\n",
       "      <td>0.807662</td>\n",
       "      <td>0.900039</td>\n",
       "      <td>-0.170985</td>\n",
       "      <td>0.111117</td>\n",
       "      <td>4</td>\n",
       "      <td>5</td>\n",
       "    </tr>\n",
       "    <tr>\n",
       "      <th>2018-12-11</th>\n",
       "      <td>-0.810218</td>\n",
       "      <td>-1.359784</td>\n",
       "      <td>0.304016</td>\n",
       "      <td>-0.100017</td>\n",
       "      <td>5</td>\n",
       "      <td>5</td>\n",
       "    </tr>\n",
       "    <tr>\n",
       "      <th>2018-12-12</th>\n",
       "      <td>0.342477</td>\n",
       "      <td>0.213652</td>\n",
       "      <td>-0.475929</td>\n",
       "      <td>1.148387</td>\n",
       "      <td>6</td>\n",
       "      <td>5</td>\n",
       "    </tr>\n",
       "  </tbody>\n",
       "</table>\n",
       "</div>"
      ],
      "text/plain": [
       "                Aman     Deepa       SAS     Nigga  Fara  F\n",
       "2018-12-07  0.000000 -1.962186  0.845123  1.300947     1  5\n",
       "2018-12-08  0.000000 -0.107581  0.453717 -1.575449     2  5\n",
       "2018-12-09  0.080214 -0.172143  1.141484 -1.127713     3  5\n",
       "2018-12-10  0.807662  0.900039 -0.170985  0.111117     4  5\n",
       "2018-12-11 -0.810218 -1.359784  0.304016 -0.100017     5  5\n",
       "2018-12-12  0.342477  0.213652 -0.475929  1.148387     6  5"
      ]
     },
     "execution_count": 54,
     "metadata": {},
     "output_type": "execute_result"
    }
   ],
   "source": [
    "df"
   ]
  },
  {
   "cell_type": "code",
   "execution_count": 55,
   "metadata": {
    "hidden": true
   },
   "outputs": [
    {
     "data": {
      "text/html": [
       "<div>\n",
       "<style scoped>\n",
       "    .dataframe tbody tr th:only-of-type {\n",
       "        vertical-align: middle;\n",
       "    }\n",
       "\n",
       "    .dataframe tbody tr th {\n",
       "        vertical-align: top;\n",
       "    }\n",
       "\n",
       "    .dataframe thead th {\n",
       "        text-align: right;\n",
       "    }\n",
       "</style>\n",
       "<table border=\"1\" class=\"dataframe\">\n",
       "  <thead>\n",
       "    <tr style=\"text-align: right;\">\n",
       "      <th></th>\n",
       "      <th>Aman</th>\n",
       "      <th>Deepa</th>\n",
       "      <th>SAS</th>\n",
       "      <th>Nigga</th>\n",
       "      <th>Fara</th>\n",
       "      <th>F</th>\n",
       "    </tr>\n",
       "  </thead>\n",
       "  <tbody>\n",
       "    <tr>\n",
       "      <th>2018-12-07</th>\n",
       "      <td>0.000000</td>\n",
       "      <td>-1.962186</td>\n",
       "      <td>0.845123</td>\n",
       "      <td>1.300947</td>\n",
       "      <td>1</td>\n",
       "      <td>5</td>\n",
       "    </tr>\n",
       "    <tr>\n",
       "      <th>2018-12-08</th>\n",
       "      <td>0.000000</td>\n",
       "      <td>-2.069767</td>\n",
       "      <td>1.298840</td>\n",
       "      <td>-0.274502</td>\n",
       "      <td>3</td>\n",
       "      <td>10</td>\n",
       "    </tr>\n",
       "    <tr>\n",
       "      <th>2018-12-09</th>\n",
       "      <td>0.080214</td>\n",
       "      <td>-2.241910</td>\n",
       "      <td>2.440323</td>\n",
       "      <td>-1.402215</td>\n",
       "      <td>6</td>\n",
       "      <td>15</td>\n",
       "    </tr>\n",
       "    <tr>\n",
       "      <th>2018-12-10</th>\n",
       "      <td>0.887876</td>\n",
       "      <td>-1.341870</td>\n",
       "      <td>2.269338</td>\n",
       "      <td>-1.291098</td>\n",
       "      <td>10</td>\n",
       "      <td>20</td>\n",
       "    </tr>\n",
       "    <tr>\n",
       "      <th>2018-12-11</th>\n",
       "      <td>0.077658</td>\n",
       "      <td>-2.701654</td>\n",
       "      <td>2.573354</td>\n",
       "      <td>-1.391115</td>\n",
       "      <td>15</td>\n",
       "      <td>25</td>\n",
       "    </tr>\n",
       "    <tr>\n",
       "      <th>2018-12-12</th>\n",
       "      <td>0.420135</td>\n",
       "      <td>-2.488003</td>\n",
       "      <td>2.097425</td>\n",
       "      <td>-0.242728</td>\n",
       "      <td>21</td>\n",
       "      <td>30</td>\n",
       "    </tr>\n",
       "  </tbody>\n",
       "</table>\n",
       "</div>"
      ],
      "text/plain": [
       "                Aman     Deepa       SAS     Nigga  Fara   F\n",
       "2018-12-07  0.000000 -1.962186  0.845123  1.300947     1   5\n",
       "2018-12-08  0.000000 -2.069767  1.298840 -0.274502     3  10\n",
       "2018-12-09  0.080214 -2.241910  2.440323 -1.402215     6  15\n",
       "2018-12-10  0.887876 -1.341870  2.269338 -1.291098    10  20\n",
       "2018-12-11  0.077658 -2.701654  2.573354 -1.391115    15  25\n",
       "2018-12-12  0.420135 -2.488003  2.097425 -0.242728    21  30"
      ]
     },
     "execution_count": 55,
     "metadata": {},
     "output_type": "execute_result"
    }
   ],
   "source": [
    "df.apply(np.cumsum) #cummulative values"
   ]
  },
  {
   "cell_type": "code",
   "execution_count": 56,
   "metadata": {
    "hidden": true
   },
   "outputs": [
    {
     "data": {
      "text/plain": [
       "Aman     1.617880\n",
       "Deepa    2.862226\n",
       "SAS      1.617413\n",
       "Nigga    2.876396\n",
       "Fara     5.000000\n",
       "F        0.000000\n",
       "dtype: float64"
      ]
     },
     "execution_count": 56,
     "metadata": {},
     "output_type": "execute_result"
    }
   ],
   "source": [
    "df.apply(lambda x:x.max() - x.min())"
   ]
  },
  {
   "cell_type": "code",
   "execution_count": 57,
   "metadata": {
    "hidden": true
   },
   "outputs": [
    {
     "data": {
      "text/plain": [
       "0    3\n",
       "1    3\n",
       "2    3\n",
       "3    3\n",
       "4    4\n",
       "5    0\n",
       "6    6\n",
       "7    3\n",
       "8    2\n",
       "9    4\n",
       "dtype: int64"
      ]
     },
     "execution_count": 57,
     "metadata": {},
     "output_type": "execute_result"
    }
   ],
   "source": [
    "s = pd.Series(np.random.randint(0,7,size=10))\n",
    "s"
   ]
  },
  {
   "cell_type": "code",
   "execution_count": 58,
   "metadata": {
    "hidden": true
   },
   "outputs": [
    {
     "data": {
      "text/plain": [
       "3    5\n",
       "4    2\n",
       "6    1\n",
       "2    1\n",
       "0    1\n",
       "dtype: int64"
      ]
     },
     "execution_count": 58,
     "metadata": {},
     "output_type": "execute_result"
    }
   ],
   "source": [
    "s.value_counts()"
   ]
  },
  {
   "cell_type": "markdown",
   "metadata": {
    "hidden": true
   },
   "source": [
    "## String Methods"
   ]
  },
  {
   "cell_type": "code",
   "execution_count": 59,
   "metadata": {
    "hidden": true
   },
   "outputs": [
    {
     "data": {
      "text/plain": [
       "0       A\n",
       "1       B\n",
       "2       C\n",
       "3    Aaba\n",
       "4    Baca\n",
       "5     NaN\n",
       "6    CABA\n",
       "7     dog\n",
       "8     cat\n",
       "dtype: object"
      ]
     },
     "execution_count": 59,
     "metadata": {},
     "output_type": "execute_result"
    }
   ],
   "source": [
    "s = pd.Series(['A','B','C','Aaba','Baca',np.nan,'CABA','dog','cat'])\n",
    "s"
   ]
  },
  {
   "cell_type": "code",
   "execution_count": 60,
   "metadata": {
    "hidden": true
   },
   "outputs": [
    {
     "data": {
      "text/plain": [
       "0       a\n",
       "1       b\n",
       "2       c\n",
       "3    aaba\n",
       "4    baca\n",
       "5     NaN\n",
       "6    caba\n",
       "7     dog\n",
       "8     cat\n",
       "dtype: object"
      ]
     },
     "execution_count": 60,
     "metadata": {},
     "output_type": "execute_result"
    }
   ],
   "source": [
    "s.str.lower()"
   ]
  },
  {
   "cell_type": "markdown",
   "metadata": {
    "hidden": true
   },
   "source": [
    "## Merge\n",
    "Concat"
   ]
  },
  {
   "cell_type": "code",
   "execution_count": 61,
   "metadata": {
    "hidden": true
   },
   "outputs": [
    {
     "data": {
      "text/html": [
       "<div>\n",
       "<style scoped>\n",
       "    .dataframe tbody tr th:only-of-type {\n",
       "        vertical-align: middle;\n",
       "    }\n",
       "\n",
       "    .dataframe tbody tr th {\n",
       "        vertical-align: top;\n",
       "    }\n",
       "\n",
       "    .dataframe thead th {\n",
       "        text-align: right;\n",
       "    }\n",
       "</style>\n",
       "<table border=\"1\" class=\"dataframe\">\n",
       "  <thead>\n",
       "    <tr style=\"text-align: right;\">\n",
       "      <th></th>\n",
       "      <th>0</th>\n",
       "      <th>1</th>\n",
       "      <th>2</th>\n",
       "      <th>3</th>\n",
       "      <th>4</th>\n",
       "      <th>5</th>\n",
       "    </tr>\n",
       "  </thead>\n",
       "  <tbody>\n",
       "    <tr>\n",
       "      <th>0</th>\n",
       "      <td>-0.795456</td>\n",
       "      <td>-0.846351</td>\n",
       "      <td>-0.498240</td>\n",
       "      <td>-0.212417</td>\n",
       "      <td>0.237845</td>\n",
       "      <td>-0.067134</td>\n",
       "    </tr>\n",
       "    <tr>\n",
       "      <th>1</th>\n",
       "      <td>1.290772</td>\n",
       "      <td>-0.694474</td>\n",
       "      <td>0.154688</td>\n",
       "      <td>0.347881</td>\n",
       "      <td>-0.871753</td>\n",
       "      <td>-0.445151</td>\n",
       "    </tr>\n",
       "    <tr>\n",
       "      <th>2</th>\n",
       "      <td>-0.452160</td>\n",
       "      <td>-0.697106</td>\n",
       "      <td>0.943550</td>\n",
       "      <td>0.694413</td>\n",
       "      <td>2.434037</td>\n",
       "      <td>1.791128</td>\n",
       "    </tr>\n",
       "    <tr>\n",
       "      <th>3</th>\n",
       "      <td>0.966681</td>\n",
       "      <td>-1.467491</td>\n",
       "      <td>-0.161641</td>\n",
       "      <td>-0.878475</td>\n",
       "      <td>0.801828</td>\n",
       "      <td>-1.426487</td>\n",
       "    </tr>\n",
       "    <tr>\n",
       "      <th>4</th>\n",
       "      <td>1.191153</td>\n",
       "      <td>1.088566</td>\n",
       "      <td>0.540062</td>\n",
       "      <td>-0.221545</td>\n",
       "      <td>0.231212</td>\n",
       "      <td>0.108085</td>\n",
       "    </tr>\n",
       "    <tr>\n",
       "      <th>5</th>\n",
       "      <td>-0.534703</td>\n",
       "      <td>1.223280</td>\n",
       "      <td>0.210891</td>\n",
       "      <td>-0.874907</td>\n",
       "      <td>0.426238</td>\n",
       "      <td>-0.152797</td>\n",
       "    </tr>\n",
       "    <tr>\n",
       "      <th>6</th>\n",
       "      <td>-0.565845</td>\n",
       "      <td>0.344210</td>\n",
       "      <td>1.266703</td>\n",
       "      <td>-2.080954</td>\n",
       "      <td>1.290054</td>\n",
       "      <td>-0.424912</td>\n",
       "    </tr>\n",
       "    <tr>\n",
       "      <th>7</th>\n",
       "      <td>0.099796</td>\n",
       "      <td>-0.676647</td>\n",
       "      <td>-0.245022</td>\n",
       "      <td>-0.397639</td>\n",
       "      <td>0.468898</td>\n",
       "      <td>-1.201591</td>\n",
       "    </tr>\n",
       "    <tr>\n",
       "      <th>8</th>\n",
       "      <td>1.539376</td>\n",
       "      <td>0.176107</td>\n",
       "      <td>0.100810</td>\n",
       "      <td>-0.589044</td>\n",
       "      <td>-0.671848</td>\n",
       "      <td>-1.037420</td>\n",
       "    </tr>\n",
       "    <tr>\n",
       "      <th>9</th>\n",
       "      <td>0.825635</td>\n",
       "      <td>0.864347</td>\n",
       "      <td>1.188781</td>\n",
       "      <td>0.416081</td>\n",
       "      <td>1.283327</td>\n",
       "      <td>-1.197170</td>\n",
       "    </tr>\n",
       "  </tbody>\n",
       "</table>\n",
       "</div>"
      ],
      "text/plain": [
       "          0         1         2         3         4         5\n",
       "0 -0.795456 -0.846351 -0.498240 -0.212417  0.237845 -0.067134\n",
       "1  1.290772 -0.694474  0.154688  0.347881 -0.871753 -0.445151\n",
       "2 -0.452160 -0.697106  0.943550  0.694413  2.434037  1.791128\n",
       "3  0.966681 -1.467491 -0.161641 -0.878475  0.801828 -1.426487\n",
       "4  1.191153  1.088566  0.540062 -0.221545  0.231212  0.108085\n",
       "5 -0.534703  1.223280  0.210891 -0.874907  0.426238 -0.152797\n",
       "6 -0.565845  0.344210  1.266703 -2.080954  1.290054 -0.424912\n",
       "7  0.099796 -0.676647 -0.245022 -0.397639  0.468898 -1.201591\n",
       "8  1.539376  0.176107  0.100810 -0.589044 -0.671848 -1.037420\n",
       "9  0.825635  0.864347  1.188781  0.416081  1.283327 -1.197170"
      ]
     },
     "execution_count": 61,
     "metadata": {},
     "output_type": "execute_result"
    }
   ],
   "source": [
    "df1 = pd.DataFrame(np.random.randn(10,6))\n",
    "df1"
   ]
  },
  {
   "cell_type": "code",
   "execution_count": 62,
   "metadata": {
    "hidden": true
   },
   "outputs": [
    {
     "data": {
      "text/plain": [
       "[          0         1         2         3         4         5\n",
       " 0 -0.795456 -0.846351 -0.498240 -0.212417  0.237845 -0.067134\n",
       " 1  1.290772 -0.694474  0.154688  0.347881 -0.871753 -0.445151\n",
       " 2 -0.452160 -0.697106  0.943550  0.694413  2.434037  1.791128,\n",
       "           0         1         2         3         4         5\n",
       " 3  0.966681 -1.467491 -0.161641 -0.878475  0.801828 -1.426487\n",
       " 4  1.191153  1.088566  0.540062 -0.221545  0.231212  0.108085\n",
       " 5 -0.534703  1.223280  0.210891 -0.874907  0.426238 -0.152797\n",
       " 6 -0.565845  0.344210  1.266703 -2.080954  1.290054 -0.424912,\n",
       "           0         1         2         3         4         5\n",
       " 7  0.099796 -0.676647 -0.245022 -0.397639  0.468898 -1.201591\n",
       " 8  1.539376  0.176107  0.100810 -0.589044 -0.671848 -1.037420\n",
       " 9  0.825635  0.864347  1.188781  0.416081  1.283327 -1.197170]"
      ]
     },
     "execution_count": 62,
     "metadata": {},
     "output_type": "execute_result"
    }
   ],
   "source": [
    "#break into pieces\n",
    "pieces = [df1[:3], df1[3:7], df1[7:]]\n",
    "pieces"
   ]
  },
  {
   "cell_type": "code",
   "execution_count": 63,
   "metadata": {
    "hidden": true
   },
   "outputs": [
    {
     "data": {
      "text/html": [
       "<div>\n",
       "<style scoped>\n",
       "    .dataframe tbody tr th:only-of-type {\n",
       "        vertical-align: middle;\n",
       "    }\n",
       "\n",
       "    .dataframe tbody tr th {\n",
       "        vertical-align: top;\n",
       "    }\n",
       "\n",
       "    .dataframe thead th {\n",
       "        text-align: right;\n",
       "    }\n",
       "</style>\n",
       "<table border=\"1\" class=\"dataframe\">\n",
       "  <thead>\n",
       "    <tr style=\"text-align: right;\">\n",
       "      <th></th>\n",
       "      <th>0</th>\n",
       "      <th>1</th>\n",
       "      <th>2</th>\n",
       "      <th>3</th>\n",
       "      <th>4</th>\n",
       "      <th>5</th>\n",
       "    </tr>\n",
       "  </thead>\n",
       "  <tbody>\n",
       "    <tr>\n",
       "      <th>0</th>\n",
       "      <td>-0.795456</td>\n",
       "      <td>-0.846351</td>\n",
       "      <td>-0.498240</td>\n",
       "      <td>-0.212417</td>\n",
       "      <td>0.237845</td>\n",
       "      <td>-0.067134</td>\n",
       "    </tr>\n",
       "    <tr>\n",
       "      <th>1</th>\n",
       "      <td>1.290772</td>\n",
       "      <td>-0.694474</td>\n",
       "      <td>0.154688</td>\n",
       "      <td>0.347881</td>\n",
       "      <td>-0.871753</td>\n",
       "      <td>-0.445151</td>\n",
       "    </tr>\n",
       "    <tr>\n",
       "      <th>2</th>\n",
       "      <td>-0.452160</td>\n",
       "      <td>-0.697106</td>\n",
       "      <td>0.943550</td>\n",
       "      <td>0.694413</td>\n",
       "      <td>2.434037</td>\n",
       "      <td>1.791128</td>\n",
       "    </tr>\n",
       "    <tr>\n",
       "      <th>3</th>\n",
       "      <td>0.966681</td>\n",
       "      <td>-1.467491</td>\n",
       "      <td>-0.161641</td>\n",
       "      <td>-0.878475</td>\n",
       "      <td>0.801828</td>\n",
       "      <td>-1.426487</td>\n",
       "    </tr>\n",
       "    <tr>\n",
       "      <th>4</th>\n",
       "      <td>1.191153</td>\n",
       "      <td>1.088566</td>\n",
       "      <td>0.540062</td>\n",
       "      <td>-0.221545</td>\n",
       "      <td>0.231212</td>\n",
       "      <td>0.108085</td>\n",
       "    </tr>\n",
       "    <tr>\n",
       "      <th>5</th>\n",
       "      <td>-0.534703</td>\n",
       "      <td>1.223280</td>\n",
       "      <td>0.210891</td>\n",
       "      <td>-0.874907</td>\n",
       "      <td>0.426238</td>\n",
       "      <td>-0.152797</td>\n",
       "    </tr>\n",
       "    <tr>\n",
       "      <th>6</th>\n",
       "      <td>-0.565845</td>\n",
       "      <td>0.344210</td>\n",
       "      <td>1.266703</td>\n",
       "      <td>-2.080954</td>\n",
       "      <td>1.290054</td>\n",
       "      <td>-0.424912</td>\n",
       "    </tr>\n",
       "    <tr>\n",
       "      <th>7</th>\n",
       "      <td>0.099796</td>\n",
       "      <td>-0.676647</td>\n",
       "      <td>-0.245022</td>\n",
       "      <td>-0.397639</td>\n",
       "      <td>0.468898</td>\n",
       "      <td>-1.201591</td>\n",
       "    </tr>\n",
       "    <tr>\n",
       "      <th>8</th>\n",
       "      <td>1.539376</td>\n",
       "      <td>0.176107</td>\n",
       "      <td>0.100810</td>\n",
       "      <td>-0.589044</td>\n",
       "      <td>-0.671848</td>\n",
       "      <td>-1.037420</td>\n",
       "    </tr>\n",
       "    <tr>\n",
       "      <th>9</th>\n",
       "      <td>0.825635</td>\n",
       "      <td>0.864347</td>\n",
       "      <td>1.188781</td>\n",
       "      <td>0.416081</td>\n",
       "      <td>1.283327</td>\n",
       "      <td>-1.197170</td>\n",
       "    </tr>\n",
       "  </tbody>\n",
       "</table>\n",
       "</div>"
      ],
      "text/plain": [
       "          0         1         2         3         4         5\n",
       "0 -0.795456 -0.846351 -0.498240 -0.212417  0.237845 -0.067134\n",
       "1  1.290772 -0.694474  0.154688  0.347881 -0.871753 -0.445151\n",
       "2 -0.452160 -0.697106  0.943550  0.694413  2.434037  1.791128\n",
       "3  0.966681 -1.467491 -0.161641 -0.878475  0.801828 -1.426487\n",
       "4  1.191153  1.088566  0.540062 -0.221545  0.231212  0.108085\n",
       "5 -0.534703  1.223280  0.210891 -0.874907  0.426238 -0.152797\n",
       "6 -0.565845  0.344210  1.266703 -2.080954  1.290054 -0.424912\n",
       "7  0.099796 -0.676647 -0.245022 -0.397639  0.468898 -1.201591\n",
       "8  1.539376  0.176107  0.100810 -0.589044 -0.671848 -1.037420\n",
       "9  0.825635  0.864347  1.188781  0.416081  1.283327 -1.197170"
      ]
     },
     "execution_count": 63,
     "metadata": {},
     "output_type": "execute_result"
    }
   ],
   "source": [
    "pd.concat(pieces)"
   ]
  },
  {
   "cell_type": "markdown",
   "metadata": {
    "hidden": true
   },
   "source": [
    "## Join"
   ]
  },
  {
   "cell_type": "code",
   "execution_count": 64,
   "metadata": {
    "hidden": true
   },
   "outputs": [],
   "source": [
    "left = pd.DataFrame({'key':['foo','foo'],'lval':[1,2]})\n",
    "right = pd.DataFrame({'key':['foo','foo'],'rval':[4,5]})"
   ]
  },
  {
   "cell_type": "code",
   "execution_count": 65,
   "metadata": {
    "hidden": true
   },
   "outputs": [
    {
     "data": {
      "text/html": [
       "<div>\n",
       "<style scoped>\n",
       "    .dataframe tbody tr th:only-of-type {\n",
       "        vertical-align: middle;\n",
       "    }\n",
       "\n",
       "    .dataframe tbody tr th {\n",
       "        vertical-align: top;\n",
       "    }\n",
       "\n",
       "    .dataframe thead th {\n",
       "        text-align: right;\n",
       "    }\n",
       "</style>\n",
       "<table border=\"1\" class=\"dataframe\">\n",
       "  <thead>\n",
       "    <tr style=\"text-align: right;\">\n",
       "      <th></th>\n",
       "      <th>key</th>\n",
       "      <th>lval</th>\n",
       "    </tr>\n",
       "  </thead>\n",
       "  <tbody>\n",
       "    <tr>\n",
       "      <th>0</th>\n",
       "      <td>foo</td>\n",
       "      <td>1</td>\n",
       "    </tr>\n",
       "    <tr>\n",
       "      <th>1</th>\n",
       "      <td>foo</td>\n",
       "      <td>2</td>\n",
       "    </tr>\n",
       "  </tbody>\n",
       "</table>\n",
       "</div>"
      ],
      "text/plain": [
       "   key  lval\n",
       "0  foo     1\n",
       "1  foo     2"
      ]
     },
     "execution_count": 65,
     "metadata": {},
     "output_type": "execute_result"
    }
   ],
   "source": [
    "left"
   ]
  },
  {
   "cell_type": "code",
   "execution_count": 66,
   "metadata": {
    "hidden": true
   },
   "outputs": [
    {
     "data": {
      "text/html": [
       "<div>\n",
       "<style scoped>\n",
       "    .dataframe tbody tr th:only-of-type {\n",
       "        vertical-align: middle;\n",
       "    }\n",
       "\n",
       "    .dataframe tbody tr th {\n",
       "        vertical-align: top;\n",
       "    }\n",
       "\n",
       "    .dataframe thead th {\n",
       "        text-align: right;\n",
       "    }\n",
       "</style>\n",
       "<table border=\"1\" class=\"dataframe\">\n",
       "  <thead>\n",
       "    <tr style=\"text-align: right;\">\n",
       "      <th></th>\n",
       "      <th>key</th>\n",
       "      <th>rval</th>\n",
       "    </tr>\n",
       "  </thead>\n",
       "  <tbody>\n",
       "    <tr>\n",
       "      <th>0</th>\n",
       "      <td>foo</td>\n",
       "      <td>4</td>\n",
       "    </tr>\n",
       "    <tr>\n",
       "      <th>1</th>\n",
       "      <td>foo</td>\n",
       "      <td>5</td>\n",
       "    </tr>\n",
       "  </tbody>\n",
       "</table>\n",
       "</div>"
      ],
      "text/plain": [
       "   key  rval\n",
       "0  foo     4\n",
       "1  foo     5"
      ]
     },
     "execution_count": 66,
     "metadata": {},
     "output_type": "execute_result"
    }
   ],
   "source": [
    "right"
   ]
  },
  {
   "cell_type": "code",
   "execution_count": 67,
   "metadata": {
    "hidden": true
   },
   "outputs": [
    {
     "data": {
      "text/html": [
       "<div>\n",
       "<style scoped>\n",
       "    .dataframe tbody tr th:only-of-type {\n",
       "        vertical-align: middle;\n",
       "    }\n",
       "\n",
       "    .dataframe tbody tr th {\n",
       "        vertical-align: top;\n",
       "    }\n",
       "\n",
       "    .dataframe thead th {\n",
       "        text-align: right;\n",
       "    }\n",
       "</style>\n",
       "<table border=\"1\" class=\"dataframe\">\n",
       "  <thead>\n",
       "    <tr style=\"text-align: right;\">\n",
       "      <th></th>\n",
       "      <th>key</th>\n",
       "      <th>lval</th>\n",
       "      <th>rval</th>\n",
       "    </tr>\n",
       "  </thead>\n",
       "  <tbody>\n",
       "    <tr>\n",
       "      <th>0</th>\n",
       "      <td>foo</td>\n",
       "      <td>1</td>\n",
       "      <td>4</td>\n",
       "    </tr>\n",
       "    <tr>\n",
       "      <th>1</th>\n",
       "      <td>foo</td>\n",
       "      <td>1</td>\n",
       "      <td>5</td>\n",
       "    </tr>\n",
       "    <tr>\n",
       "      <th>2</th>\n",
       "      <td>foo</td>\n",
       "      <td>2</td>\n",
       "      <td>4</td>\n",
       "    </tr>\n",
       "    <tr>\n",
       "      <th>3</th>\n",
       "      <td>foo</td>\n",
       "      <td>2</td>\n",
       "      <td>5</td>\n",
       "    </tr>\n",
       "  </tbody>\n",
       "</table>\n",
       "</div>"
      ],
      "text/plain": [
       "   key  lval  rval\n",
       "0  foo     1     4\n",
       "1  foo     1     5\n",
       "2  foo     2     4\n",
       "3  foo     2     5"
      ]
     },
     "execution_count": 67,
     "metadata": {},
     "output_type": "execute_result"
    }
   ],
   "source": [
    "pd.merge(left,right,on='key')"
   ]
  },
  {
   "cell_type": "code",
   "execution_count": 68,
   "metadata": {
    "hidden": true
   },
   "outputs": [
    {
     "data": {
      "text/html": [
       "<div>\n",
       "<style scoped>\n",
       "    .dataframe tbody tr th:only-of-type {\n",
       "        vertical-align: middle;\n",
       "    }\n",
       "\n",
       "    .dataframe tbody tr th {\n",
       "        vertical-align: top;\n",
       "    }\n",
       "\n",
       "    .dataframe thead th {\n",
       "        text-align: right;\n",
       "    }\n",
       "</style>\n",
       "<table border=\"1\" class=\"dataframe\">\n",
       "  <thead>\n",
       "    <tr style=\"text-align: right;\">\n",
       "      <th></th>\n",
       "      <th>key</th>\n",
       "      <th>lval</th>\n",
       "    </tr>\n",
       "  </thead>\n",
       "  <tbody>\n",
       "    <tr>\n",
       "      <th>0</th>\n",
       "      <td>foo</td>\n",
       "      <td>1</td>\n",
       "    </tr>\n",
       "    <tr>\n",
       "      <th>1</th>\n",
       "      <td>bar</td>\n",
       "      <td>2</td>\n",
       "    </tr>\n",
       "  </tbody>\n",
       "</table>\n",
       "</div>"
      ],
      "text/plain": [
       "   key  lval\n",
       "0  foo     1\n",
       "1  bar     2"
      ]
     },
     "execution_count": 68,
     "metadata": {},
     "output_type": "execute_result"
    }
   ],
   "source": [
    "left = pd.DataFrame({'key':['foo','bar'],'lval':[1,2]})\n",
    "right = pd.DataFrame({'key':['foo','bar'],'rval':[4,5]})\n",
    "left"
   ]
  },
  {
   "cell_type": "code",
   "execution_count": 69,
   "metadata": {
    "hidden": true
   },
   "outputs": [
    {
     "data": {
      "text/html": [
       "<div>\n",
       "<style scoped>\n",
       "    .dataframe tbody tr th:only-of-type {\n",
       "        vertical-align: middle;\n",
       "    }\n",
       "\n",
       "    .dataframe tbody tr th {\n",
       "        vertical-align: top;\n",
       "    }\n",
       "\n",
       "    .dataframe thead th {\n",
       "        text-align: right;\n",
       "    }\n",
       "</style>\n",
       "<table border=\"1\" class=\"dataframe\">\n",
       "  <thead>\n",
       "    <tr style=\"text-align: right;\">\n",
       "      <th></th>\n",
       "      <th>key</th>\n",
       "      <th>rval</th>\n",
       "    </tr>\n",
       "  </thead>\n",
       "  <tbody>\n",
       "    <tr>\n",
       "      <th>0</th>\n",
       "      <td>foo</td>\n",
       "      <td>4</td>\n",
       "    </tr>\n",
       "    <tr>\n",
       "      <th>1</th>\n",
       "      <td>bar</td>\n",
       "      <td>5</td>\n",
       "    </tr>\n",
       "  </tbody>\n",
       "</table>\n",
       "</div>"
      ],
      "text/plain": [
       "   key  rval\n",
       "0  foo     4\n",
       "1  bar     5"
      ]
     },
     "execution_count": 69,
     "metadata": {},
     "output_type": "execute_result"
    }
   ],
   "source": [
    "right"
   ]
  },
  {
   "cell_type": "code",
   "execution_count": 70,
   "metadata": {
    "hidden": true
   },
   "outputs": [
    {
     "data": {
      "text/html": [
       "<div>\n",
       "<style scoped>\n",
       "    .dataframe tbody tr th:only-of-type {\n",
       "        vertical-align: middle;\n",
       "    }\n",
       "\n",
       "    .dataframe tbody tr th {\n",
       "        vertical-align: top;\n",
       "    }\n",
       "\n",
       "    .dataframe thead th {\n",
       "        text-align: right;\n",
       "    }\n",
       "</style>\n",
       "<table border=\"1\" class=\"dataframe\">\n",
       "  <thead>\n",
       "    <tr style=\"text-align: right;\">\n",
       "      <th></th>\n",
       "      <th>key</th>\n",
       "      <th>lval</th>\n",
       "      <th>rval</th>\n",
       "    </tr>\n",
       "  </thead>\n",
       "  <tbody>\n",
       "    <tr>\n",
       "      <th>0</th>\n",
       "      <td>foo</td>\n",
       "      <td>1</td>\n",
       "      <td>4</td>\n",
       "    </tr>\n",
       "    <tr>\n",
       "      <th>1</th>\n",
       "      <td>bar</td>\n",
       "      <td>2</td>\n",
       "      <td>5</td>\n",
       "    </tr>\n",
       "  </tbody>\n",
       "</table>\n",
       "</div>"
      ],
      "text/plain": [
       "   key  lval  rval\n",
       "0  foo     1     4\n",
       "1  bar     2     5"
      ]
     },
     "execution_count": 70,
     "metadata": {},
     "output_type": "execute_result"
    }
   ],
   "source": [
    "pd.merge(left,right,on='key')"
   ]
  },
  {
   "cell_type": "markdown",
   "metadata": {
    "hidden": true
   },
   "source": [
    "## Append"
   ]
  },
  {
   "cell_type": "code",
   "execution_count": 71,
   "metadata": {
    "hidden": true
   },
   "outputs": [
    {
     "data": {
      "text/html": [
       "<div>\n",
       "<style scoped>\n",
       "    .dataframe tbody tr th:only-of-type {\n",
       "        vertical-align: middle;\n",
       "    }\n",
       "\n",
       "    .dataframe tbody tr th {\n",
       "        vertical-align: top;\n",
       "    }\n",
       "\n",
       "    .dataframe thead th {\n",
       "        text-align: right;\n",
       "    }\n",
       "</style>\n",
       "<table border=\"1\" class=\"dataframe\">\n",
       "  <thead>\n",
       "    <tr style=\"text-align: right;\">\n",
       "      <th></th>\n",
       "      <th>A</th>\n",
       "      <th>B</th>\n",
       "      <th>C</th>\n",
       "      <th>D</th>\n",
       "    </tr>\n",
       "  </thead>\n",
       "  <tbody>\n",
       "    <tr>\n",
       "      <th>0</th>\n",
       "      <td>0.031744</td>\n",
       "      <td>-0.548517</td>\n",
       "      <td>-1.952627</td>\n",
       "      <td>-0.688289</td>\n",
       "    </tr>\n",
       "    <tr>\n",
       "      <th>1</th>\n",
       "      <td>-1.504073</td>\n",
       "      <td>-1.596859</td>\n",
       "      <td>-0.845991</td>\n",
       "      <td>-0.021271</td>\n",
       "    </tr>\n",
       "    <tr>\n",
       "      <th>2</th>\n",
       "      <td>-0.725533</td>\n",
       "      <td>0.649246</td>\n",
       "      <td>0.088644</td>\n",
       "      <td>-1.300767</td>\n",
       "    </tr>\n",
       "    <tr>\n",
       "      <th>3</th>\n",
       "      <td>-0.454115</td>\n",
       "      <td>-0.044428</td>\n",
       "      <td>2.024705</td>\n",
       "      <td>-0.583794</td>\n",
       "    </tr>\n",
       "    <tr>\n",
       "      <th>4</th>\n",
       "      <td>-1.354448</td>\n",
       "      <td>-1.808252</td>\n",
       "      <td>1.423467</td>\n",
       "      <td>-0.696932</td>\n",
       "    </tr>\n",
       "    <tr>\n",
       "      <th>5</th>\n",
       "      <td>-0.383471</td>\n",
       "      <td>-0.845973</td>\n",
       "      <td>-0.534652</td>\n",
       "      <td>-0.215802</td>\n",
       "    </tr>\n",
       "    <tr>\n",
       "      <th>6</th>\n",
       "      <td>-0.257058</td>\n",
       "      <td>0.943756</td>\n",
       "      <td>-0.425343</td>\n",
       "      <td>0.535548</td>\n",
       "    </tr>\n",
       "    <tr>\n",
       "      <th>7</th>\n",
       "      <td>0.546571</td>\n",
       "      <td>-0.714550</td>\n",
       "      <td>0.138521</td>\n",
       "      <td>-0.085310</td>\n",
       "    </tr>\n",
       "  </tbody>\n",
       "</table>\n",
       "</div>"
      ],
      "text/plain": [
       "          A         B         C         D\n",
       "0  0.031744 -0.548517 -1.952627 -0.688289\n",
       "1 -1.504073 -1.596859 -0.845991 -0.021271\n",
       "2 -0.725533  0.649246  0.088644 -1.300767\n",
       "3 -0.454115 -0.044428  2.024705 -0.583794\n",
       "4 -1.354448 -1.808252  1.423467 -0.696932\n",
       "5 -0.383471 -0.845973 -0.534652 -0.215802\n",
       "6 -0.257058  0.943756 -0.425343  0.535548\n",
       "7  0.546571 -0.714550  0.138521 -0.085310"
      ]
     },
     "execution_count": 71,
     "metadata": {},
     "output_type": "execute_result"
    }
   ],
   "source": [
    "df4 = pd.DataFrame(np.random.randn(8,4), columns=['A','B','C','D'])\n",
    "df4"
   ]
  },
  {
   "cell_type": "code",
   "execution_count": 72,
   "metadata": {
    "hidden": true
   },
   "outputs": [
    {
     "data": {
      "text/plain": [
       "A   -0.454115\n",
       "B   -0.044428\n",
       "C    2.024705\n",
       "D   -0.583794\n",
       "Name: 3, dtype: float64"
      ]
     },
     "execution_count": 72,
     "metadata": {},
     "output_type": "execute_result"
    }
   ],
   "source": [
    "s = df4.iloc[3]\n",
    "s"
   ]
  },
  {
   "cell_type": "code",
   "execution_count": 73,
   "metadata": {
    "hidden": true
   },
   "outputs": [
    {
     "data": {
      "text/html": [
       "<div>\n",
       "<style scoped>\n",
       "    .dataframe tbody tr th:only-of-type {\n",
       "        vertical-align: middle;\n",
       "    }\n",
       "\n",
       "    .dataframe tbody tr th {\n",
       "        vertical-align: top;\n",
       "    }\n",
       "\n",
       "    .dataframe thead th {\n",
       "        text-align: right;\n",
       "    }\n",
       "</style>\n",
       "<table border=\"1\" class=\"dataframe\">\n",
       "  <thead>\n",
       "    <tr style=\"text-align: right;\">\n",
       "      <th></th>\n",
       "      <th>A</th>\n",
       "      <th>B</th>\n",
       "      <th>C</th>\n",
       "      <th>D</th>\n",
       "    </tr>\n",
       "  </thead>\n",
       "  <tbody>\n",
       "    <tr>\n",
       "      <th>0</th>\n",
       "      <td>0.031744</td>\n",
       "      <td>-0.548517</td>\n",
       "      <td>-1.952627</td>\n",
       "      <td>-0.688289</td>\n",
       "    </tr>\n",
       "    <tr>\n",
       "      <th>1</th>\n",
       "      <td>-1.504073</td>\n",
       "      <td>-1.596859</td>\n",
       "      <td>-0.845991</td>\n",
       "      <td>-0.021271</td>\n",
       "    </tr>\n",
       "    <tr>\n",
       "      <th>2</th>\n",
       "      <td>-0.725533</td>\n",
       "      <td>0.649246</td>\n",
       "      <td>0.088644</td>\n",
       "      <td>-1.300767</td>\n",
       "    </tr>\n",
       "    <tr>\n",
       "      <th>3</th>\n",
       "      <td>-0.454115</td>\n",
       "      <td>-0.044428</td>\n",
       "      <td>2.024705</td>\n",
       "      <td>-0.583794</td>\n",
       "    </tr>\n",
       "    <tr>\n",
       "      <th>4</th>\n",
       "      <td>-1.354448</td>\n",
       "      <td>-1.808252</td>\n",
       "      <td>1.423467</td>\n",
       "      <td>-0.696932</td>\n",
       "    </tr>\n",
       "    <tr>\n",
       "      <th>5</th>\n",
       "      <td>-0.383471</td>\n",
       "      <td>-0.845973</td>\n",
       "      <td>-0.534652</td>\n",
       "      <td>-0.215802</td>\n",
       "    </tr>\n",
       "    <tr>\n",
       "      <th>6</th>\n",
       "      <td>-0.257058</td>\n",
       "      <td>0.943756</td>\n",
       "      <td>-0.425343</td>\n",
       "      <td>0.535548</td>\n",
       "    </tr>\n",
       "    <tr>\n",
       "      <th>7</th>\n",
       "      <td>0.546571</td>\n",
       "      <td>-0.714550</td>\n",
       "      <td>0.138521</td>\n",
       "      <td>-0.085310</td>\n",
       "    </tr>\n",
       "    <tr>\n",
       "      <th>8</th>\n",
       "      <td>-0.454115</td>\n",
       "      <td>-0.044428</td>\n",
       "      <td>2.024705</td>\n",
       "      <td>-0.583794</td>\n",
       "    </tr>\n",
       "  </tbody>\n",
       "</table>\n",
       "</div>"
      ],
      "text/plain": [
       "          A         B         C         D\n",
       "0  0.031744 -0.548517 -1.952627 -0.688289\n",
       "1 -1.504073 -1.596859 -0.845991 -0.021271\n",
       "2 -0.725533  0.649246  0.088644 -1.300767\n",
       "3 -0.454115 -0.044428  2.024705 -0.583794\n",
       "4 -1.354448 -1.808252  1.423467 -0.696932\n",
       "5 -0.383471 -0.845973 -0.534652 -0.215802\n",
       "6 -0.257058  0.943756 -0.425343  0.535548\n",
       "7  0.546571 -0.714550  0.138521 -0.085310\n",
       "8 -0.454115 -0.044428  2.024705 -0.583794"
      ]
     },
     "execution_count": 73,
     "metadata": {},
     "output_type": "execute_result"
    }
   ],
   "source": [
    "df4.append(s,ignore_index=True)"
   ]
  },
  {
   "cell_type": "markdown",
   "metadata": {
    "hidden": true
   },
   "source": [
    "## Grouping\n",
    "\n",
    "By 'group by' we are referring to a process involving one or more of the following steps:\n",
    "- splitting - the data into groups based on some criteria\n",
    "- applying - a function to each group independently\n",
    "- combining - the results into a DATA Structure"
   ]
  },
  {
   "cell_type": "code",
   "execution_count": 74,
   "metadata": {
    "hidden": true
   },
   "outputs": [
    {
     "data": {
      "text/html": [
       "<div>\n",
       "<style scoped>\n",
       "    .dataframe tbody tr th:only-of-type {\n",
       "        vertical-align: middle;\n",
       "    }\n",
       "\n",
       "    .dataframe tbody tr th {\n",
       "        vertical-align: top;\n",
       "    }\n",
       "\n",
       "    .dataframe thead th {\n",
       "        text-align: right;\n",
       "    }\n",
       "</style>\n",
       "<table border=\"1\" class=\"dataframe\">\n",
       "  <thead>\n",
       "    <tr style=\"text-align: right;\">\n",
       "      <th></th>\n",
       "      <th>A</th>\n",
       "      <th>B</th>\n",
       "      <th>C</th>\n",
       "      <th>D</th>\n",
       "    </tr>\n",
       "  </thead>\n",
       "  <tbody>\n",
       "    <tr>\n",
       "      <th>0</th>\n",
       "      <td>foo</td>\n",
       "      <td>one</td>\n",
       "      <td>0.858025</td>\n",
       "      <td>0.057664</td>\n",
       "    </tr>\n",
       "    <tr>\n",
       "      <th>1</th>\n",
       "      <td>bar</td>\n",
       "      <td>one</td>\n",
       "      <td>-0.299705</td>\n",
       "      <td>-0.631406</td>\n",
       "    </tr>\n",
       "    <tr>\n",
       "      <th>2</th>\n",
       "      <td>foo</td>\n",
       "      <td>two</td>\n",
       "      <td>1.021634</td>\n",
       "      <td>0.134004</td>\n",
       "    </tr>\n",
       "    <tr>\n",
       "      <th>3</th>\n",
       "      <td>bar</td>\n",
       "      <td>three</td>\n",
       "      <td>-0.443292</td>\n",
       "      <td>1.507677</td>\n",
       "    </tr>\n",
       "    <tr>\n",
       "      <th>4</th>\n",
       "      <td>foo</td>\n",
       "      <td>two</td>\n",
       "      <td>-1.194817</td>\n",
       "      <td>-0.373409</td>\n",
       "    </tr>\n",
       "    <tr>\n",
       "      <th>5</th>\n",
       "      <td>bar</td>\n",
       "      <td>two</td>\n",
       "      <td>-0.969160</td>\n",
       "      <td>-0.619751</td>\n",
       "    </tr>\n",
       "    <tr>\n",
       "      <th>6</th>\n",
       "      <td>foo</td>\n",
       "      <td>one</td>\n",
       "      <td>-0.746339</td>\n",
       "      <td>0.456995</td>\n",
       "    </tr>\n",
       "    <tr>\n",
       "      <th>7</th>\n",
       "      <td>foo</td>\n",
       "      <td>three</td>\n",
       "      <td>-0.043528</td>\n",
       "      <td>0.456174</td>\n",
       "    </tr>\n",
       "  </tbody>\n",
       "</table>\n",
       "</div>"
      ],
      "text/plain": [
       "     A      B         C         D\n",
       "0  foo    one  0.858025  0.057664\n",
       "1  bar    one -0.299705 -0.631406\n",
       "2  foo    two  1.021634  0.134004\n",
       "3  bar  three -0.443292  1.507677\n",
       "4  foo    two -1.194817 -0.373409\n",
       "5  bar    two -0.969160 -0.619751\n",
       "6  foo    one -0.746339  0.456995\n",
       "7  foo  three -0.043528  0.456174"
      ]
     },
     "execution_count": 74,
     "metadata": {},
     "output_type": "execute_result"
    }
   ],
   "source": [
    "df = pd.DataFrame({\n",
    "    'A':['foo','bar','foo','bar','foo','bar','foo','foo'],\n",
    "    'B':['one','one','two','three','two','two','one','three'],\n",
    "    'C':np.random.randn(8),\n",
    "    'D':np.random.randn(8)\n",
    "})\n",
    "df"
   ]
  },
  {
   "cell_type": "code",
   "execution_count": 75,
   "metadata": {
    "hidden": true
   },
   "outputs": [
    {
     "data": {
      "text/html": [
       "<div>\n",
       "<style scoped>\n",
       "    .dataframe tbody tr th:only-of-type {\n",
       "        vertical-align: middle;\n",
       "    }\n",
       "\n",
       "    .dataframe tbody tr th {\n",
       "        vertical-align: top;\n",
       "    }\n",
       "\n",
       "    .dataframe thead th {\n",
       "        text-align: right;\n",
       "    }\n",
       "</style>\n",
       "<table border=\"1\" class=\"dataframe\">\n",
       "  <thead>\n",
       "    <tr style=\"text-align: right;\">\n",
       "      <th></th>\n",
       "      <th>C</th>\n",
       "      <th>D</th>\n",
       "    </tr>\n",
       "    <tr>\n",
       "      <th>A</th>\n",
       "      <th></th>\n",
       "      <th></th>\n",
       "    </tr>\n",
       "  </thead>\n",
       "  <tbody>\n",
       "    <tr>\n",
       "      <th>bar</th>\n",
       "      <td>-1.712157</td>\n",
       "      <td>0.256520</td>\n",
       "    </tr>\n",
       "    <tr>\n",
       "      <th>foo</th>\n",
       "      <td>-0.105023</td>\n",
       "      <td>0.731429</td>\n",
       "    </tr>\n",
       "  </tbody>\n",
       "</table>\n",
       "</div>"
      ],
      "text/plain": [
       "            C         D\n",
       "A                      \n",
       "bar -1.712157  0.256520\n",
       "foo -0.105023  0.731429"
      ]
     },
     "execution_count": 75,
     "metadata": {},
     "output_type": "execute_result"
    }
   ],
   "source": [
    "df.groupby('A').sum()"
   ]
  },
  {
   "cell_type": "code",
   "execution_count": 76,
   "metadata": {
    "hidden": true
   },
   "outputs": [
    {
     "data": {
      "text/html": [
       "<div>\n",
       "<style scoped>\n",
       "    .dataframe tbody tr th:only-of-type {\n",
       "        vertical-align: middle;\n",
       "    }\n",
       "\n",
       "    .dataframe tbody tr th {\n",
       "        vertical-align: top;\n",
       "    }\n",
       "\n",
       "    .dataframe thead th {\n",
       "        text-align: right;\n",
       "    }\n",
       "</style>\n",
       "<table border=\"1\" class=\"dataframe\">\n",
       "  <thead>\n",
       "    <tr style=\"text-align: right;\">\n",
       "      <th></th>\n",
       "      <th></th>\n",
       "      <th>C</th>\n",
       "      <th>D</th>\n",
       "    </tr>\n",
       "    <tr>\n",
       "      <th>A</th>\n",
       "      <th>B</th>\n",
       "      <th></th>\n",
       "      <th></th>\n",
       "    </tr>\n",
       "  </thead>\n",
       "  <tbody>\n",
       "    <tr>\n",
       "      <th rowspan=\"3\" valign=\"top\">bar</th>\n",
       "      <th>one</th>\n",
       "      <td>-0.299705</td>\n",
       "      <td>-0.631406</td>\n",
       "    </tr>\n",
       "    <tr>\n",
       "      <th>three</th>\n",
       "      <td>-0.443292</td>\n",
       "      <td>1.507677</td>\n",
       "    </tr>\n",
       "    <tr>\n",
       "      <th>two</th>\n",
       "      <td>-0.969160</td>\n",
       "      <td>-0.619751</td>\n",
       "    </tr>\n",
       "    <tr>\n",
       "      <th rowspan=\"3\" valign=\"top\">foo</th>\n",
       "      <th>one</th>\n",
       "      <td>0.111687</td>\n",
       "      <td>0.514660</td>\n",
       "    </tr>\n",
       "    <tr>\n",
       "      <th>three</th>\n",
       "      <td>-0.043528</td>\n",
       "      <td>0.456174</td>\n",
       "    </tr>\n",
       "    <tr>\n",
       "      <th>two</th>\n",
       "      <td>-0.173182</td>\n",
       "      <td>-0.239405</td>\n",
       "    </tr>\n",
       "  </tbody>\n",
       "</table>\n",
       "</div>"
      ],
      "text/plain": [
       "                  C         D\n",
       "A   B                        \n",
       "bar one   -0.299705 -0.631406\n",
       "    three -0.443292  1.507677\n",
       "    two   -0.969160 -0.619751\n",
       "foo one    0.111687  0.514660\n",
       "    three -0.043528  0.456174\n",
       "    two   -0.173182 -0.239405"
      ]
     },
     "execution_count": 76,
     "metadata": {},
     "output_type": "execute_result"
    }
   ],
   "source": [
    "df.groupby(['A','B']).sum()"
   ]
  },
  {
   "cell_type": "markdown",
   "metadata": {
    "hidden": true
   },
   "source": [
    "## Reshaping"
   ]
  },
  {
   "cell_type": "markdown",
   "metadata": {
    "hidden": true
   },
   "source": [
    "### Stack"
   ]
  },
  {
   "cell_type": "code",
   "execution_count": 77,
   "metadata": {
    "hidden": true
   },
   "outputs": [
    {
     "data": {
      "text/html": [
       "<div>\n",
       "<style scoped>\n",
       "    .dataframe tbody tr th:only-of-type {\n",
       "        vertical-align: middle;\n",
       "    }\n",
       "\n",
       "    .dataframe tbody tr th {\n",
       "        vertical-align: top;\n",
       "    }\n",
       "\n",
       "    .dataframe thead th {\n",
       "        text-align: right;\n",
       "    }\n",
       "</style>\n",
       "<table border=\"1\" class=\"dataframe\">\n",
       "  <thead>\n",
       "    <tr style=\"text-align: right;\">\n",
       "      <th></th>\n",
       "      <th></th>\n",
       "      <th>A</th>\n",
       "      <th>B</th>\n",
       "    </tr>\n",
       "    <tr>\n",
       "      <th>first</th>\n",
       "      <th>second</th>\n",
       "      <th></th>\n",
       "      <th></th>\n",
       "    </tr>\n",
       "  </thead>\n",
       "  <tbody>\n",
       "    <tr>\n",
       "      <th rowspan=\"2\" valign=\"top\">bar</th>\n",
       "      <th>one</th>\n",
       "      <td>-0.553332</td>\n",
       "      <td>-0.988208</td>\n",
       "    </tr>\n",
       "    <tr>\n",
       "      <th>two</th>\n",
       "      <td>-0.261003</td>\n",
       "      <td>0.570427</td>\n",
       "    </tr>\n",
       "    <tr>\n",
       "      <th rowspan=\"2\" valign=\"top\">baz</th>\n",
       "      <th>one</th>\n",
       "      <td>0.723325</td>\n",
       "      <td>0.484618</td>\n",
       "    </tr>\n",
       "    <tr>\n",
       "      <th>two</th>\n",
       "      <td>1.608984</td>\n",
       "      <td>1.090172</td>\n",
       "    </tr>\n",
       "  </tbody>\n",
       "</table>\n",
       "</div>"
      ],
      "text/plain": [
       "                     A         B\n",
       "first second                    \n",
       "bar   one    -0.553332 -0.988208\n",
       "      two    -0.261003  0.570427\n",
       "baz   one     0.723325  0.484618\n",
       "      two     1.608984  1.090172"
      ]
     },
     "execution_count": 77,
     "metadata": {},
     "output_type": "execute_result"
    }
   ],
   "source": [
    "tuples = list(zip(*[\n",
    "    ['bar','bar','baz','baz','foo','foo','qux','qux'],\n",
    "    ['one','two','one','two','one','two','one','two']\n",
    "]))\n",
    "index = pd.MultiIndex.from_tuples(tuples, names = ['first','second'])\n",
    "df = pd.DataFrame(np.random.randn(8,2), index = index, columns = ['A','B'])\n",
    "df2 = df[:4]\n",
    "df2"
   ]
  },
  {
   "cell_type": "code",
   "execution_count": 78,
   "metadata": {
    "hidden": true
   },
   "outputs": [
    {
     "data": {
      "text/plain": [
       "first  second   \n",
       "bar    one     A   -0.553332\n",
       "               B   -0.988208\n",
       "       two     A   -0.261003\n",
       "               B    0.570427\n",
       "baz    one     A    0.723325\n",
       "               B    0.484618\n",
       "       two     A    1.608984\n",
       "               B    1.090172\n",
       "dtype: float64"
      ]
     },
     "execution_count": 78,
     "metadata": {},
     "output_type": "execute_result"
    }
   ],
   "source": [
    "stacked = df2.stack()\n",
    "stacked"
   ]
  },
  {
   "cell_type": "code",
   "execution_count": 79,
   "metadata": {
    "hidden": true
   },
   "outputs": [
    {
     "data": {
      "text/html": [
       "<div>\n",
       "<style scoped>\n",
       "    .dataframe tbody tr th:only-of-type {\n",
       "        vertical-align: middle;\n",
       "    }\n",
       "\n",
       "    .dataframe tbody tr th {\n",
       "        vertical-align: top;\n",
       "    }\n",
       "\n",
       "    .dataframe thead th {\n",
       "        text-align: right;\n",
       "    }\n",
       "</style>\n",
       "<table border=\"1\" class=\"dataframe\">\n",
       "  <thead>\n",
       "    <tr style=\"text-align: right;\">\n",
       "      <th></th>\n",
       "      <th></th>\n",
       "      <th>A</th>\n",
       "      <th>B</th>\n",
       "    </tr>\n",
       "    <tr>\n",
       "      <th>first</th>\n",
       "      <th>second</th>\n",
       "      <th></th>\n",
       "      <th></th>\n",
       "    </tr>\n",
       "  </thead>\n",
       "  <tbody>\n",
       "    <tr>\n",
       "      <th rowspan=\"2\" valign=\"top\">bar</th>\n",
       "      <th>one</th>\n",
       "      <td>-0.553332</td>\n",
       "      <td>-0.988208</td>\n",
       "    </tr>\n",
       "    <tr>\n",
       "      <th>two</th>\n",
       "      <td>-0.261003</td>\n",
       "      <td>0.570427</td>\n",
       "    </tr>\n",
       "    <tr>\n",
       "      <th rowspan=\"2\" valign=\"top\">baz</th>\n",
       "      <th>one</th>\n",
       "      <td>0.723325</td>\n",
       "      <td>0.484618</td>\n",
       "    </tr>\n",
       "    <tr>\n",
       "      <th>two</th>\n",
       "      <td>1.608984</td>\n",
       "      <td>1.090172</td>\n",
       "    </tr>\n",
       "  </tbody>\n",
       "</table>\n",
       "</div>"
      ],
      "text/plain": [
       "                     A         B\n",
       "first second                    \n",
       "bar   one    -0.553332 -0.988208\n",
       "      two    -0.261003  0.570427\n",
       "baz   one     0.723325  0.484618\n",
       "      two     1.608984  1.090172"
      ]
     },
     "execution_count": 79,
     "metadata": {},
     "output_type": "execute_result"
    }
   ],
   "source": [
    "stacked.unstack()"
   ]
  },
  {
   "cell_type": "code",
   "execution_count": 80,
   "metadata": {
    "hidden": true
   },
   "outputs": [
    {
     "data": {
      "text/html": [
       "<div>\n",
       "<style scoped>\n",
       "    .dataframe tbody tr th:only-of-type {\n",
       "        vertical-align: middle;\n",
       "    }\n",
       "\n",
       "    .dataframe tbody tr th {\n",
       "        vertical-align: top;\n",
       "    }\n",
       "\n",
       "    .dataframe thead th {\n",
       "        text-align: right;\n",
       "    }\n",
       "</style>\n",
       "<table border=\"1\" class=\"dataframe\">\n",
       "  <thead>\n",
       "    <tr style=\"text-align: right;\">\n",
       "      <th></th>\n",
       "      <th>second</th>\n",
       "      <th>one</th>\n",
       "      <th>two</th>\n",
       "    </tr>\n",
       "    <tr>\n",
       "      <th>first</th>\n",
       "      <th></th>\n",
       "      <th></th>\n",
       "      <th></th>\n",
       "    </tr>\n",
       "  </thead>\n",
       "  <tbody>\n",
       "    <tr>\n",
       "      <th rowspan=\"2\" valign=\"top\">bar</th>\n",
       "      <th>A</th>\n",
       "      <td>-0.553332</td>\n",
       "      <td>-0.261003</td>\n",
       "    </tr>\n",
       "    <tr>\n",
       "      <th>B</th>\n",
       "      <td>-0.988208</td>\n",
       "      <td>0.570427</td>\n",
       "    </tr>\n",
       "    <tr>\n",
       "      <th rowspan=\"2\" valign=\"top\">baz</th>\n",
       "      <th>A</th>\n",
       "      <td>0.723325</td>\n",
       "      <td>1.608984</td>\n",
       "    </tr>\n",
       "    <tr>\n",
       "      <th>B</th>\n",
       "      <td>0.484618</td>\n",
       "      <td>1.090172</td>\n",
       "    </tr>\n",
       "  </tbody>\n",
       "</table>\n",
       "</div>"
      ],
      "text/plain": [
       "second        one       two\n",
       "first                      \n",
       "bar   A -0.553332 -0.261003\n",
       "      B -0.988208  0.570427\n",
       "baz   A  0.723325  1.608984\n",
       "      B  0.484618  1.090172"
      ]
     },
     "execution_count": 80,
     "metadata": {},
     "output_type": "execute_result"
    }
   ],
   "source": [
    "stacked.unstack(1)"
   ]
  },
  {
   "cell_type": "code",
   "execution_count": 81,
   "metadata": {
    "hidden": true
   },
   "outputs": [
    {
     "data": {
      "text/html": [
       "<div>\n",
       "<style scoped>\n",
       "    .dataframe tbody tr th:only-of-type {\n",
       "        vertical-align: middle;\n",
       "    }\n",
       "\n",
       "    .dataframe tbody tr th {\n",
       "        vertical-align: top;\n",
       "    }\n",
       "\n",
       "    .dataframe thead th {\n",
       "        text-align: right;\n",
       "    }\n",
       "</style>\n",
       "<table border=\"1\" class=\"dataframe\">\n",
       "  <thead>\n",
       "    <tr style=\"text-align: right;\">\n",
       "      <th></th>\n",
       "      <th>first</th>\n",
       "      <th>bar</th>\n",
       "      <th>baz</th>\n",
       "    </tr>\n",
       "    <tr>\n",
       "      <th>second</th>\n",
       "      <th></th>\n",
       "      <th></th>\n",
       "      <th></th>\n",
       "    </tr>\n",
       "  </thead>\n",
       "  <tbody>\n",
       "    <tr>\n",
       "      <th rowspan=\"2\" valign=\"top\">one</th>\n",
       "      <th>A</th>\n",
       "      <td>-0.553332</td>\n",
       "      <td>0.723325</td>\n",
       "    </tr>\n",
       "    <tr>\n",
       "      <th>B</th>\n",
       "      <td>-0.988208</td>\n",
       "      <td>0.484618</td>\n",
       "    </tr>\n",
       "    <tr>\n",
       "      <th rowspan=\"2\" valign=\"top\">two</th>\n",
       "      <th>A</th>\n",
       "      <td>-0.261003</td>\n",
       "      <td>1.608984</td>\n",
       "    </tr>\n",
       "    <tr>\n",
       "      <th>B</th>\n",
       "      <td>0.570427</td>\n",
       "      <td>1.090172</td>\n",
       "    </tr>\n",
       "  </tbody>\n",
       "</table>\n",
       "</div>"
      ],
      "text/plain": [
       "first          bar       baz\n",
       "second                      \n",
       "one    A -0.553332  0.723325\n",
       "       B -0.988208  0.484618\n",
       "two    A -0.261003  1.608984\n",
       "       B  0.570427  1.090172"
      ]
     },
     "execution_count": 81,
     "metadata": {},
     "output_type": "execute_result"
    }
   ],
   "source": [
    "stacked.unstack(0)"
   ]
  },
  {
   "cell_type": "markdown",
   "metadata": {
    "hidden": true
   },
   "source": [
    "### Pivot Table\n"
   ]
  },
  {
   "cell_type": "code",
   "execution_count": 82,
   "metadata": {
    "hidden": true
   },
   "outputs": [
    {
     "data": {
      "text/html": [
       "<div>\n",
       "<style scoped>\n",
       "    .dataframe tbody tr th:only-of-type {\n",
       "        vertical-align: middle;\n",
       "    }\n",
       "\n",
       "    .dataframe tbody tr th {\n",
       "        vertical-align: top;\n",
       "    }\n",
       "\n",
       "    .dataframe thead th {\n",
       "        text-align: right;\n",
       "    }\n",
       "</style>\n",
       "<table border=\"1\" class=\"dataframe\">\n",
       "  <thead>\n",
       "    <tr style=\"text-align: right;\">\n",
       "      <th></th>\n",
       "      <th>A</th>\n",
       "      <th>B</th>\n",
       "      <th>C</th>\n",
       "      <th>D</th>\n",
       "      <th>E</th>\n",
       "    </tr>\n",
       "  </thead>\n",
       "  <tbody>\n",
       "    <tr>\n",
       "      <th>0</th>\n",
       "      <td>one</td>\n",
       "      <td>A</td>\n",
       "      <td>foo</td>\n",
       "      <td>0.047778</td>\n",
       "      <td>0.623314</td>\n",
       "    </tr>\n",
       "    <tr>\n",
       "      <th>1</th>\n",
       "      <td>one</td>\n",
       "      <td>B</td>\n",
       "      <td>foo</td>\n",
       "      <td>0.608451</td>\n",
       "      <td>0.356337</td>\n",
       "    </tr>\n",
       "    <tr>\n",
       "      <th>2</th>\n",
       "      <td>two</td>\n",
       "      <td>C</td>\n",
       "      <td>foo</td>\n",
       "      <td>0.344217</td>\n",
       "      <td>0.547842</td>\n",
       "    </tr>\n",
       "    <tr>\n",
       "      <th>3</th>\n",
       "      <td>three</td>\n",
       "      <td>A</td>\n",
       "      <td>bar</td>\n",
       "      <td>0.416388</td>\n",
       "      <td>0.157301</td>\n",
       "    </tr>\n",
       "    <tr>\n",
       "      <th>4</th>\n",
       "      <td>one</td>\n",
       "      <td>B</td>\n",
       "      <td>bar</td>\n",
       "      <td>0.349765</td>\n",
       "      <td>0.092162</td>\n",
       "    </tr>\n",
       "    <tr>\n",
       "      <th>5</th>\n",
       "      <td>one</td>\n",
       "      <td>C</td>\n",
       "      <td>bar</td>\n",
       "      <td>0.285271</td>\n",
       "      <td>0.474458</td>\n",
       "    </tr>\n",
       "    <tr>\n",
       "      <th>6</th>\n",
       "      <td>two</td>\n",
       "      <td>A</td>\n",
       "      <td>foo</td>\n",
       "      <td>0.716395</td>\n",
       "      <td>0.329497</td>\n",
       "    </tr>\n",
       "    <tr>\n",
       "      <th>7</th>\n",
       "      <td>three</td>\n",
       "      <td>B</td>\n",
       "      <td>foo</td>\n",
       "      <td>0.131728</td>\n",
       "      <td>0.391461</td>\n",
       "    </tr>\n",
       "    <tr>\n",
       "      <th>8</th>\n",
       "      <td>one</td>\n",
       "      <td>C</td>\n",
       "      <td>foo</td>\n",
       "      <td>0.682959</td>\n",
       "      <td>0.644850</td>\n",
       "    </tr>\n",
       "    <tr>\n",
       "      <th>9</th>\n",
       "      <td>one</td>\n",
       "      <td>A</td>\n",
       "      <td>bar</td>\n",
       "      <td>0.108340</td>\n",
       "      <td>0.006212</td>\n",
       "    </tr>\n",
       "    <tr>\n",
       "      <th>10</th>\n",
       "      <td>two</td>\n",
       "      <td>B</td>\n",
       "      <td>bar</td>\n",
       "      <td>0.407276</td>\n",
       "      <td>0.474957</td>\n",
       "    </tr>\n",
       "    <tr>\n",
       "      <th>11</th>\n",
       "      <td>three</td>\n",
       "      <td>C</td>\n",
       "      <td>bar</td>\n",
       "      <td>0.594924</td>\n",
       "      <td>0.937496</td>\n",
       "    </tr>\n",
       "  </tbody>\n",
       "</table>\n",
       "</div>"
      ],
      "text/plain": [
       "        A  B    C         D         E\n",
       "0     one  A  foo  0.047778  0.623314\n",
       "1     one  B  foo  0.608451  0.356337\n",
       "2     two  C  foo  0.344217  0.547842\n",
       "3   three  A  bar  0.416388  0.157301\n",
       "4     one  B  bar  0.349765  0.092162\n",
       "5     one  C  bar  0.285271  0.474458\n",
       "6     two  A  foo  0.716395  0.329497\n",
       "7   three  B  foo  0.131728  0.391461\n",
       "8     one  C  foo  0.682959  0.644850\n",
       "9     one  A  bar  0.108340  0.006212\n",
       "10    two  B  bar  0.407276  0.474957\n",
       "11  three  C  bar  0.594924  0.937496"
      ]
     },
     "execution_count": 82,
     "metadata": {},
     "output_type": "execute_result"
    }
   ],
   "source": [
    "df = pd.DataFrame({\n",
    "    'A': ['one', 'one', 'two', 'three'] * 3,\n",
    "    'B': ['A','B','C'] * 4,\n",
    "    'C': ['foo','foo','foo','bar','bar','bar'] * 2,\n",
    "    'D': np.random.rand(12),\n",
    "    'E': np.random.rand(12)\n",
    "})\n",
    "df"
   ]
  },
  {
   "cell_type": "markdown",
   "metadata": {
    "hidden": true
   },
   "source": [
    "### Pivoting the table"
   ]
  },
  {
   "cell_type": "code",
   "execution_count": 83,
   "metadata": {
    "hidden": true
   },
   "outputs": [
    {
     "data": {
      "text/html": [
       "<div>\n",
       "<style scoped>\n",
       "    .dataframe tbody tr th:only-of-type {\n",
       "        vertical-align: middle;\n",
       "    }\n",
       "\n",
       "    .dataframe tbody tr th {\n",
       "        vertical-align: top;\n",
       "    }\n",
       "\n",
       "    .dataframe thead th {\n",
       "        text-align: right;\n",
       "    }\n",
       "</style>\n",
       "<table border=\"1\" class=\"dataframe\">\n",
       "  <thead>\n",
       "    <tr style=\"text-align: right;\">\n",
       "      <th></th>\n",
       "      <th>C</th>\n",
       "      <th>bar</th>\n",
       "      <th>foo</th>\n",
       "    </tr>\n",
       "    <tr>\n",
       "      <th>A</th>\n",
       "      <th>B</th>\n",
       "      <th></th>\n",
       "      <th></th>\n",
       "    </tr>\n",
       "  </thead>\n",
       "  <tbody>\n",
       "    <tr>\n",
       "      <th rowspan=\"3\" valign=\"top\">one</th>\n",
       "      <th>A</th>\n",
       "      <td>0.108340</td>\n",
       "      <td>0.047778</td>\n",
       "    </tr>\n",
       "    <tr>\n",
       "      <th>B</th>\n",
       "      <td>0.349765</td>\n",
       "      <td>0.608451</td>\n",
       "    </tr>\n",
       "    <tr>\n",
       "      <th>C</th>\n",
       "      <td>0.285271</td>\n",
       "      <td>0.682959</td>\n",
       "    </tr>\n",
       "    <tr>\n",
       "      <th rowspan=\"3\" valign=\"top\">three</th>\n",
       "      <th>A</th>\n",
       "      <td>0.416388</td>\n",
       "      <td>NaN</td>\n",
       "    </tr>\n",
       "    <tr>\n",
       "      <th>B</th>\n",
       "      <td>NaN</td>\n",
       "      <td>0.131728</td>\n",
       "    </tr>\n",
       "    <tr>\n",
       "      <th>C</th>\n",
       "      <td>0.594924</td>\n",
       "      <td>NaN</td>\n",
       "    </tr>\n",
       "    <tr>\n",
       "      <th rowspan=\"3\" valign=\"top\">two</th>\n",
       "      <th>A</th>\n",
       "      <td>NaN</td>\n",
       "      <td>0.716395</td>\n",
       "    </tr>\n",
       "    <tr>\n",
       "      <th>B</th>\n",
       "      <td>0.407276</td>\n",
       "      <td>NaN</td>\n",
       "    </tr>\n",
       "    <tr>\n",
       "      <th>C</th>\n",
       "      <td>NaN</td>\n",
       "      <td>0.344217</td>\n",
       "    </tr>\n",
       "  </tbody>\n",
       "</table>\n",
       "</div>"
      ],
      "text/plain": [
       "C             bar       foo\n",
       "A     B                    \n",
       "one   A  0.108340  0.047778\n",
       "      B  0.349765  0.608451\n",
       "      C  0.285271  0.682959\n",
       "three A  0.416388       NaN\n",
       "      B       NaN  0.131728\n",
       "      C  0.594924       NaN\n",
       "two   A       NaN  0.716395\n",
       "      B  0.407276       NaN\n",
       "      C       NaN  0.344217"
      ]
     },
     "execution_count": 83,
     "metadata": {},
     "output_type": "execute_result"
    }
   ],
   "source": [
    "pd.pivot_table(df,values='D',index = ['A','B'], columns = 'C')"
   ]
  },
  {
   "cell_type": "markdown",
   "metadata": {
    "hidden": true
   },
   "source": [
    "## Time Series"
   ]
  },
  {
   "cell_type": "code",
   "execution_count": 84,
   "metadata": {
    "hidden": true
   },
   "outputs": [
    {
     "data": {
      "text/plain": [
       "2018-08-12 00:00:00    115\n",
       "2018-08-12 00:00:01    468\n",
       "2018-08-12 00:00:02     98\n",
       "2018-08-12 00:00:03    376\n",
       "2018-08-12 00:00:04      7\n",
       "2018-08-12 00:00:05    460\n",
       "2018-08-12 00:00:06     29\n",
       "2018-08-12 00:00:07    115\n",
       "2018-08-12 00:00:08    342\n",
       "2018-08-12 00:00:09     92\n",
       "2018-08-12 00:00:10    116\n",
       "2018-08-12 00:00:11    489\n",
       "2018-08-12 00:00:12     71\n",
       "2018-08-12 00:00:13    180\n",
       "2018-08-12 00:00:14    139\n",
       "2018-08-12 00:00:15    317\n",
       "2018-08-12 00:00:16    427\n",
       "2018-08-12 00:00:17    227\n",
       "2018-08-12 00:00:18    133\n",
       "2018-08-12 00:00:19     70\n",
       "2018-08-12 00:00:20    497\n",
       "2018-08-12 00:00:21     82\n",
       "2018-08-12 00:00:22    302\n",
       "2018-08-12 00:00:23     95\n",
       "2018-08-12 00:00:24    374\n",
       "2018-08-12 00:00:25    456\n",
       "2018-08-12 00:00:26    272\n",
       "2018-08-12 00:00:27    465\n",
       "2018-08-12 00:00:28     72\n",
       "2018-08-12 00:00:29    407\n",
       "                      ... \n",
       "2018-08-12 00:01:10    195\n",
       "2018-08-12 00:01:11    472\n",
       "2018-08-12 00:01:12    250\n",
       "2018-08-12 00:01:13    383\n",
       "2018-08-12 00:01:14    190\n",
       "2018-08-12 00:01:15    447\n",
       "2018-08-12 00:01:16    112\n",
       "2018-08-12 00:01:17    456\n",
       "2018-08-12 00:01:18    324\n",
       "2018-08-12 00:01:19    396\n",
       "2018-08-12 00:01:20    474\n",
       "2018-08-12 00:01:21     64\n",
       "2018-08-12 00:01:22     93\n",
       "2018-08-12 00:01:23     31\n",
       "2018-08-12 00:01:24    300\n",
       "2018-08-12 00:01:25    207\n",
       "2018-08-12 00:01:26    430\n",
       "2018-08-12 00:01:27     70\n",
       "2018-08-12 00:01:28    494\n",
       "2018-08-12 00:01:29    152\n",
       "2018-08-12 00:01:30    123\n",
       "2018-08-12 00:01:31    298\n",
       "2018-08-12 00:01:32     86\n",
       "2018-08-12 00:01:33    401\n",
       "2018-08-12 00:01:34    348\n",
       "2018-08-12 00:01:35    369\n",
       "2018-08-12 00:01:36      9\n",
       "2018-08-12 00:01:37     21\n",
       "2018-08-12 00:01:38    329\n",
       "2018-08-12 00:01:39    171\n",
       "Freq: S, Length: 100, dtype: int64"
      ]
     },
     "execution_count": 84,
     "metadata": {},
     "output_type": "execute_result"
    }
   ],
   "source": [
    "rng = pd.date_range('08/12/2018', periods = 100, freq = 'S')\n",
    "ts = pd.Series(np.random.randint(0, 500, len(rng)), rng)\n",
    "ts"
   ]
  },
  {
   "cell_type": "code",
   "execution_count": 85,
   "metadata": {
    "hidden": true
   },
   "outputs": [
    {
     "data": {
      "text/plain": [
       "2018-08-12 00:00:00+00:00    115\n",
       "2018-08-12 00:00:01+00:00    468\n",
       "2018-08-12 00:00:02+00:00     98\n",
       "2018-08-12 00:00:03+00:00    376\n",
       "2018-08-12 00:00:04+00:00      7\n",
       "2018-08-12 00:00:05+00:00    460\n",
       "2018-08-12 00:00:06+00:00     29\n",
       "2018-08-12 00:00:07+00:00    115\n",
       "2018-08-12 00:00:08+00:00    342\n",
       "2018-08-12 00:00:09+00:00     92\n",
       "2018-08-12 00:00:10+00:00    116\n",
       "2018-08-12 00:00:11+00:00    489\n",
       "2018-08-12 00:00:12+00:00     71\n",
       "2018-08-12 00:00:13+00:00    180\n",
       "2018-08-12 00:00:14+00:00    139\n",
       "2018-08-12 00:00:15+00:00    317\n",
       "2018-08-12 00:00:16+00:00    427\n",
       "2018-08-12 00:00:17+00:00    227\n",
       "2018-08-12 00:00:18+00:00    133\n",
       "2018-08-12 00:00:19+00:00     70\n",
       "2018-08-12 00:00:20+00:00    497\n",
       "2018-08-12 00:00:21+00:00     82\n",
       "2018-08-12 00:00:22+00:00    302\n",
       "2018-08-12 00:00:23+00:00     95\n",
       "2018-08-12 00:00:24+00:00    374\n",
       "2018-08-12 00:00:25+00:00    456\n",
       "2018-08-12 00:00:26+00:00    272\n",
       "2018-08-12 00:00:27+00:00    465\n",
       "2018-08-12 00:00:28+00:00     72\n",
       "2018-08-12 00:00:29+00:00    407\n",
       "                            ... \n",
       "2018-08-12 00:01:10+00:00    195\n",
       "2018-08-12 00:01:11+00:00    472\n",
       "2018-08-12 00:01:12+00:00    250\n",
       "2018-08-12 00:01:13+00:00    383\n",
       "2018-08-12 00:01:14+00:00    190\n",
       "2018-08-12 00:01:15+00:00    447\n",
       "2018-08-12 00:01:16+00:00    112\n",
       "2018-08-12 00:01:17+00:00    456\n",
       "2018-08-12 00:01:18+00:00    324\n",
       "2018-08-12 00:01:19+00:00    396\n",
       "2018-08-12 00:01:20+00:00    474\n",
       "2018-08-12 00:01:21+00:00     64\n",
       "2018-08-12 00:01:22+00:00     93\n",
       "2018-08-12 00:01:23+00:00     31\n",
       "2018-08-12 00:01:24+00:00    300\n",
       "2018-08-12 00:01:25+00:00    207\n",
       "2018-08-12 00:01:26+00:00    430\n",
       "2018-08-12 00:01:27+00:00     70\n",
       "2018-08-12 00:01:28+00:00    494\n",
       "2018-08-12 00:01:29+00:00    152\n",
       "2018-08-12 00:01:30+00:00    123\n",
       "2018-08-12 00:01:31+00:00    298\n",
       "2018-08-12 00:01:32+00:00     86\n",
       "2018-08-12 00:01:33+00:00    401\n",
       "2018-08-12 00:01:34+00:00    348\n",
       "2018-08-12 00:01:35+00:00    369\n",
       "2018-08-12 00:01:36+00:00      9\n",
       "2018-08-12 00:01:37+00:00     21\n",
       "2018-08-12 00:01:38+00:00    329\n",
       "2018-08-12 00:01:39+00:00    171\n",
       "Freq: S, Length: 100, dtype: int64"
      ]
     },
     "execution_count": 85,
     "metadata": {},
     "output_type": "execute_result"
    }
   ],
   "source": [
    "ts_utc = ts.tz_localize('UTC')\n",
    "ts_utc"
   ]
  },
  {
   "cell_type": "code",
   "execution_count": 86,
   "metadata": {
    "hidden": true
   },
   "outputs": [
    {
     "data": {
      "text/plain": [
       "2018-08-11 20:00:00-04:00    115\n",
       "2018-08-11 20:00:01-04:00    468\n",
       "2018-08-11 20:00:02-04:00     98\n",
       "2018-08-11 20:00:03-04:00    376\n",
       "2018-08-11 20:00:04-04:00      7\n",
       "2018-08-11 20:00:05-04:00    460\n",
       "2018-08-11 20:00:06-04:00     29\n",
       "2018-08-11 20:00:07-04:00    115\n",
       "2018-08-11 20:00:08-04:00    342\n",
       "2018-08-11 20:00:09-04:00     92\n",
       "2018-08-11 20:00:10-04:00    116\n",
       "2018-08-11 20:00:11-04:00    489\n",
       "2018-08-11 20:00:12-04:00     71\n",
       "2018-08-11 20:00:13-04:00    180\n",
       "2018-08-11 20:00:14-04:00    139\n",
       "2018-08-11 20:00:15-04:00    317\n",
       "2018-08-11 20:00:16-04:00    427\n",
       "2018-08-11 20:00:17-04:00    227\n",
       "2018-08-11 20:00:18-04:00    133\n",
       "2018-08-11 20:00:19-04:00     70\n",
       "2018-08-11 20:00:20-04:00    497\n",
       "2018-08-11 20:00:21-04:00     82\n",
       "2018-08-11 20:00:22-04:00    302\n",
       "2018-08-11 20:00:23-04:00     95\n",
       "2018-08-11 20:00:24-04:00    374\n",
       "2018-08-11 20:00:25-04:00    456\n",
       "2018-08-11 20:00:26-04:00    272\n",
       "2018-08-11 20:00:27-04:00    465\n",
       "2018-08-11 20:00:28-04:00     72\n",
       "2018-08-11 20:00:29-04:00    407\n",
       "                            ... \n",
       "2018-08-11 20:01:10-04:00    195\n",
       "2018-08-11 20:01:11-04:00    472\n",
       "2018-08-11 20:01:12-04:00    250\n",
       "2018-08-11 20:01:13-04:00    383\n",
       "2018-08-11 20:01:14-04:00    190\n",
       "2018-08-11 20:01:15-04:00    447\n",
       "2018-08-11 20:01:16-04:00    112\n",
       "2018-08-11 20:01:17-04:00    456\n",
       "2018-08-11 20:01:18-04:00    324\n",
       "2018-08-11 20:01:19-04:00    396\n",
       "2018-08-11 20:01:20-04:00    474\n",
       "2018-08-11 20:01:21-04:00     64\n",
       "2018-08-11 20:01:22-04:00     93\n",
       "2018-08-11 20:01:23-04:00     31\n",
       "2018-08-11 20:01:24-04:00    300\n",
       "2018-08-11 20:01:25-04:00    207\n",
       "2018-08-11 20:01:26-04:00    430\n",
       "2018-08-11 20:01:27-04:00     70\n",
       "2018-08-11 20:01:28-04:00    494\n",
       "2018-08-11 20:01:29-04:00    152\n",
       "2018-08-11 20:01:30-04:00    123\n",
       "2018-08-11 20:01:31-04:00    298\n",
       "2018-08-11 20:01:32-04:00     86\n",
       "2018-08-11 20:01:33-04:00    401\n",
       "2018-08-11 20:01:34-04:00    348\n",
       "2018-08-11 20:01:35-04:00    369\n",
       "2018-08-11 20:01:36-04:00      9\n",
       "2018-08-11 20:01:37-04:00     21\n",
       "2018-08-11 20:01:38-04:00    329\n",
       "2018-08-11 20:01:39-04:00    171\n",
       "Freq: S, Length: 100, dtype: int64"
      ]
     },
     "execution_count": 86,
     "metadata": {},
     "output_type": "execute_result"
    }
   ],
   "source": [
    "ts_utc.tz_convert('US/Eastern')"
   ]
  },
  {
   "cell_type": "code",
   "execution_count": 87,
   "metadata": {
    "hidden": true
   },
   "outputs": [
    {
     "data": {
      "text/plain": [
       "2018-08-31   -0.091569\n",
       "2018-09-30   -0.872166\n",
       "2018-10-31   -0.551348\n",
       "2018-11-30    0.111222\n",
       "2018-12-31   -0.095401\n",
       "Freq: M, dtype: float64"
      ]
     },
     "execution_count": 87,
     "metadata": {},
     "output_type": "execute_result"
    }
   ],
   "source": [
    "rng = pd.date_range('08/12/2018',periods = 5,freq='M')\n",
    "ts = pd.Series(np.random.randn(len(rng)), index = rng)\n",
    "ts"
   ]
  },
  {
   "cell_type": "code",
   "execution_count": 88,
   "metadata": {
    "hidden": true
   },
   "outputs": [
    {
     "data": {
      "text/plain": [
       "2018-08   -0.091569\n",
       "2018-09   -0.872166\n",
       "2018-10   -0.551348\n",
       "2018-11    0.111222\n",
       "2018-12   -0.095401\n",
       "Freq: M, dtype: float64"
      ]
     },
     "execution_count": 88,
     "metadata": {},
     "output_type": "execute_result"
    }
   ],
   "source": [
    "ps = ts.to_period()\n",
    "ps"
   ]
  },
  {
   "cell_type": "code",
   "execution_count": 89,
   "metadata": {
    "hidden": true
   },
   "outputs": [
    {
     "data": {
      "text/plain": [
       "2018-08-01   -0.091569\n",
       "2018-09-01   -0.872166\n",
       "2018-10-01   -0.551348\n",
       "2018-11-01    0.111222\n",
       "2018-12-01   -0.095401\n",
       "Freq: MS, dtype: float64"
      ]
     },
     "execution_count": 89,
     "metadata": {},
     "output_type": "execute_result"
    }
   ],
   "source": [
    "ps.to_timestamp()\n"
   ]
  },
  {
   "cell_type": "code",
   "execution_count": 90,
   "metadata": {
    "hidden": true
   },
   "outputs": [
    {
     "data": {
      "text/plain": [
       "<bound method NDFrame.head of 2018-03-01 09:00    0.855046\n",
       "2018-06-01 09:00    0.752701\n",
       "2018-09-01 09:00    0.908793\n",
       "2018-12-01 09:00    0.759877\n",
       "2019-03-01 09:00    0.193705\n",
       "2019-06-01 09:00    0.048863\n",
       "2019-09-01 09:00    0.979353\n",
       "2019-12-01 09:00    0.078946\n",
       "2020-03-01 09:00    0.689722\n",
       "2020-06-01 09:00    0.510549\n",
       "2020-09-01 09:00    0.490427\n",
       "2020-12-01 09:00    0.146616\n",
       "2021-03-01 09:00    0.384672\n",
       "2021-06-01 09:00    0.724868\n",
       "2021-09-01 09:00    0.972268\n",
       "2021-12-01 09:00    0.212356\n",
       "2022-03-01 09:00    0.065316\n",
       "2022-06-01 09:00    0.717636\n",
       "2022-09-01 09:00    0.513410\n",
       "2022-12-01 09:00    0.459347\n",
       "Freq: H, dtype: float64>"
      ]
     },
     "execution_count": 90,
     "metadata": {},
     "output_type": "execute_result"
    }
   ],
   "source": [
    "prng = pd.period_range('2018Q1','2022Q4',freq ='Q-NOV')\n",
    "ts = pd.Series(np.random.rand(len(prng)),prng)\n",
    "ts.index = (prng.asfreq('M','e')+1).asfreq('H','s') +9\n",
    "ts.head"
   ]
  },
  {
   "cell_type": "markdown",
   "metadata": {
    "hidden": true
   },
   "source": [
    "## Categorical"
   ]
  },
  {
   "cell_type": "code",
   "execution_count": 91,
   "metadata": {
    "hidden": true
   },
   "outputs": [],
   "source": [
    "df = pd.DataFrame({\"id\":[1,2,3,4,5,6], \"raw_grade\":['a', 'b', 'b', 'a', 'a', 'e']})"
   ]
  },
  {
   "cell_type": "code",
   "execution_count": 92,
   "metadata": {
    "hidden": true
   },
   "outputs": [
    {
     "data": {
      "text/plain": [
       "0    a\n",
       "1    b\n",
       "2    b\n",
       "3    a\n",
       "4    a\n",
       "5    e\n",
       "Name: grade, dtype: category\n",
       "Categories (3, object): [a, b, e]"
      ]
     },
     "execution_count": 92,
     "metadata": {},
     "output_type": "execute_result"
    }
   ],
   "source": [
    "df['grade'] = df['raw_grade'].astype('category')\n",
    "df['grade']"
   ]
  },
  {
   "cell_type": "code",
   "execution_count": 93,
   "metadata": {
    "hidden": true
   },
   "outputs": [
    {
     "data": {
      "text/html": [
       "<div>\n",
       "<style scoped>\n",
       "    .dataframe tbody tr th:only-of-type {\n",
       "        vertical-align: middle;\n",
       "    }\n",
       "\n",
       "    .dataframe tbody tr th {\n",
       "        vertical-align: top;\n",
       "    }\n",
       "\n",
       "    .dataframe thead th {\n",
       "        text-align: right;\n",
       "    }\n",
       "</style>\n",
       "<table border=\"1\" class=\"dataframe\">\n",
       "  <thead>\n",
       "    <tr style=\"text-align: right;\">\n",
       "      <th></th>\n",
       "      <th>id</th>\n",
       "      <th>raw_grade</th>\n",
       "      <th>grade</th>\n",
       "    </tr>\n",
       "  </thead>\n",
       "  <tbody>\n",
       "    <tr>\n",
       "      <th>0</th>\n",
       "      <td>1</td>\n",
       "      <td>a</td>\n",
       "      <td>very good</td>\n",
       "    </tr>\n",
       "    <tr>\n",
       "      <th>1</th>\n",
       "      <td>2</td>\n",
       "      <td>b</td>\n",
       "      <td>good</td>\n",
       "    </tr>\n",
       "    <tr>\n",
       "      <th>2</th>\n",
       "      <td>3</td>\n",
       "      <td>b</td>\n",
       "      <td>good</td>\n",
       "    </tr>\n",
       "    <tr>\n",
       "      <th>3</th>\n",
       "      <td>4</td>\n",
       "      <td>a</td>\n",
       "      <td>very good</td>\n",
       "    </tr>\n",
       "    <tr>\n",
       "      <th>4</th>\n",
       "      <td>5</td>\n",
       "      <td>a</td>\n",
       "      <td>very good</td>\n",
       "    </tr>\n",
       "    <tr>\n",
       "      <th>5</th>\n",
       "      <td>6</td>\n",
       "      <td>e</td>\n",
       "      <td>very bad</td>\n",
       "    </tr>\n",
       "  </tbody>\n",
       "</table>\n",
       "</div>"
      ],
      "text/plain": [
       "   id raw_grade      grade\n",
       "0   1         a  very good\n",
       "1   2         b       good\n",
       "2   3         b       good\n",
       "3   4         a  very good\n",
       "4   5         a  very good\n",
       "5   6         e   very bad"
      ]
     },
     "execution_count": 93,
     "metadata": {},
     "output_type": "execute_result"
    }
   ],
   "source": [
    "df['grade'].cat.categories = ['very good','good','very bad']\n",
    "df"
   ]
  },
  {
   "cell_type": "code",
   "execution_count": 94,
   "metadata": {
    "hidden": true
   },
   "outputs": [
    {
     "data": {
      "text/plain": [
       "0    very good\n",
       "1         good\n",
       "2         good\n",
       "3    very good\n",
       "4    very good\n",
       "5     very bad\n",
       "Name: grade, dtype: category\n",
       "Categories (5, object): [very bad, bad, medium, good, very good]"
      ]
     },
     "execution_count": 94,
     "metadata": {},
     "output_type": "execute_result"
    }
   ],
   "source": [
    "df['grade'] = df['grade'].cat.set_categories(['very bad','bad','medium','good','very good'])\n",
    "df['grade']"
   ]
  },
  {
   "cell_type": "code",
   "execution_count": 95,
   "metadata": {
    "hidden": true
   },
   "outputs": [
    {
     "data": {
      "text/html": [
       "<div>\n",
       "<style scoped>\n",
       "    .dataframe tbody tr th:only-of-type {\n",
       "        vertical-align: middle;\n",
       "    }\n",
       "\n",
       "    .dataframe tbody tr th {\n",
       "        vertical-align: top;\n",
       "    }\n",
       "\n",
       "    .dataframe thead th {\n",
       "        text-align: right;\n",
       "    }\n",
       "</style>\n",
       "<table border=\"1\" class=\"dataframe\">\n",
       "  <thead>\n",
       "    <tr style=\"text-align: right;\">\n",
       "      <th></th>\n",
       "      <th>id</th>\n",
       "      <th>raw_grade</th>\n",
       "      <th>grade</th>\n",
       "    </tr>\n",
       "  </thead>\n",
       "  <tbody>\n",
       "    <tr>\n",
       "      <th>5</th>\n",
       "      <td>6</td>\n",
       "      <td>e</td>\n",
       "      <td>very bad</td>\n",
       "    </tr>\n",
       "    <tr>\n",
       "      <th>1</th>\n",
       "      <td>2</td>\n",
       "      <td>b</td>\n",
       "      <td>good</td>\n",
       "    </tr>\n",
       "    <tr>\n",
       "      <th>2</th>\n",
       "      <td>3</td>\n",
       "      <td>b</td>\n",
       "      <td>good</td>\n",
       "    </tr>\n",
       "    <tr>\n",
       "      <th>0</th>\n",
       "      <td>1</td>\n",
       "      <td>a</td>\n",
       "      <td>very good</td>\n",
       "    </tr>\n",
       "    <tr>\n",
       "      <th>3</th>\n",
       "      <td>4</td>\n",
       "      <td>a</td>\n",
       "      <td>very good</td>\n",
       "    </tr>\n",
       "    <tr>\n",
       "      <th>4</th>\n",
       "      <td>5</td>\n",
       "      <td>a</td>\n",
       "      <td>very good</td>\n",
       "    </tr>\n",
       "  </tbody>\n",
       "</table>\n",
       "</div>"
      ],
      "text/plain": [
       "   id raw_grade      grade\n",
       "5   6         e   very bad\n",
       "1   2         b       good\n",
       "2   3         b       good\n",
       "0   1         a  very good\n",
       "3   4         a  very good\n",
       "4   5         a  very good"
      ]
     },
     "execution_count": 95,
     "metadata": {},
     "output_type": "execute_result"
    }
   ],
   "source": [
    "df.sort_values(by ='grade')"
   ]
  },
  {
   "cell_type": "code",
   "execution_count": 96,
   "metadata": {
    "hidden": true
   },
   "outputs": [
    {
     "data": {
      "text/plain": [
       "grade\n",
       "very bad     1\n",
       "bad          0\n",
       "medium       0\n",
       "good         2\n",
       "very good    3\n",
       "dtype: int64"
      ]
     },
     "execution_count": 96,
     "metadata": {},
     "output_type": "execute_result"
    }
   ],
   "source": [
    "df.groupby('grade').size()"
   ]
  },
  {
   "cell_type": "markdown",
   "metadata": {
    "hidden": true
   },
   "source": [
    "## Ploting"
   ]
  },
  {
   "cell_type": "code",
   "execution_count": 97,
   "metadata": {
    "hidden": true
   },
   "outputs": [],
   "source": [
    "ts = pd.DataFrame(np.random.randn(1000), index = pd.date_range('1/1/2000', periods=1000))\n",
    "ts = ts.cumsum()"
   ]
  },
  {
   "cell_type": "code",
   "execution_count": 98,
   "metadata": {
    "hidden": true
   },
   "outputs": [
    {
     "data": {
      "text/plain": [
       "<matplotlib.axes._subplots.AxesSubplot at 0x7fd7d1970668>"
      ]
     },
     "execution_count": 98,
     "metadata": {},
     "output_type": "execute_result"
    },
    {
     "data": {
      "image/png": "[encoded data removed]",
      "text/plain": [
       "<Figure size 432x288 with 1 Axes>"
      ]
     },
     "metadata": {
      "needs_background": "light"
     },
     "output_type": "display_data"
    }
   ],
   "source": [
    "ts.plot()"
   ]
  },
  {
   "cell_type": "code",
   "execution_count": 99,
   "metadata": {
    "hidden": true
   },
   "outputs": [],
   "source": [
    "df = pd.DataFrame(np.random.randn(1000,4), index = ts.index, columns = ['A','B','C','D'])\n",
    "df = df.cumsum()"
   ]
  },
  {
   "cell_type": "code",
   "execution_count": 100,
   "metadata": {
    "hidden": true
   },
   "outputs": [
    {
     "data": {
      "text/plain": [
       "<matplotlib.legend.Legend at 0x7fd7d16535c0>"
      ]
     },
     "execution_count": 100,
     "metadata": {},
     "output_type": "execute_result"
    },
    {
     "data": {
      "text/plain": [
       "<Figure size 432x288 with 0 Axes>"
      ]
     },
     "metadata": {},
     "output_type": "display_data"
    },
    {
     "data": {
      "image/png": "[encoded data removed]",
      "text/plain": [
       "<Figure size 432x288 with 1 Axes>"
      ]
     },
     "metadata": {
      "needs_background": "light"
     },
     "output_type": "display_data"
    }
   ],
   "source": [
    "plt.figure()\n",
    "df.plot()\n",
    "plt.legend(loc = 'best')"
   ]
  },
  {
   "cell_type": "markdown",
   "metadata": {
    "hidden": true
   },
   "source": [
    "## Writing and reading diffrent file format"
   ]
  },
  {
   "cell_type": "code",
   "execution_count": 101,
   "metadata": {
    "hidden": true
   },
   "outputs": [],
   "source": [
    "#reading and writing csv\n",
    "#pd.read_csv('foo.csv')\n",
    "#df.to_csv('foo.csv')"
   ]
  },
  {
   "cell_type": "code",
   "execution_count": 102,
   "metadata": {
    "hidden": true
   },
   "outputs": [],
   "source": [
    "#reading and writing hdf5 store\n",
    "#pd.read_hdf('foo.h5','df')\n",
    "#df.to_hdf('foo.h5','df')"
   ]
  },
  {
   "cell_type": "code",
   "execution_count": 103,
   "metadata": {
    "hidden": true
   },
   "outputs": [],
   "source": [
    "#reading and writing MS-Excel\n",
    "#pd.read_excel('foo.xlsx','sheet1',index_col= None,na_values=['NA'])\n",
    "#df.to_excel('foo.xlsx',sheet_name='sheet1')"
   ]
  },
  {
   "cell_type": "code",
   "execution_count": null,
   "metadata": {
    "hidden": true
   },
   "outputs": [],
   "source": []
  }
 ],
 "metadata": {
  "kernelspec": {
   "display_name": "Python 3",
   "language": "python",
   "name": "python3"
  },
  "language_info": {
   "codemirror_mode": {
    "name": "ipython",
    "version": 3
   },
   "file_extension": ".py",
   "mimetype": "text/x-python",
   "name": "python",
   "nbconvert_exporter": "python",
   "pygments_lexer": "ipython3",
   "version": "3.7.1"
  },
  "toc": {
   "base_numbering": 1,
   "nav_menu": {},
   "number_sections": true,
   "sideBar": true,
   "skip_h1_title": false,
   "title_cell": "Table of Contents",
   "title_sidebar": "Contents",
   "toc_cell": false,
   "toc_position": {},
   "toc_section_display": true,
   "toc_window_display": false
  }
 },
 "nbformat": 4,
 "nbformat_minor": 2
}
